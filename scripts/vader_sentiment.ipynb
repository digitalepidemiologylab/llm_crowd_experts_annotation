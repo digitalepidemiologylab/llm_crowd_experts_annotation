{
 "cells": [
  {
   "cell_type": "markdown",
   "id": "e90b7c28",
   "metadata": {},
   "source": [
    "# Import libraries and data"
   ]
  },
  {
   "cell_type": "code",
   "execution_count": 3,
   "id": "433219e8-8f66-4be5-a3b8-e39fca644032",
   "metadata": {
    "tags": []
   },
   "outputs": [],
   "source": [
    "# Import libraries\n",
    "import os\n",
    "import pandas as pd\n",
    "import numpy as np\n",
    "from vaderSentiment.vaderSentiment import SentimentIntensityAnalyzer"
   ]
  },
  {
   "cell_type": "code",
   "execution_count": 11,
   "id": "5096b4ba",
   "metadata": {
    "scrolled": true,
    "tags": []
   },
   "outputs": [
    {
     "name": "stdout",
     "output_type": "stream",
     "text": [
      "<class 'pandas.core.frame.DataFrame'>\n",
      "RangeIndex: 1000 entries, 0 to 999\n",
      "Data columns (total 20 columns):\n",
      " #   Column                               Non-Null Count  Dtype \n",
      "---  ------                               --------------  ----- \n",
      " 0   index                                1000 non-null   int64 \n",
      " 1   text                                 1000 non-null   object\n",
      " 2   General Sentiment                    1000 non-null   object\n",
      " 3   Unnamed: 2                           1000 non-null   object\n",
      " 4   Unnamed: 3                           1000 non-null   object\n",
      " 5   Unnamed: 4                           1000 non-null   object\n",
      " 6   Unnamed: 5                           1000 non-null   object\n",
      " 7   Unnamed: 6                           1000 non-null   int64 \n",
      " 8   Unnamed: 7                           1000 non-null   int64 \n",
      " 9   Unnamed: 8                           1000 non-null   int64 \n",
      " 10  Unnamed: 9                           1000 non-null   object\n",
      " 11  Stance/attitude towards vaccination  1000 non-null   object\n",
      " 12  Unnamed: 11                          1000 non-null   object\n",
      " 13  Unnamed: 12                          1000 non-null   object\n",
      " 14  Unnamed: 13                          1000 non-null   object\n",
      " 15  Unnamed: 14                          1000 non-null   object\n",
      " 16  Unnamed: 15                          1000 non-null   int64 \n",
      " 17  Unnamed: 16                          1000 non-null   int64 \n",
      " 18  Unnamed: 17                          1000 non-null   int64 \n",
      " 19  Unnamed: 18                          1000 non-null   object\n",
      "dtypes: int64(7), object(13)\n",
      "memory usage: 156.4+ KB\n"
     ]
    }
   ],
   "source": [
    "# Get annotated tweets\n",
    "epfl_df = pd.read_excel('../data/local/epfl_annotated_tweets.xlsx', 'Comparison', skiprows =[1]).reset_index()\n",
    "\n",
    "epfl_df.info()"
   ]
  },
  {
   "cell_type": "markdown",
   "id": "2f1d4fd5",
   "metadata": {},
   "source": [
    "# Get sentiment using vader"
   ]
  },
  {
   "cell_type": "code",
   "execution_count": 22,
   "id": "1a0881a0",
   "metadata": {},
   "outputs": [],
   "source": [
    "analyzer = SentimentIntensityAnalyzer()"
   ]
  },
  {
   "cell_type": "code",
   "execution_count": 32,
   "id": "c24e774c",
   "metadata": {},
   "outputs": [],
   "source": [
    "text = []\n",
    "probability_positive = []\n",
    "probability_negative = []\n",
    "probability_neutral = []\n",
    "sentiment_score = []"
   ]
  },
  {
   "cell_type": "code",
   "execution_count": 33,
   "id": "5e181532",
   "metadata": {},
   "outputs": [],
   "source": [
    "for i in range(0, 999):\n",
    "    tweet = epfl_df.iloc[i,1]\n",
    "    sentiment = analyzer.polarity_scores(tweet)\n",
    "    text.append(tweet)\n",
    "    probability_positive.append(sentiment['pos'])\n",
    "    probability_negative.append(sentiment['neg']) \n",
    "    probability_neutral.append(sentiment['neu'])\n",
    "    sentiment_score.append(sentiment['compound'])"
   ]
  },
  {
   "cell_type": "code",
   "execution_count": 34,
   "id": "bdf81352",
   "metadata": {},
   "outputs": [
    {
     "name": "stdout",
     "output_type": "stream",
     "text": [
      "<class 'pandas.core.frame.DataFrame'>\n",
      "RangeIndex: 999 entries, 0 to 998\n",
      "Data columns (total 5 columns):\n",
      " #   Column                Non-Null Count  Dtype  \n",
      "---  ------                --------------  -----  \n",
      " 0   text                  999 non-null    object \n",
      " 1   probability_positive  999 non-null    float64\n",
      " 2   probability_neutral   999 non-null    float64\n",
      " 3   probability_negative  999 non-null    float64\n",
      " 4   sentiment_score       999 non-null    float64\n",
      "dtypes: float64(4), object(1)\n",
      "memory usage: 39.1+ KB\n"
     ]
    }
   ],
   "source": [
    "df_vader = pd.DataFrame(list(zip(text, probability_positive, probability_neutral, probability_negative, sentiment_score)),\n",
    "                            columns = ['text', 'probability_positive', 'probability_neutral', 'probability_negative', 'sentiment_score'])\n",
    "df_vader.info()"
   ]
  },
  {
   "cell_type": "code",
   "execution_count": 35,
   "id": "420096e4",
   "metadata": {},
   "outputs": [],
   "source": [
    "df_vader.to_csv('../data/local/vader_sentiment.csv')"
   ]
  }
 ],
 "metadata": {
  "kernelspec": {
   "display_name": "Python 3 (ipykernel)",
   "language": "python",
   "name": "python3"
  },
  "language_info": {
   "codemirror_mode": {
    "name": "ipython",
    "version": 3
   },
   "file_extension": ".py",
   "mimetype": "text/x-python",
   "name": "python",
   "nbconvert_exporter": "python",
   "pygments_lexer": "ipython3",
   "version": "3.9.12"
  }
 },
 "nbformat": 4,
 "nbformat_minor": 5
}
