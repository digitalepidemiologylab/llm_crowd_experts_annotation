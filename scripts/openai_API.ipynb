{
 "cells": [
  {
   "cell_type": "markdown",
   "id": "e90b7c28",
   "metadata": {},
   "source": [
    "# Import libraries and data"
   ]
  },
  {
   "cell_type": "code",
   "execution_count": 1,
   "id": "433219e8-8f66-4be5-a3b8-e39fca644032",
   "metadata": {
    "tags": []
   },
   "outputs": [],
   "source": [
    "# Import libraries\n",
    "import os\n",
    "import openai\n",
    "import pandas as pd\n",
    "import numpy as np\n",
    "import openpyxl"
   ]
  },
  {
   "cell_type": "code",
   "execution_count": 2,
   "id": "2c68f056-74fe-4f29-9daf-6bdef5cc0701",
   "metadata": {},
   "outputs": [],
   "source": [
    "# Get OpenAI API secret key (change this file with your own OpenAI key)\n",
    "open_ai_key = open('../data/local/openai_key.txt', 'r').read()\n",
    "openai.api_key = open_ai_key\n",
    "#openai.Model.list()"
   ]
  },
  {
   "cell_type": "code",
   "execution_count": 3,
   "id": "5096b4ba",
   "metadata": {
    "scrolled": true,
    "tags": []
   },
   "outputs": [
    {
     "name": "stdout",
     "output_type": "stream",
     "text": [
      "<class 'pandas.core.frame.DataFrame'>\n",
      "RangeIndex: 999 entries, 0 to 998\n",
      "Data columns (total 22 columns):\n",
      " #   Column        Non-Null Count  Dtype  \n",
      "---  ------        --------------  -----  \n",
      " 0   index         999 non-null    int64  \n",
      " 1   id_tweets     998 non-null    float64\n",
      " 2   text          999 non-null    object \n",
      " 3   id_doc        999 non-null    int64  \n",
      " 4   sent_m        999 non-null    object \n",
      " 5   sent_c        999 non-null    object \n",
      " 6   sent_g        999 non-null    object \n",
      " 7   sent_l        620 non-null    object \n",
      " 8   neutral_sent  620 non-null    float64\n",
      " 9   pos_sent      620 non-null    float64\n",
      " 10  neg_sent      620 non-null    float64\n",
      " 11  agree_sent    999 non-null    int64  \n",
      " 12  neutral_stan  620 non-null    float64\n",
      " 13  pos_stan      620 non-null    float64\n",
      " 14  neg_stan      620 non-null    float64\n",
      " 15  agree_stan    999 non-null    int64  \n",
      " 16  stance_m      999 non-null    object \n",
      " 17  stance_c      999 non-null    object \n",
      " 18  stance_g      999 non-null    object \n",
      " 19  stance_l      620 non-null    object \n",
      " 20  agree_stance  999 non-null    int64  \n",
      " 21  stance_mean   620 non-null    float64\n",
      "dtypes: float64(8), int64(5), object(9)\n",
      "memory usage: 171.8+ KB\n"
     ]
    }
   ],
   "source": [
    "# Get annotated tweets\n",
    "epfl_df = pd.read_csv('../data/local/epfl_1000_clean_data.csv').reset_index()\n",
    "\n",
    "epfl_df.info()"
   ]
  },
  {
   "cell_type": "markdown",
   "id": "92d7e0ea",
   "metadata": {},
   "source": [
    "# Prompts and loops"
   ]
  },
  {
   "cell_type": "code",
   "execution_count": 4,
   "id": "4a156e87",
   "metadata": {},
   "outputs": [],
   "source": [
    "# Prompt for GPT\n",
    "prompt_raw_1 = \"Give me the sentiment regarding vaccination expressed by the user of the tweet text delimited by triple backticks. \\\n",
    "Use one of the following words: neutral, negative, positive. Include an explanation for the selection of the sentiment. \\\n",
    "```{TWEET_TEXT_HERE}```\""
   ]
  },
  {
   "cell_type": "code",
   "execution_count": 5,
   "id": "f5ecf98f",
   "metadata": {},
   "outputs": [
    {
     "data": {
      "text/plain": [
       "'Give me the sentiment regarding vaccination expressed by the user of the tweet text delimited by triple backticks. Use one of the following words: neutral, negative, positive. Include an explanation for the selection of the sentiment. ```{TWEET_TEXT_HERE}```'"
      ]
     },
     "execution_count": 5,
     "metadata": {},
     "output_type": "execute_result"
    }
   ],
   "source": [
    "prompt_raw_1"
   ]
  },
  {
   "cell_type": "code",
   "execution_count": 5,
   "id": "884f2f49",
   "metadata": {},
   "outputs": [],
   "source": [
    "prompt_raw_0 = \"Give me the sentiment regarding vaccination in tweet text delimited by triple backticks. \\\n",
    "Use one of the following words: neutral, negative, positive. \\\n",
    "```{TWEET_TEXT_HERE}```\""
   ]
  },
  {
   "cell_type": "code",
   "execution_count": 6,
   "id": "bc4e54ef",
   "metadata": {},
   "outputs": [],
   "source": [
    "# Prompt for GPT\n",
    "prompt_raw_1 = \"Give me the sentiment regarding vaccination expressed by the user in the tweet text delimited by triple backticks. \\\n",
    "Use one of the following words: neutral, negative, positive. Include an explanation for the selection of the sentiment. \\\n",
    "```{TWEET_TEXT_HERE}```\""
   ]
  },
  {
   "cell_type": "code",
   "execution_count": 7,
   "id": "327f7b21",
   "metadata": {},
   "outputs": [],
   "source": [
    "prompt_raw_3 = \"Give me the sentiment regarding vaccination expressed by the user in the tweet text delimited by triple backticks. \\\n",
    "Use one of the following words: neutral, negative, positive. Include an explanation for the selection of the sentiment. \\\n",
    "\\\n",
    "News, factual or objective tweets as well as generally ambiguous examples should be classified as neutral.\\\n",
    "\\\n",
    "Examples of positive tweets: \\\n",
    "* Some news of hope. Hopefully this vaccine becomes success and India becomes leader again. \\\n",
    "* This has been a horrendous year for so many people who have lost loved ones. It would be wonderful if the #vaccine was effective and could be administered world-wide to prevent further loss. My fingers and toes are crossed. \\\n",
    "\\\n",
    "Examples of neutral tweets: \\\n",
    "* AstraZeneca Pauses Vaccine Trial After Test Subject Gets Ill <url> \\\n",
    "* The federal government outlined a sweeping plan Wednesday to make vaccines for COVID-19 available for free to all Americans. <url> \\\n",
    "\\\n",
    "Examples of negative tweets: \\\n",
    "* There's a reason these vaccines can take up to 20 years to reach market. Say no to the vaccine. \\\n",
    "* Vaccines may not be good for kids like the Dengue Fever vaccine. You’re playing with fire. <url> \\\n",
    "\\\n",
    "```{TWEET_TEXT_HERE}```\""
   ]
  },
  {
   "cell_type": "code",
   "execution_count": 8,
   "id": "3cd29cf2",
   "metadata": {},
   "outputs": [],
   "source": [
    "prompt_raw_4 = \"Give me the sentiment regarding vaccination expressed by the user in the tweet text delimited by triple backticks. \\\n",
    "Use one of the following words: neutral, negative, positive. Include an explanation for the selection of the sentiment. \\\n",
    "\\\n",
    "News, factual or objective tweets as well as generally ambiguous examples should be classified as neutral except if:\\\n",
    "* User agrees with a positive statement on vaccines or vaccinations which should be classified as positive \\\n",
    "* User disagrees with a positive statement on vaccines or vaccinations which should be classified as negative \\\n",
    "* User is angry or not happy when vaccines are not available which should be classified as positive \\\n",
    "* User is angry or not happy with a negative statement on vaccines or vaccinations which should be classified as positive \\\n",
    "* User is happy with a negative statement on vaccines or vaccinations which should be classified as negative \\\n",
    "* User is enquiring for availability or increased availability of a vaccine which should be classified as positive \\\n",
    "\\\n",
    "Examples of positive tweets: \\\n",
    "* Some news of hope. Hopefully this vaccine becomes success and India becomes leader again. \\\n",
    "* This has been a horrendous year for so many people who have lost loved ones. It would be wonderful if the #vaccine was effective and could be administered world-wide to prevent further loss. My fingers and toes are crossed. \\\n",
    "* A healthy recovery of the world from COVID-19 is only possible when no one is left behind making it necessary that the vaccine is accessible to all without any hurdle. #HealthForAll #Equality #Equity #publichealth #awarness. \\\n",
    "\\\n",
    "Examples of neutral tweets: \\\n",
    "* AstraZeneca Pauses Vaccine Trial After Test Subject Gets Ill <url> \\\n",
    "* The federal government outlined a sweeping plan Wednesday to make vaccines for COVID-19 available for free to all Americans. <url> \\\n",
    "\\\n",
    "Examples of negative tweets: \\\n",
    "* There's a reason these vaccines can take up to 20 years to reach market. Say no to the vaccine. \\\n",
    "* Vaccines may not be good for kids like the Dengue Fever vaccine. You’re playing with fire. <url> \\\n",
    "\\\n",
    "```{TWEET_TEXT_HERE}```\""
   ]
  },
  {
   "cell_type": "code",
   "execution_count": 9,
   "id": "1f0d844b",
   "metadata": {},
   "outputs": [],
   "source": [
    "prompt_raw_5 = \"Give me the sentiment regarding vaccination expressed by the user in the tweet text delimited by triple backticks. \\\n",
    "Use one of the following words: neutral, negative, positive. Include an explanation for the selection of the sentiment. \\\n",
    "\\\n",
    "News, factual or objective tweets as well as generally ambiguous examples should be classified as neutral except if:\\\n",
    "* User agrees with a positive statement on vaccines or vaccinations which should be classified as positive \\\n",
    "* User disagrees with a positive statement on vaccines or vaccinations which should be classified as negative \\\n",
    "* User is angry or not happy when vaccines are not available which should be classified as positive \\\n",
    "* User is angry or not happy with a negative statement on vaccines or vaccinations which should be classified as positive \\\n",
    "* User is happy with a negative statement on vaccines or vaccinations which should be classified as negative \\\n",
    "* User is enquiring for availability or increased availability of a vaccine which should be classified as positive \\\n",
    "\\\n",
    "Classify as positive if:\\\n",
    "* The user expresses hope or anticipation towards a vaccine.\\\n",
    "* The user expresses desire for having more vaccine doses. \\\n",
    "* The user is ironic on people being negative towards vaccine (e.g., I am not getting a vaccine because they are microchipping you. Posted on social media , on a phone..that has all your info, your location...and the info is being shared and sold ...Ummmm ok) \\\n",
    "\\\n",
    "Examples of positive tweets: \\\n",
    "* Some news of hope. Hopefully this vaccine becomes success and India becomes leader again. \\\n",
    "* This has been a horrendous year for so many people who have lost loved ones. It would be wonderful if the #vaccine was effective and could be administered world-wide to prevent further loss. My fingers and toes are crossed. \\\n",
    "* A healthy recovery of the world from COVID-19 is only possible when no one is left behind making it necessary that the vaccine is accessible to all without any hurdle. #HealthForAll #Equality #Equity #publichealth #awarness. \\\n",
    "* IF I SEE ONE MORE FUCKING POLITICIAN GET THE VACCINE BEFORE FRONT LINE WORKERS I'M GONNA LOSE MY SHIT!! \\\n",
    "* When will we learn to respect our scientific community ? Pathetic that ppl want to play politics on the vaccine \\\n",
    "* @user @user @user etc if U have so much problem so plz don't get them vaccinated, we know, U have enough money for treatment. U guys fall mild sick, immediately rush to medanta hospital.\\\n",
    "* $MRNA recieved approval across the pond in the U.K. demand increasing globally for a vaccine as cases rise. #stocks #finance #markets #investing #money #wealth #economy #OptionsTrading \\\n",
    "* On the other hand, they're more likely to receive much more effective and safe vaccines, so it's not quite as bad as you might think \\\n",
    "\\\n",
    "Examples of neutral tweets: \\\n",
    "* AstraZeneca Pauses Vaccine Trial After Test Subject Gets Ill <url> \\\n",
    "* The federal government outlined a sweeping plan Wednesday to make vaccines for COVID-19 available for free to all Americans. <url> \\\n",
    "\\\n",
    "Examples of negative tweets: \\\n",
    "* There's a reason these vaccines can take up to 20 years to reach market. Say no to the vaccine. \\\n",
    "* Vaccines may not be good for kids like the Dengue Fever vaccine. You’re playing with fire. <url> \\\n",
    "\\\n",
    "```{TWEET_TEXT_HERE}```\""
   ]
  },
  {
   "cell_type": "code",
   "execution_count": 10,
   "id": "d6dc0272",
   "metadata": {},
   "outputs": [],
   "source": [
    "prompt_raw_50 = \"Give me the sentiment regarding vaccination expressed by the user in the tweet text delimited by triple backticks. \\\n",
    "Select a value between -2 (very negative), -1 (negative), 0 (neutral), +1 (positive) and +2 (very positive). Include an explanation for the selection of the sentiment. \\\n",
    "\\\n",
    "News, factual or objective tweets as well as generally ambiguous examples should be classified as 0 except if:\\\n",
    "* User agrees with a positive statement on vaccines or vaccinations which should be classified as positive \\\n",
    "* User disagrees with a positive statement on vaccines or vaccinations which should be classified as negative \\\n",
    "* User is angry or not happy when vaccines are not available which should be classified as positive \\\n",
    "* User is angry or not happy with a negative statement on vaccines or vaccinations which should be classified as positive \\\n",
    "* User is happy with a negative statement on vaccines or vaccinations which should be classified as negative \\\n",
    "* User is enquiring for availability or increased availability of a vaccine which should be classified as positive \\\n",
    "\\\n",
    "Classify as negative or very negative if:\\\n",
    "* The user expresses hope or anticipation towards a vaccine.\\\n",
    "* The user expresses desire for having more vaccine doses. \\\n",
    "* The user is ironic on people being negative towards vaccine (e.g., I am not getting a vaccine because they are microchipping you. Posted on social media , on a phone..that has all your info, your location...and the info is being shared and sold ...Ummmm ok) \\\n",
    "\\\n",
    "Examples of positive or very positive tweets: \\\n",
    "* Some news of hope. Hopefully this vaccine becomes success and India becomes leader again. \\\n",
    "* This has been a horrendous year for so many people who have lost loved ones. It would be wonderful if the #vaccine was effective and could be administered world-wide to prevent further loss. My fingers and toes are crossed. \\\n",
    "* A healthy recovery of the world from COVID-19 is only possible when no one is left behind making it necessary that the vaccine is accessible to all without any hurdle. #HealthForAll #Equality #Equity #publichealth #awarness. \\\n",
    "* IF I SEE ONE MORE FUCKING POLITICIAN GET THE VACCINE BEFORE FRONT LINE WORKERS I'M GONNA LOSE MY SHIT!! \\\n",
    "* When will we learn to respect our scientific community ? Pathetic that ppl want to play politics on the vaccine \\\n",
    "* @user @user @user etc if U have so much problem so plz don't get them vaccinated, we know, U have enough money for treatment. U guys fall mild sick, immediately rush to medanta hospital.\\\n",
    "* $MRNA recieved approval across the pond in the U.K. demand increasing globally for a vaccine as cases rise. #stocks #finance #markets #investing #money #wealth #economy #OptionsTrading \\\n",
    "* On the other hand, they're more likely to receive much more effective and safe vaccines, so it's not quite as bad as you might think \\\n",
    "\\\n",
    "Examples of neutral tweets: \\\n",
    "* AstraZeneca Pauses Vaccine Trial After Test Subject Gets Ill <url> \\\n",
    "* The federal government outlined a sweeping plan Wednesday to make vaccines for COVID-19 available for free to all Americans. <url> \\\n",
    "\\\n",
    "Examples of negative or very negative tweets: \\\n",
    "* There's a reason these vaccines can take up to 20 years to reach market. Say no to the vaccine. \\\n",
    "* Vaccines may not be good for kids like the Dengue Fever vaccine. You’re playing with fire. <url> \\\n",
    "\\\n",
    "```{TWEET_TEXT_HERE}```\""
   ]
  },
  {
   "cell_type": "code",
   "execution_count": 11,
   "id": "43425117",
   "metadata": {},
   "outputs": [],
   "source": [
    "prompt_raw_6 = \"Give me the sentiment regarding vaccination expressed by the user in the tweet text delimited by triple backticks. \\\n",
    "Use one of the following words: neutral, negative, positive. Include an explanation for the selection of the sentiment. \\\n",
    "\\\n",
    "News, factual or objective tweets as well as generally ambiguous examples should be classified as neutral except if:\\\n",
    "* User agrees with a positive statement on vaccines or vaccinations which should be classified as positive \\\n",
    "* User disagrees with a positive statement on vaccines or vaccinations which should be classified as negative \\\n",
    "* User is angry or not happy when vaccines are not available which should be classified as positive \\\n",
    "* User is angry or not happy with a negative statement on vaccines or vaccinations which should be classified as positive \\\n",
    "* User is happy with a negative statement on vaccines or vaccinations which should be classified as negative \\\n",
    "* User is enquiring for availability or increased availability of a vaccine which should be classified as positive \\\n",
    "\\\n",
    "Classify as positive if:\\\n",
    "* The user expresses hope or anticipation towards a vaccine.\\\n",
    "* The user expresses desire for having more vaccine doses. \\\n",
    "\\\n",
    "Examples of positive tweets: \\\n",
    "* Some news of hope. Hopefully this vaccine becomes success and India becomes leader again. \\\n",
    "* This has been a horrendous year for so many people who have lost loved ones. It would be wonderful if the #vaccine was effective and could be administered world-wide to prevent further loss. My fingers and toes are crossed. \\\n",
    "* A healthy recovery of the world from COVID-19 is only possible when no one is left behind making it necessary that the vaccine is accessible to all without any hurdle. #HealthForAll #Equality #Equity #publichealth #awarness. \\\n",
    "* IF I SEE ONE MORE FUCKING POLITICIAN GET THE VACCINE BEFORE FRONT LINE WORKERS I'M GONNA LOSE MY SHIT!! \\\n",
    "* When will we learn to respect our scientific community ? Pathetic that ppl want to play politics on the vaccine \\\n",
    "* @user @user @user etc if U have so much problem so plz don't get them vaccinated, we know, U have enough money for treatment. U guys fall mild sick, immediately rush to medanta hospital.\\\n",
    "* $MRNA recieved approval across the pond in the U.K. demand increasing globally for a vaccine as cases rise. #stocks #finance #markets #investing #money #wealth #economy #OptionsTrading \\\n",
    "* On the other hand, they're more likely to receive much more effective and safe vaccines, so it's not quite as bad as you might think \\\n",
    "\\\n",
    "Examples of neutral tweets: \\\n",
    "* AstraZeneca Pauses Vaccine Trial After Test Subject Gets Ill <url> \\\n",
    "* The federal government outlined a sweeping plan Wednesday to make vaccines for COVID-19 available for free to all Americans. <url> \\\n",
    "\\\n",
    "Examples of negative tweets: \\\n",
    "* There's a reason these vaccines can take up to 20 years to reach market. Say no to the vaccine. \\\n",
    "* Vaccines may not be good for kids like the Dengue Fever vaccine. You’re playing with fire. <url> \\\n",
    "\\\n",
    "```{TWEET_TEXT_HERE}```\""
   ]
  },
  {
   "cell_type": "code",
   "execution_count": 12,
   "id": "a6fb2649",
   "metadata": {},
   "outputs": [],
   "source": [
    "prompt_raw_7 = \"Give me the sentiment regarding vaccination expressed by the user in the tweet text delimited by triple backticks. \\\n",
    "Use one of the following words: neutral, negative, positive. Include an explanation for the selection of the sentiment. \\\n",
    "\\\n",
    "News, factual or objective tweets as well as generally ambiguous examples should be classified as neutral except if:\\\n",
    "* User agrees with a positive statement on vaccines or vaccinations which should be classified as positive \\\n",
    "* User disagrees with a positive statement on vaccines or vaccinations which should be classified as negative \\\n",
    "* User is angry or not happy when vaccines are not available which should be classified as positive \\\n",
    "* User is angry or not happy with a negative statement on vaccines or vaccinations which should be classified as positive \\\n",
    "* User is happy with a negative statement on vaccines or vaccinations which should be classified as negative \\\n",
    "* User is enquiring for availability or increased availability of a vaccine which should be classified as positive \\\n",
    "\\\n",
    "Classify as positive if:\\\n",
    "* The user expresses hope or anticipation towards a vaccine.\\\n",
    "* The user expresses desire for having more vaccine doses. \\\n",
    "\\\n",
    "Examples of positive tweets: \\\n",
    "* Some news of hope. Hopefully this vaccine becomes success and India becomes leader again. \\\n",
    "* This has been a horrendous year for so many people who have lost loved ones. It would be wonderful if the #vaccine was effective and could be administered world-wide to prevent further loss. My fingers and toes are crossed. \\\n",
    "* A healthy recovery of the world from COVID-19 is only possible when no one is left behind making it necessary that the vaccine is accessible to all without any hurdle. #HealthForAll #Equality #Equity #publichealth #awarness. \\\n",
    "* IF I SEE ONE MORE FUCKING POLITICIAN GET THE VACCINE BEFORE FRONT LINE WORKERS I'M GONNA LOSE MY SHIT!! \\\n",
    "* When will we learn to respect our scientific community ? Pathetic that ppl want to play politics on the vaccine \\\n",
    "* @user @user @user etc if U have so much problem so plz don't get them vaccinated, we know, U have enough money for treatment. U guys fall mild sick, immediately rush to medanta hospital.\\\n",
    "* $MRNA recieved approval across the pond in the U.K. demand increasing globally for a vaccine as cases rise. #stocks #finance #markets #investing #money #wealth #economy #OptionsTrading \\\n",
    "* On the other hand, they're more likely to receive much more effective and safe vaccines, so it's not quite as bad as you might think \\\n",
    "* Why are not more COVID-19 vaccine doses available immediately? <url> \\\n",
    "* America have fewer COVID-19 vaccines due to #MassMurderer #realDonaldTrumpâ€™s FAILED financial interests <url> \\\n",
    "\\\n",
    "Examples of neutral tweets: \\\n",
    "* AstraZeneca Pauses Vaccine Trial After Test Subject Gets Ill <url> \\\n",
    "* The federal government outlined a sweeping plan Wednesday to make vaccines for COVID-19 available for free to all Americans. <url> \\\n",
    "\\\n",
    "Examples of negative tweets: \\\n",
    "* There's a reason these vaccines can take up to 20 years to reach market. Say no to the vaccine. \\\n",
    "* Vaccines may not be good for kids like the Dengue Fever vaccine. You’re playing with fire. <url> \\\n",
    "* Dr: Are you experiencing any side effects from the vaccine? Me: * sleeps while standing there* huh? \\\n",
    "* There is a virus which has killed so many people for years. This virus is called hunger and the vaccine for hunger is food. However no one talks about it, why? Because this virus doesn't kill rich people.\\\n",
    "* @user : There are over 100 different coronavirus vaccine candidates in the works. These candidates take a variety of approaches to protecting the body against COVID-19: <url> #CoronaVirusUpdates #CoronavirusVaccine #StayHome <url> \\\n",
    "* <It would go away without the vaccine> #HerdMentality this man knows nothing about viruses. \\\n",
    "* Anti-vaxxer Novak Djokovic. #COVID19 #tennis The current world number one is the fourth player to test positive from the event that did not even pay lip service to social distancing. <url> via @user \\\n",
    "\\\n",
    "```{TWEET_TEXT_HERE}```\""
   ]
  },
  {
   "cell_type": "code",
   "execution_count": 13,
   "id": "ef5e7ea0",
   "metadata": {},
   "outputs": [],
   "source": [
    "prompt_raw_8 = \"Give me the stance of the user towards vaccination in the tweet text delimited by triple backticks, regardless of the general sentiment expressed in the tweet. A tweet with a negative general sentiment can express a positive stance of the user towards vaccination and viceversa. \\\n",
    "Use one of the following words: neutral, negative, positive. Include an explanation for the selection of the stance. \\\n",
    "The reply must contain the selected word for the stance followed by '.' and followed by the explanation for the selected stance. \\\n",
    "\\\n",
    "News, factual or objective tweets as well as generally ambiguous examples should be classified as neutral except if:\\\n",
    "* User agrees with a positive statement on vaccines or vaccinations which should be classified as positive \\\n",
    "* User disagrees with a positive statement on vaccines or vaccinations which should be classified as negative \\\n",
    "* User is angry or not happy when vaccines are not available which should be classified as positive \\\n",
    "* User is angry or not happy with a negative statement on vaccines or vaccinations which should be classified as positive \\\n",
    "* User is happy with a negative statement on vaccines or vaccinations which should be classified as negative \\\n",
    "* User is enquiring for availability or increased availability of a vaccine which should be classified as positive \\\n",
    "\\\n",
    "Classify as positive if:\\\n",
    "* The user expresses hope or anticipation towards a vaccine.\\\n",
    "* The user expresses desire for having more vaccine doses. \\\n",
    "* The user is ironic on people being negative towards vaccine (e.g., I am not getting a vaccine because they are microchipping you. Posted on social media , on a phone..that has all your info, your location...and the info is being shared and sold ...Ummmm ok) \\\n",
    "\\\n",
    "Examples of positive tweets: \\\n",
    "* Some news of hope. Hopefully this vaccine becomes success and India becomes leader again. \\\n",
    "* This has been a horrendous year for so many people who have lost loved ones. It would be wonderful if the #vaccine was effective and could be administered world-wide to prevent further loss. My fingers and toes are crossed. \\\n",
    "* A healthy recovery of the world from COVID-19 is only possible when no one is left behind making it necessary that the vaccine is accessible to all without any hurdle. #HealthForAll #Equality #Equity #publichealth #awarness. \\\n",
    "* IF I SEE ONE MORE FUCKING POLITICIAN GET THE VACCINE BEFORE FRONT LINE WORKERS I'M GONNA LOSE MY SHIT!! \\\n",
    "* When will we learn to respect our scientific community ? Pathetic that ppl want to play politics on the vaccine \\\n",
    "* @user @user @user etc if U have so much problem so plz don't get them vaccinated, we know, U have enough money for treatment. U guys fall mild sick, immediately rush to medanta hospital.\\\n",
    "* $MRNA recieved approval across the pond in the U.K. demand increasing globally for a vaccine as cases rise. #stocks #finance #markets #investing #money #wealth #economy #OptionsTrading \\\n",
    "* On the other hand, they're more likely to receive much more effective and safe vaccines, so it's not quite as bad as you might think \\\n",
    "\\\n",
    "Examples of neutral tweets: \\\n",
    "* AstraZeneca Pauses Vaccine Trial After Test Subject Gets Ill <url> \\\n",
    "* The federal government outlined a sweeping plan Wednesday to make vaccines for COVID-19 available for free to all Americans. <url> \\\n",
    "\\\n",
    "Examples of negative tweets: \\\n",
    "* There's a reason these vaccines can take up to 20 years to reach market. Say no to the vaccine. \\\n",
    "* Vaccines may not be good for kids like the Dengue Fever vaccine. You’re playing with fire. <url> \\\n",
    "\\\n",
    "```{TWEET_TEXT_HERE}```\""
   ]
  },
  {
   "cell_type": "code",
   "execution_count": 5,
   "id": "a4c64c70",
   "metadata": {},
   "outputs": [],
   "source": [
    "#prompt_i = prompt_raw.replace('TWEET_TEXT_HERE', tweets.iloc[0,1])"
   ]
  },
  {
   "cell_type": "code",
   "execution_count": 14,
   "id": "a315bbd9",
   "metadata": {},
   "outputs": [
    {
     "data": {
      "text/plain": [
       "999"
      ]
     },
     "execution_count": 14,
     "metadata": {},
     "output_type": "execute_result"
    }
   ],
   "source": [
    "len(epfl_df.index)"
   ]
  },
  {
   "cell_type": "code",
   "execution_count": null,
   "id": "c15b8328",
   "metadata": {},
   "outputs": [],
   "source": [
    "epfl_df.iloc[0,2]"
   ]
  },
  {
   "cell_type": "code",
   "execution_count": 28,
   "id": "fe47a29f",
   "metadata": {},
   "outputs": [],
   "source": [
    "id_gpt = []\n",
    "sent_gpt = []\n",
    "text = []"
   ]
  },
  {
   "cell_type": "code",
   "execution_count": 195,
   "id": "52c9278a",
   "metadata": {
    "scrolled": true
   },
   "outputs": [],
   "source": [
    "for i in range(0, 999):\n",
    "    prompt_i = prompt_raw_5.replace('TWEET_TEXT_HERE', epfl_df.iloc[i,2])\n",
    "    response = openai.Completion.create(\n",
    "      model=\"text-davinci-003\",\n",
    "      prompt=prompt_i,\n",
    "      temperature=0.8,\n",
    "      max_tokens=256,\n",
    "      top_p=1,\n",
    "      frequency_penalty=0,\n",
    "      presence_penalty=0\n",
    "    )\n",
    "    text.append(epfl_df.iloc[i,2])\n",
    "    sent_gpt.append(response.choices[0].text)"
   ]
  },
  {
   "cell_type": "code",
   "execution_count": 39,
   "id": "538bd7b4",
   "metadata": {},
   "outputs": [],
   "source": [
    "for i in range(119, 999):\n",
    "    prompt_i = prompt_raw_8.replace('TWEET_TEXT_HERE', epfl_df.iloc[i,2])\n",
    "    response = openai.ChatCompletion.create(\n",
    "      #model=\"text-davinci-003\",\n",
    "      model = \"gpt-4\",\n",
    "      messages=[{\"role\": \"user\", \"content\": prompt_i}],\n",
    "      temperature=0.8,\n",
    "      #max_tokens=256,\n",
    "      top_p=1,\n",
    "      frequency_penalty=0,\n",
    "      presence_penalty=0\n",
    "    )\n",
    "    text.append(epfl_df.iloc[i,2])\n",
    "    sent_gpt.append(response.choices[0].message.content)"
   ]
  },
  {
   "cell_type": "code",
   "execution_count": 43,
   "id": "b80e1e4e",
   "metadata": {
    "tags": []
   },
   "outputs": [
    {
     "name": "stdout",
     "output_type": "stream",
     "text": [
      "<class 'pandas.core.frame.DataFrame'>\n",
      "RangeIndex: 2277 entries, 0 to 2276\n",
      "Data columns (total 2 columns):\n",
      " #   Column         Non-Null Count  Dtype \n",
      "---  ------         --------------  ----- \n",
      " 0   text           2277 non-null   object\n",
      " 1   sentiment_gpt  2277 non-null   object\n",
      "dtypes: object(2)\n",
      "memory usage: 35.7+ KB\n"
     ]
    }
   ],
   "source": [
    "df_gpt_total = pd.DataFrame(list(zip(text, sent_gpt)),\n",
    "                            columns = ['text', 'sentiment_gpt'])\n",
    "df_gpt_total.info()"
   ]
  },
  {
   "cell_type": "code",
   "execution_count": 44,
   "id": "8f5c1cea",
   "metadata": {},
   "outputs": [],
   "source": [
    "df_gpt_total['prompt'] = 48"
   ]
  },
  {
   "cell_type": "code",
   "execution_count": 45,
   "id": "de211f05",
   "metadata": {},
   "outputs": [
    {
     "data": {
      "text/html": [
       "<div>\n",
       "<style scoped>\n",
       "    .dataframe tbody tr th:only-of-type {\n",
       "        vertical-align: middle;\n",
       "    }\n",
       "\n",
       "    .dataframe tbody tr th {\n",
       "        vertical-align: top;\n",
       "    }\n",
       "\n",
       "    .dataframe thead th {\n",
       "        text-align: right;\n",
       "    }\n",
       "</style>\n",
       "<table border=\"1\" class=\"dataframe\">\n",
       "  <thead>\n",
       "    <tr style=\"text-align: right;\">\n",
       "      <th></th>\n",
       "      <th>text</th>\n",
       "      <th>sentiment_gpt</th>\n",
       "      <th>prompt</th>\n",
       "    </tr>\n",
       "  </thead>\n",
       "  <tbody>\n",
       "    <tr>\n",
       "      <th>2272</th>\n",
       "      <td>@user , with these numbers, are you still goin...</td>\n",
       "      <td>Positive. The user is implying that proof of v...</td>\n",
       "      <td>48</td>\n",
       "    </tr>\n",
       "    <tr>\n",
       "      <th>2273</th>\n",
       "      <td>How the new Ebola vaccine was made in Canada &lt;...</td>\n",
       "      <td>Neutral. The tweet is reporting a factual even...</td>\n",
       "      <td>48</td>\n",
       "    </tr>\n",
       "    <tr>\n",
       "      <th>2274</th>\n",
       "      <td>@user HOW TO END COVID-19 Give 3 free N95 mask...</td>\n",
       "      <td>Positive. The user is suggesting a comprehensi...</td>\n",
       "      <td>48</td>\n",
       "    </tr>\n",
       "    <tr>\n",
       "      <th>2275</th>\n",
       "      <td>Are you a bad person for not getting the vacci...</td>\n",
       "      <td>Neutral. The user is asking a question and doe...</td>\n",
       "      <td>48</td>\n",
       "    </tr>\n",
       "    <tr>\n",
       "      <th>2276</th>\n",
       "      <td>NICE TO KNOW: The JAPANESE ENCEPHALITIS VACCIN...</td>\n",
       "      <td>Neutral. The user is sharing a piece of inform...</td>\n",
       "      <td>48</td>\n",
       "    </tr>\n",
       "  </tbody>\n",
       "</table>\n",
       "</div>"
      ],
      "text/plain": [
       "                                                   text  \\\n",
       "2272  @user , with these numbers, are you still goin...   \n",
       "2273  How the new Ebola vaccine was made in Canada <...   \n",
       "2274  @user HOW TO END COVID-19 Give 3 free N95 mask...   \n",
       "2275  Are you a bad person for not getting the vacci...   \n",
       "2276  NICE TO KNOW: The JAPANESE ENCEPHALITIS VACCIN...   \n",
       "\n",
       "                                          sentiment_gpt  prompt  \n",
       "2272  Positive. The user is implying that proof of v...      48  \n",
       "2273  Neutral. The tweet is reporting a factual even...      48  \n",
       "2274  Positive. The user is suggesting a comprehensi...      48  \n",
       "2275  Neutral. The user is asking a question and doe...      48  \n",
       "2276  Neutral. The user is sharing a piece of inform...      48  "
      ]
     },
     "execution_count": 45,
     "metadata": {},
     "output_type": "execute_result"
    }
   ],
   "source": [
    "df_gpt_total.tail()"
   ]
  },
  {
   "cell_type": "code",
   "execution_count": 46,
   "id": "9a901463",
   "metadata": {},
   "outputs": [
    {
     "data": {
      "text/plain": [
       "2277"
      ]
     },
     "execution_count": 46,
     "metadata": {},
     "output_type": "execute_result"
    }
   ],
   "source": [
    "len(df_gpt_total)"
   ]
  },
  {
   "cell_type": "code",
   "execution_count": 47,
   "id": "3c7ce791",
   "metadata": {},
   "outputs": [],
   "source": [
    "df_gpt_total_all = df_gpt_total"
   ]
  },
  {
   "cell_type": "code",
   "execution_count": null,
   "id": "f921c6f6",
   "metadata": {},
   "outputs": [],
   "source": [
    "df_gpt_total_all = df_gpt_total_all.append(df_gpt_total)"
   ]
  },
  {
   "cell_type": "code",
   "execution_count": 48,
   "id": "5bd6677b",
   "metadata": {},
   "outputs": [
    {
     "data": {
      "text/plain": [
       "2277"
      ]
     },
     "execution_count": 48,
     "metadata": {},
     "output_type": "execute_result"
    }
   ],
   "source": [
    "len(df_gpt_total_all)"
   ]
  },
  {
   "cell_type": "code",
   "execution_count": 49,
   "id": "1eb834c3",
   "metadata": {},
   "outputs": [
    {
     "data": {
      "text/html": [
       "<div>\n",
       "<style scoped>\n",
       "    .dataframe tbody tr th:only-of-type {\n",
       "        vertical-align: middle;\n",
       "    }\n",
       "\n",
       "    .dataframe tbody tr th {\n",
       "        vertical-align: top;\n",
       "    }\n",
       "\n",
       "    .dataframe thead th {\n",
       "        text-align: right;\n",
       "    }\n",
       "</style>\n",
       "<table border=\"1\" class=\"dataframe\">\n",
       "  <thead>\n",
       "    <tr style=\"text-align: right;\">\n",
       "      <th></th>\n",
       "      <th>text</th>\n",
       "      <th>sentiment_gpt</th>\n",
       "      <th>prompt</th>\n",
       "    </tr>\n",
       "  </thead>\n",
       "  <tbody>\n",
       "    <tr>\n",
       "      <th>2272</th>\n",
       "      <td>@user , with these numbers, are you still goin...</td>\n",
       "      <td>Positive. The user is implying that proof of v...</td>\n",
       "      <td>48</td>\n",
       "    </tr>\n",
       "    <tr>\n",
       "      <th>2273</th>\n",
       "      <td>How the new Ebola vaccine was made in Canada &lt;...</td>\n",
       "      <td>Neutral. The tweet is reporting a factual even...</td>\n",
       "      <td>48</td>\n",
       "    </tr>\n",
       "    <tr>\n",
       "      <th>2274</th>\n",
       "      <td>@user HOW TO END COVID-19 Give 3 free N95 mask...</td>\n",
       "      <td>Positive. The user is suggesting a comprehensi...</td>\n",
       "      <td>48</td>\n",
       "    </tr>\n",
       "    <tr>\n",
       "      <th>2275</th>\n",
       "      <td>Are you a bad person for not getting the vacci...</td>\n",
       "      <td>Neutral. The user is asking a question and doe...</td>\n",
       "      <td>48</td>\n",
       "    </tr>\n",
       "    <tr>\n",
       "      <th>2276</th>\n",
       "      <td>NICE TO KNOW: The JAPANESE ENCEPHALITIS VACCIN...</td>\n",
       "      <td>Neutral. The user is sharing a piece of inform...</td>\n",
       "      <td>48</td>\n",
       "    </tr>\n",
       "  </tbody>\n",
       "</table>\n",
       "</div>"
      ],
      "text/plain": [
       "                                                   text  \\\n",
       "2272  @user , with these numbers, are you still goin...   \n",
       "2273  How the new Ebola vaccine was made in Canada <...   \n",
       "2274  @user HOW TO END COVID-19 Give 3 free N95 mask...   \n",
       "2275  Are you a bad person for not getting the vacci...   \n",
       "2276  NICE TO KNOW: The JAPANESE ENCEPHALITIS VACCIN...   \n",
       "\n",
       "                                          sentiment_gpt  prompt  \n",
       "2272  Positive. The user is implying that proof of v...      48  \n",
       "2273  Neutral. The tweet is reporting a factual even...      48  \n",
       "2274  Positive. The user is suggesting a comprehensi...      48  \n",
       "2275  Neutral. The user is asking a question and doe...      48  \n",
       "2276  Neutral. The user is sharing a piece of inform...      48  "
      ]
     },
     "execution_count": 49,
     "metadata": {},
     "output_type": "execute_result"
    }
   ],
   "source": [
    "df_gpt_total_all.tail()"
   ]
  },
  {
   "cell_type": "code",
   "execution_count": 50,
   "id": "420096e4",
   "metadata": {},
   "outputs": [],
   "source": [
    "df_gpt_total_all.to_csv('../data/local/gpt_sentiment_mturk_prompt48_new_new.csv')"
   ]
  }
 ],
 "metadata": {
  "kernelspec": {
   "display_name": "Python 3 (ipykernel)",
   "language": "python",
   "name": "python3"
  },
  "language_info": {
   "codemirror_mode": {
    "name": "ipython",
    "version": 3
   },
   "file_extension": ".py",
   "mimetype": "text/x-python",
   "name": "python",
   "nbconvert_exporter": "python",
   "pygments_lexer": "ipython3",
   "version": "3.9.12"
  }
 },
 "nbformat": 4,
 "nbformat_minor": 5
}
