{
 "cells": [
  {
   "cell_type": "markdown",
   "id": "e90b7c28",
   "metadata": {},
   "source": [
    "# Import libraries and data"
   ]
  },
  {
   "cell_type": "code",
   "execution_count": 1,
   "id": "433219e8-8f66-4be5-a3b8-e39fca644032",
   "metadata": {
    "tags": []
   },
   "outputs": [],
   "source": [
    "import os\n",
    "import openai\n",
    "import pandas as pd\n",
    "import numpy as np\n",
    "import openpyxl"
   ]
  },
  {
   "cell_type": "code",
   "execution_count": null,
   "id": "5695de20-204c-482b-9c97-7fd7cf991dc0",
   "metadata": {},
   "outputs": [],
   "source": []
  },
  {
   "cell_type": "code",
   "execution_count": 2,
   "id": "2c68f056-74fe-4f29-9daf-6bdef5cc0701",
   "metadata": {},
   "outputs": [],
   "source": [
    "# Get OpenAI API secret key\n",
    "open_ai_key = open('../data/local/openai_key.txt', 'r').read()\n",
    "openai.api_key = open_ai_key\n",
    "#openai.Model.list()"
   ]
  },
  {
   "cell_type": "code",
   "execution_count": 3,
   "id": "81541320-fa96-4a0b-b650-0173598db2e1",
   "metadata": {
    "tags": []
   },
   "outputs": [],
   "source": [
    "# Get annotated tweets\n",
    "tweets = pd.read_csv('../data/local/labelled_tweets_clean.csv').reset_index()\n",
    "#tweets['prompt'] = \"Please give me the sentiment regarding vaccination in the following tweet: \\\"TWEET_TEXT_HERE\\\"\\nUse one of the following words: neutral, negative, positive\"\n",
    "#tweets['prompt'] = tweets.apply(lambda x: x['prompt'].replace('TWEET_TEXT_HERE', str(x['text'])), axis = 1)\n",
    "#tweets.head()"
   ]
  },
  {
   "cell_type": "markdown",
   "id": "91665254",
   "metadata": {},
   "source": [
    "# Using three categories for vaccine sentiment"
   ]
  },
  {
   "cell_type": "code",
   "execution_count": 4,
   "id": "d9865707-b6c8-4dcc-bf88-1736bb13310a",
   "metadata": {},
   "outputs": [],
   "source": [
    "# Prompt for GPT\n",
    "prompt_raw = \"Please give me the sentiment regarding vaccination in the following tweet: \\\"TWEET_TEXT_HERE\\\"\\nUse one of the following words: neutral, negative, positive\""
   ]
  },
  {
   "cell_type": "code",
   "execution_count": 5,
   "id": "8ce27066-8efb-4903-81ea-0d3d4b5c1e86",
   "metadata": {},
   "outputs": [],
   "source": [
    "#prompt_i = prompt_raw.replace('TWEET_TEXT_HERE', tweets.iloc[0,1])"
   ]
  },
  {
   "cell_type": "code",
   "execution_count": 5,
   "id": "c026094b-57da-48e7-a465-5810644f8fe7",
   "metadata": {},
   "outputs": [
    {
     "data": {
      "text/plain": [
       "5321"
      ]
     },
     "execution_count": 5,
     "metadata": {},
     "output_type": "execute_result"
    }
   ],
   "source": [
    "len(tweets.index)"
   ]
  },
  {
   "cell_type": "code",
   "execution_count": 6,
   "id": "c23b36d9-0f9a-42fe-a366-8df1434a585b",
   "metadata": {},
   "outputs": [
    {
     "data": {
      "text/html": [
       "<div>\n",
       "<style scoped>\n",
       "    .dataframe tbody tr th:only-of-type {\n",
       "        vertical-align: middle;\n",
       "    }\n",
       "\n",
       "    .dataframe tbody tr th {\n",
       "        vertical-align: top;\n",
       "    }\n",
       "\n",
       "    .dataframe thead th {\n",
       "        text-align: right;\n",
       "    }\n",
       "</style>\n",
       "<table border=\"1\" class=\"dataframe\">\n",
       "  <thead>\n",
       "    <tr style=\"text-align: right;\">\n",
       "      <th></th>\n",
       "      <th>index</th>\n",
       "      <th>id</th>\n",
       "      <th>text</th>\n",
       "      <th>label_tag</th>\n",
       "    </tr>\n",
       "  </thead>\n",
       "  <tbody>\n",
       "    <tr>\n",
       "      <th>0</th>\n",
       "      <td>0</td>\n",
       "      <td>1234393136169807872</td>\n",
       "      <td>Nirbhaya case: Delhi Court dismisses convict P...</td>\n",
       "      <td>neutral</td>\n",
       "    </tr>\n",
       "    <tr>\n",
       "      <th>1</th>\n",
       "      <td>1</td>\n",
       "      <td>1234456868317208576</td>\n",
       "      <td>Today at the WH: -Meeting with Pres Duque of C...</td>\n",
       "      <td>neutral</td>\n",
       "    </tr>\n",
       "  </tbody>\n",
       "</table>\n",
       "</div>"
      ],
      "text/plain": [
       "   index                   id  \\\n",
       "0      0  1234393136169807872   \n",
       "1      1  1234456868317208576   \n",
       "\n",
       "                                                text label_tag  \n",
       "0  Nirbhaya case: Delhi Court dismisses convict P...   neutral  \n",
       "1  Today at the WH: -Meeting with Pres Duque of C...   neutral  "
      ]
     },
     "execution_count": 6,
     "metadata": {},
     "output_type": "execute_result"
    }
   ],
   "source": [
    "test = tweets.iloc[0:2, :]\n",
    "test"
   ]
  },
  {
   "cell_type": "code",
   "execution_count": 7,
   "id": "986b9ea8-c64d-4e27-ba53-1f57c3b53d21",
   "metadata": {},
   "outputs": [],
   "source": [
    "tweets1 = tweets.iloc[0:306,:]\n",
    "tweets2 = tweets.iloc[306:601,:]\n",
    "tweets3 = tweets.iloc[601:901, :]\n",
    "tweets4 = tweets.iloc[901:1201, :]\n"
   ]
  },
  {
   "cell_type": "code",
   "execution_count": 103,
   "id": "c487242a-2b6e-4b45-90a4-150efed6e32f",
   "metadata": {},
   "outputs": [],
   "source": [
    "tweets13 = tweets.iloc[2670:,:]"
   ]
  },
  {
   "cell_type": "code",
   "execution_count": 104,
   "id": "ecfc3a3b-514a-43f9-9a1a-3506358cc2cc",
   "metadata": {},
   "outputs": [],
   "source": [
    "id_gpt = []\n",
    "sent_gpt = []"
   ]
  },
  {
   "cell_type": "code",
   "execution_count": 105,
   "id": "80ade1ff-1238-4ab3-a151-3a2df1163a1b",
   "metadata": {},
   "outputs": [],
   "source": [
    "for i in range(0,295):\n",
    "    prompt_i = prompt_raw.replace('TWEET_TEXT_HERE', tweets13.iloc[i,2])\n",
    "    response = openai.Completion.create(\n",
    "      model=\"text-davinci-003\",\n",
    "      prompt=prompt_i,\n",
    "      temperature=0.7,\n",
    "      max_tokens=256,\n",
    "      top_p=1,\n",
    "      frequency_penalty=0,\n",
    "      presence_penalty=0\n",
    "    )\n",
    "    id_gpt.append(tweets13.iloc[i,0])\n",
    "    sent_gpt.append(response.choices[0].text)"
   ]
  },
  {
   "cell_type": "code",
   "execution_count": 106,
   "id": "a251c314-a165-4a19-8bc0-06f04c2d7feb",
   "metadata": {
    "tags": []
   },
   "outputs": [
    {
     "name": "stdout",
     "output_type": "stream",
     "text": [
      "<class 'pandas.core.frame.DataFrame'>\n",
      "RangeIndex: 295 entries, 0 to 294\n",
      "Data columns (total 2 columns):\n",
      " #   Column         Non-Null Count  Dtype \n",
      "---  ------         --------------  ----- \n",
      " 0   id_gpt         295 non-null    int64 \n",
      " 1   sentiment_gpt  295 non-null    object\n",
      "dtypes: int64(1), object(1)\n",
      "memory usage: 4.7+ KB\n"
     ]
    }
   ],
   "source": [
    "df_gpt_total = pd.DataFrame(list(zip(id_gpt, sent_gpt)),\n",
    "                            columns = ['id_gpt', 'sentiment_gpt'])\n",
    "df_gpt_total.info()"
   ]
  },
  {
   "cell_type": "code",
   "execution_count": 107,
   "id": "9386b878-5de3-49d7-b055-a88cea4c6d4b",
   "metadata": {},
   "outputs": [
    {
     "data": {
      "text/html": [
       "<div>\n",
       "<style scoped>\n",
       "    .dataframe tbody tr th:only-of-type {\n",
       "        vertical-align: middle;\n",
       "    }\n",
       "\n",
       "    .dataframe tbody tr th {\n",
       "        vertical-align: top;\n",
       "    }\n",
       "\n",
       "    .dataframe thead th {\n",
       "        text-align: right;\n",
       "    }\n",
       "</style>\n",
       "<table border=\"1\" class=\"dataframe\">\n",
       "  <thead>\n",
       "    <tr style=\"text-align: right;\">\n",
       "      <th></th>\n",
       "      <th>id_gpt</th>\n",
       "      <th>sentiment_gpt</th>\n",
       "    </tr>\n",
       "  </thead>\n",
       "  <tbody>\n",
       "    <tr>\n",
       "      <th>290</th>\n",
       "      <td>2960</td>\n",
       "      <td>\\n\\nNeutral</td>\n",
       "    </tr>\n",
       "    <tr>\n",
       "      <th>291</th>\n",
       "      <td>2961</td>\n",
       "      <td>\\n\\nPositive</td>\n",
       "    </tr>\n",
       "    <tr>\n",
       "      <th>292</th>\n",
       "      <td>2962</td>\n",
       "      <td>\\nNeutral</td>\n",
       "    </tr>\n",
       "    <tr>\n",
       "      <th>293</th>\n",
       "      <td>2963</td>\n",
       "      <td>\\n\\nPositive</td>\n",
       "    </tr>\n",
       "    <tr>\n",
       "      <th>294</th>\n",
       "      <td>2964</td>\n",
       "      <td>\\n\\nNegative</td>\n",
       "    </tr>\n",
       "  </tbody>\n",
       "</table>\n",
       "</div>"
      ],
      "text/plain": [
       "     id_gpt sentiment_gpt\n",
       "290    2960   \\n\\nNeutral\n",
       "291    2961  \\n\\nPositive\n",
       "292    2962     \\nNeutral\n",
       "293    2963  \\n\\nPositive\n",
       "294    2964  \\n\\nNegative"
      ]
     },
     "execution_count": 107,
     "metadata": {},
     "output_type": "execute_result"
    }
   ],
   "source": [
    "df_gpt_total.tail()"
   ]
  },
  {
   "cell_type": "code",
   "execution_count": 108,
   "id": "8d860161-43ad-47fd-a35e-74c22d13c728",
   "metadata": {},
   "outputs": [],
   "source": [
    "id_gpt13 = id_gpt\n",
    "sent_gpt13 = sent_gpt\n",
    "df_gpt_total13 = df_gpt_total"
   ]
  },
  {
   "cell_type": "code",
   "execution_count": 25,
   "id": "704c92a7-fa24-4169-b4ab-102b9a14e1d5",
   "metadata": {},
   "outputs": [
    {
     "name": "stdout",
     "output_type": "stream",
     "text": [
      "<class 'pandas.core.series.Series'>\n"
     ]
    }
   ],
   "source": [
    "#df_gpt_total1.to_csv('../data/local/gpt_sentiment1.csv')\n",
    "df_gpt_total1['sentiment_gpt2'] = df_gpt_total1['sentiment_gpt'].to_string()\n",
    "print(type(df_gpt_total1['sentiment_gpt2']))"
   ]
  },
  {
   "cell_type": "code",
   "execution_count": 30,
   "id": "6e2da1cc-2f56-459f-8db7-161ed6c2eecb",
   "metadata": {},
   "outputs": [],
   "source": [
    "#sent_gpt1.to_csv('../data/local/gpt_sentiment1_only.csv')"
   ]
  },
  {
   "cell_type": "code",
   "execution_count": 109,
   "id": "ba4e26f3-b7f2-4813-b50a-cb7905e0abe5",
   "metadata": {},
   "outputs": [],
   "source": [
    "df_gpt_total13.to_excel('../data/local/gpt_sentiment13.xlsx')\n"
   ]
  },
  {
   "cell_type": "markdown",
   "id": "f618d0e5",
   "metadata": {},
   "source": [
    "# Using two categories for vaccine sentiment"
   ]
  },
  {
   "cell_type": "code",
   "execution_count": 6,
   "id": "ae054d6a",
   "metadata": {},
   "outputs": [
    {
     "data": {
      "text/html": [
       "<div>\n",
       "<style scoped>\n",
       "    .dataframe tbody tr th:only-of-type {\n",
       "        vertical-align: middle;\n",
       "    }\n",
       "\n",
       "    .dataframe tbody tr th {\n",
       "        vertical-align: top;\n",
       "    }\n",
       "\n",
       "    .dataframe thead th {\n",
       "        text-align: right;\n",
       "    }\n",
       "</style>\n",
       "<table border=\"1\" class=\"dataframe\">\n",
       "  <thead>\n",
       "    <tr style=\"text-align: right;\">\n",
       "      <th></th>\n",
       "      <th>index</th>\n",
       "      <th>id</th>\n",
       "      <th>text</th>\n",
       "      <th>label_tag</th>\n",
       "    </tr>\n",
       "  </thead>\n",
       "  <tbody>\n",
       "    <tr>\n",
       "      <th>18</th>\n",
       "      <td>18</td>\n",
       "      <td>1235574994924490752</td>\n",
       "      <td>@user @user I saw #VaxxedII yesterday and I ha...</td>\n",
       "      <td>negative</td>\n",
       "    </tr>\n",
       "    <tr>\n",
       "      <th>22</th>\n",
       "      <td>22</td>\n",
       "      <td>1236451808412909568</td>\n",
       "      <td>Dear anti-vaxxers. If you are legitimately wor...</td>\n",
       "      <td>positive</td>\n",
       "    </tr>\n",
       "    <tr>\n",
       "      <th>26</th>\n",
       "      <td>26</td>\n",
       "      <td>1237492335430250496</td>\n",
       "      <td>@user @user thank you for the vaccine LOL #Wel...</td>\n",
       "      <td>positive</td>\n",
       "    </tr>\n",
       "    <tr>\n",
       "      <th>28</th>\n",
       "      <td>28</td>\n",
       "      <td>1237894709306986496</td>\n",
       "      <td>Remember polio? Killed a lot of people. Vaccin...</td>\n",
       "      <td>positive</td>\n",
       "    </tr>\n",
       "    <tr>\n",
       "      <th>38</th>\n",
       "      <td>38</td>\n",
       "      <td>1239077015250030592</td>\n",
       "      <td>You be ready to pay what this Coronavirus vacc...</td>\n",
       "      <td>negative</td>\n",
       "    </tr>\n",
       "  </tbody>\n",
       "</table>\n",
       "</div>"
      ],
      "text/plain": [
       "    index                   id  \\\n",
       "18     18  1235574994924490752   \n",
       "22     22  1236451808412909568   \n",
       "26     26  1237492335430250496   \n",
       "28     28  1237894709306986496   \n",
       "38     38  1239077015250030592   \n",
       "\n",
       "                                                 text label_tag  \n",
       "18  @user @user I saw #VaxxedII yesterday and I ha...  negative  \n",
       "22  Dear anti-vaxxers. If you are legitimately wor...  positive  \n",
       "26  @user @user thank you for the vaccine LOL #Wel...  positive  \n",
       "28  Remember polio? Killed a lot of people. Vaccin...  positive  \n",
       "38  You be ready to pay what this Coronavirus vacc...  negative  "
      ]
     },
     "execution_count": 6,
     "metadata": {},
     "output_type": "execute_result"
    }
   ],
   "source": [
    "tweets_pos_neg = tweets[tweets['label_tag'].isin(['positive', 'negative'])]\n",
    "tweets_pos_neg.head()"
   ]
  },
  {
   "cell_type": "code",
   "execution_count": 7,
   "id": "14e6c624",
   "metadata": {},
   "outputs": [],
   "source": [
    "prompt_raw_pos_neg = \"Please give me the sentiment regarding vaccination in the following tweet: \\\"TWEET_TEXT_HERE\\\"\\nUse one of the following words: negative, positive\""
   ]
  },
  {
   "cell_type": "code",
   "execution_count": 8,
   "id": "b15c9420",
   "metadata": {},
   "outputs": [
    {
     "data": {
      "text/plain": [
       "1340"
      ]
     },
     "execution_count": 8,
     "metadata": {},
     "output_type": "execute_result"
    }
   ],
   "source": [
    "len(tweets_pos_neg.index)"
   ]
  },
  {
   "cell_type": "code",
   "execution_count": 9,
   "id": "2f726abb",
   "metadata": {},
   "outputs": [
    {
     "data": {
      "text/html": [
       "<div>\n",
       "<style scoped>\n",
       "    .dataframe tbody tr th:only-of-type {\n",
       "        vertical-align: middle;\n",
       "    }\n",
       "\n",
       "    .dataframe tbody tr th {\n",
       "        vertical-align: top;\n",
       "    }\n",
       "\n",
       "    .dataframe thead th {\n",
       "        text-align: right;\n",
       "    }\n",
       "</style>\n",
       "<table border=\"1\" class=\"dataframe\">\n",
       "  <thead>\n",
       "    <tr style=\"text-align: right;\">\n",
       "      <th></th>\n",
       "      <th>index</th>\n",
       "      <th>id</th>\n",
       "      <th>text</th>\n",
       "      <th>label_tag</th>\n",
       "    </tr>\n",
       "  </thead>\n",
       "  <tbody>\n",
       "    <tr>\n",
       "      <th>18</th>\n",
       "      <td>18</td>\n",
       "      <td>1235574994924490752</td>\n",
       "      <td>@user @user I saw #VaxxedII yesterday and I ha...</td>\n",
       "      <td>negative</td>\n",
       "    </tr>\n",
       "    <tr>\n",
       "      <th>22</th>\n",
       "      <td>22</td>\n",
       "      <td>1236451808412909568</td>\n",
       "      <td>Dear anti-vaxxers. If you are legitimately wor...</td>\n",
       "      <td>positive</td>\n",
       "    </tr>\n",
       "  </tbody>\n",
       "</table>\n",
       "</div>"
      ],
      "text/plain": [
       "    index                   id  \\\n",
       "18     18  1235574994924490752   \n",
       "22     22  1236451808412909568   \n",
       "\n",
       "                                                 text label_tag  \n",
       "18  @user @user I saw #VaxxedII yesterday and I ha...  negative  \n",
       "22  Dear anti-vaxxers. If you are legitimately wor...  positive  "
      ]
     },
     "execution_count": 9,
     "metadata": {},
     "output_type": "execute_result"
    }
   ],
   "source": [
    "test = tweets_pos_neg.iloc[0:2, :]\n",
    "test"
   ]
  },
  {
   "cell_type": "code",
   "execution_count": 7,
   "id": "2bcdc70c",
   "metadata": {},
   "outputs": [],
   "source": [
    "tweets_pos_neg1 = tweets_pos_neg.iloc[0:306,:]\n",
    "tweets_pos_neg2 = tweets_pos_neg.iloc[306:601,:]\n",
    "tweets_pos_neg3 = tweets_pos_neg.iloc[601:901, :]\n",
    "tweets_pos_neg4 = tweets_pos_neg.iloc[901:1201, :]\n"
   ]
  },
  {
   "cell_type": "code",
   "execution_count": 103,
   "id": "cfa78bf9",
   "metadata": {},
   "outputs": [],
   "source": [
    "tweets_pos_neg4 = tweets_pos_neg.iloc[901:1201, :]"
   ]
  },
  {
   "cell_type": "code",
   "execution_count": 11,
   "id": "80b65b5e",
   "metadata": {},
   "outputs": [],
   "source": [
    "id_gpt_two = []\n",
    "sent_gpt_two = []"
   ]
  },
  {
   "cell_type": "code",
   "execution_count": 12,
   "id": "48395218",
   "metadata": {},
   "outputs": [],
   "source": [
    "for i in range(0,1339):\n",
    "    prompt_two_i = prompt_raw_pos_neg.replace('TWEET_TEXT_HERE', tweets_pos_neg.iloc[i,2])\n",
    "    response_two = openai.Completion.create(\n",
    "      model=\"text-davinci-003\",\n",
    "      prompt=prompt_two_i,\n",
    "      temperature=0.7,\n",
    "      max_tokens=256,\n",
    "      top_p=1,\n",
    "      frequency_penalty=0,\n",
    "      presence_penalty=0\n",
    "    )\n",
    "    id_gpt_two.append(tweets_pos_neg.iloc[i,0])\n",
    "    sent_gpt_two.append(response_two.choices[0].text)"
   ]
  },
  {
   "cell_type": "code",
   "execution_count": 17,
   "id": "69cfbfaf",
   "metadata": {},
   "outputs": [],
   "source": [
    "prompt_two_1339 = prompt_raw_pos_neg.replace('TWEET_TEXT_HERE', tweets_pos_neg.iloc[1339,2])\n",
    "response_two = openai.Completion.create(\n",
    "      model=\"text-davinci-003\",\n",
    "      prompt=prompt_two_1339,\n",
    "      temperature=0.7,\n",
    "      max_tokens=256,\n",
    "      top_p=1,\n",
    "      frequency_penalty=0,\n",
    "      presence_penalty=0\n",
    "    )\n",
    "id_gpt_two.append(tweets_pos_neg.iloc[1339,0])\n",
    "sent_gpt_two.append(response_two.choices[0].text)"
   ]
  },
  {
   "cell_type": "code",
   "execution_count": 18,
   "id": "bcee3e9d",
   "metadata": {
    "tags": []
   },
   "outputs": [
    {
     "name": "stdout",
     "output_type": "stream",
     "text": [
      "<class 'pandas.core.frame.DataFrame'>\n",
      "RangeIndex: 1340 entries, 0 to 1339\n",
      "Data columns (total 2 columns):\n",
      " #   Column             Non-Null Count  Dtype \n",
      "---  ------             --------------  ----- \n",
      " 0   id_gpt_two         1340 non-null   int64 \n",
      " 1   sentiment_gpt_two  1340 non-null   object\n",
      "dtypes: int64(1), object(1)\n",
      "memory usage: 21.1+ KB\n"
     ]
    }
   ],
   "source": [
    "df_two_gpt_total = pd.DataFrame(list(zip(id_gpt_two, sent_gpt_two)),\n",
    "                            columns = ['id_gpt_two', 'sentiment_gpt_two'])\n",
    "df_two_gpt_total.info()"
   ]
  },
  {
   "cell_type": "code",
   "execution_count": 19,
   "id": "c0dd6a82",
   "metadata": {},
   "outputs": [
    {
     "data": {
      "text/html": [
       "<div>\n",
       "<style scoped>\n",
       "    .dataframe tbody tr th:only-of-type {\n",
       "        vertical-align: middle;\n",
       "    }\n",
       "\n",
       "    .dataframe tbody tr th {\n",
       "        vertical-align: top;\n",
       "    }\n",
       "\n",
       "    .dataframe thead th {\n",
       "        text-align: right;\n",
       "    }\n",
       "</style>\n",
       "<table border=\"1\" class=\"dataframe\">\n",
       "  <thead>\n",
       "    <tr style=\"text-align: right;\">\n",
       "      <th></th>\n",
       "      <th>id_gpt_two</th>\n",
       "      <th>sentiment_gpt_two</th>\n",
       "    </tr>\n",
       "  </thead>\n",
       "  <tbody>\n",
       "    <tr>\n",
       "      <th>1335</th>\n",
       "      <td>5300</td>\n",
       "      <td>\\n\\nPositive</td>\n",
       "    </tr>\n",
       "    <tr>\n",
       "      <th>1336</th>\n",
       "      <td>5309</td>\n",
       "      <td>\\n\\nNegative</td>\n",
       "    </tr>\n",
       "    <tr>\n",
       "      <th>1337</th>\n",
       "      <td>5315</td>\n",
       "      <td>\\n\\nPositive</td>\n",
       "    </tr>\n",
       "    <tr>\n",
       "      <th>1338</th>\n",
       "      <td>5317</td>\n",
       "      <td>\\n\\nNegative</td>\n",
       "    </tr>\n",
       "    <tr>\n",
       "      <th>1339</th>\n",
       "      <td>5320</td>\n",
       "      <td>\\n\\nNegative</td>\n",
       "    </tr>\n",
       "  </tbody>\n",
       "</table>\n",
       "</div>"
      ],
      "text/plain": [
       "      id_gpt_two sentiment_gpt_two\n",
       "1335        5300      \\n\\nPositive\n",
       "1336        5309      \\n\\nNegative\n",
       "1337        5315      \\n\\nPositive\n",
       "1338        5317      \\n\\nNegative\n",
       "1339        5320      \\n\\nNegative"
      ]
     },
     "execution_count": 19,
     "metadata": {},
     "output_type": "execute_result"
    }
   ],
   "source": [
    "df_two_gpt_total.tail()"
   ]
  },
  {
   "cell_type": "code",
   "execution_count": 108,
   "id": "304fbd5d",
   "metadata": {},
   "outputs": [],
   "source": [
    "id_gpt13 = id_gpt\n",
    "sent_gpt13 = sent_gpt\n",
    "df_gpt_total13 = df_gpt_total"
   ]
  },
  {
   "cell_type": "code",
   "execution_count": 25,
   "id": "73353eb4",
   "metadata": {},
   "outputs": [
    {
     "name": "stdout",
     "output_type": "stream",
     "text": [
      "<class 'pandas.core.series.Series'>\n"
     ]
    }
   ],
   "source": [
    "#df_gpt_total1.to_csv('../data/local/gpt_sentiment1.csv')\n",
    "df_gpt_total1['sentiment_gpt2'] = df_gpt_total1['sentiment_gpt'].to_string()\n",
    "print(type(df_gpt_total1['sentiment_gpt2']))"
   ]
  },
  {
   "cell_type": "code",
   "execution_count": 30,
   "id": "9c8d28fe",
   "metadata": {},
   "outputs": [],
   "source": [
    "#sent_gpt1.to_csv('../data/local/gpt_sentiment1_only.csv')"
   ]
  },
  {
   "cell_type": "code",
   "execution_count": 20,
   "id": "d3eda4c7",
   "metadata": {},
   "outputs": [],
   "source": [
    "df_two_gpt_total.to_excel('../data/local/gpt_sentiment_pos_neg.xlsx')\n"
   ]
  }
 ],
 "metadata": {
  "kernelspec": {
   "display_name": "Python 3 (ipykernel)",
   "language": "python",
   "name": "python3"
  },
  "language_info": {
   "codemirror_mode": {
    "name": "ipython",
    "version": 3
   },
   "file_extension": ".py",
   "mimetype": "text/x-python",
   "name": "python",
   "nbconvert_exporter": "python",
   "pygments_lexer": "ipython3",
   "version": "3.9.12"
  }
 },
 "nbformat": 4,
 "nbformat_minor": 5
}
