{
 "cells": [
  {
   "cell_type": "markdown",
   "id": "e90b7c28",
   "metadata": {},
   "source": [
    "# Import libraries and data"
   ]
  },
  {
   "cell_type": "code",
   "execution_count": 1,
   "id": "433219e8-8f66-4be5-a3b8-e39fca644032",
   "metadata": {
    "tags": []
   },
   "outputs": [],
   "source": [
    "# Import libraries\n",
    "import os\n",
    "import openai\n",
    "import pandas as pd\n",
    "import numpy as np\n",
    "import openpyxl"
   ]
  },
  {
   "cell_type": "code",
   "execution_count": 25,
   "id": "2c68f056-74fe-4f29-9daf-6bdef5cc0701",
   "metadata": {},
   "outputs": [],
   "source": [
    "# Get OpenAI API secret key (change this file with your own OpenAI key)\n",
    "open_ai_key = open('../data/local/openai_key.txt', 'r').read()\n",
    "openai.api_key = open_ai_key\n",
    "#openai.Model.list()"
   ]
  },
  {
   "cell_type": "code",
   "execution_count": 3,
   "id": "5096b4ba",
   "metadata": {
    "scrolled": true,
    "tags": []
   },
   "outputs": [
    {
     "name": "stdout",
     "output_type": "stream",
     "text": [
      "<class 'pandas.core.frame.DataFrame'>\n",
      "RangeIndex: 999 entries, 0 to 998\n",
      "Data columns (total 22 columns):\n",
      " #   Column        Non-Null Count  Dtype  \n",
      "---  ------        --------------  -----  \n",
      " 0   index         999 non-null    int64  \n",
      " 1   id_tweets     998 non-null    float64\n",
      " 2   text          999 non-null    object \n",
      " 3   id_doc        999 non-null    int64  \n",
      " 4   sent_m        999 non-null    object \n",
      " 5   sent_c        999 non-null    object \n",
      " 6   sent_g        999 non-null    object \n",
      " 7   sent_l        620 non-null    object \n",
      " 8   neutral_sent  620 non-null    float64\n",
      " 9   pos_sent      620 non-null    float64\n",
      " 10  neg_sent      620 non-null    float64\n",
      " 11  agree_sent    999 non-null    int64  \n",
      " 12  neutral_stan  620 non-null    float64\n",
      " 13  pos_stan      620 non-null    float64\n",
      " 14  neg_stan      620 non-null    float64\n",
      " 15  agree_stan    999 non-null    int64  \n",
      " 16  stance_m      999 non-null    object \n",
      " 17  stance_c      999 non-null    object \n",
      " 18  stance_g      999 non-null    object \n",
      " 19  stance_l      620 non-null    object \n",
      " 20  agree_stance  999 non-null    int64  \n",
      " 21  stance_mean   620 non-null    float64\n",
      "dtypes: float64(8), int64(5), object(9)\n",
      "memory usage: 171.8+ KB\n"
     ]
    }
   ],
   "source": [
    "# Get annotated tweets\n",
    "epfl_df = pd.read_csv('../data/local/epfl_1000_clean_data.csv').reset_index()\n",
    "\n",
    "epfl_df.info()"
   ]
  },
  {
   "cell_type": "markdown",
   "id": "92d7e0ea",
   "metadata": {},
   "source": [
    "# Using sample to test prompt"
   ]
  },
  {
   "cell_type": "code",
   "execution_count": 4,
   "id": "4a156e87",
   "metadata": {},
   "outputs": [],
   "source": [
    "# Prompt for GPT\n",
    "prompt_raw_1 = \"Give me the sentiment regarding vaccination expressed by the user of the tweet text delimited by triple backticks. \\\n",
    "Use one of the following words: neutral, negative, positive. Include an explanation for the selection of the sentiment. \\\n",
    "```{TWEET_TEXT_HERE}```\""
   ]
  },
  {
   "cell_type": "code",
   "execution_count": 5,
   "id": "f5ecf98f",
   "metadata": {},
   "outputs": [
    {
     "data": {
      "text/plain": [
       "'Give me the sentiment regarding vaccination expressed by the user of the tweet text delimited by triple backticks. Use one of the following words: neutral, negative, positive. Include an explanation for the selection of the sentiment. ```{TWEET_TEXT_HERE}```'"
      ]
     },
     "execution_count": 5,
     "metadata": {},
     "output_type": "execute_result"
    }
   ],
   "source": [
    "prompt_raw_1"
   ]
  },
  {
   "cell_type": "code",
   "execution_count": 6,
   "id": "884f2f49",
   "metadata": {},
   "outputs": [],
   "source": [
    "prompt_raw_0 = \"Give me the sentiment regarding vaccination in tweet text delimited by triple backticks. \\\n",
    "Use one of the following words: neutral, negative, positive. \\\n",
    "```{TWEET_TEXT_HERE}```\""
   ]
  },
  {
   "cell_type": "code",
   "execution_count": 8,
   "id": "bc4e54ef",
   "metadata": {},
   "outputs": [],
   "source": [
    "# Prompt for GPT\n",
    "prompt_raw_1 = \"Give me the sentiment regarding vaccination expressed by the user in the tweet text delimited by triple backticks. \\\n",
    "Use one of the following words: neutral, negative, positive. Include an explanation for the selection of the sentiment. \\\n",
    "```{TWEET_TEXT_HERE}```\""
   ]
  },
  {
   "cell_type": "code",
   "execution_count": 9,
   "id": "327f7b21",
   "metadata": {},
   "outputs": [],
   "source": [
    "prompt_raw_3 = \"Give me the sentiment regarding vaccination expressed by the user in the tweet text delimited by triple backticks. \\\n",
    "Use one of the following words: neutral, negative, positive. Include an explanation for the selection of the sentiment. \\\n",
    "\\\n",
    "News, factual or objective tweets as well as generally ambiguous examples should be classified as neutral.\\\n",
    "\\\n",
    "Examples of positive tweets: \\\n",
    "* Some news of hope. Hopefully this vaccine becomes success and India becomes leader again. \\\n",
    "* This has been a horrendous year for so many people who have lost loved ones. It would be wonderful if the #vaccine was effective and could be administered world-wide to prevent further loss. My fingers and toes are crossed. \\\n",
    "\\\n",
    "Examples of neutral tweets: \\\n",
    "* AstraZeneca Pauses Vaccine Trial After Test Subject Gets Ill <url> \\\n",
    "* The federal government outlined a sweeping plan Wednesday to make vaccines for COVID-19 available for free to all Americans. <url> \\\n",
    "\\\n",
    "Examples of negative tweets: \\\n",
    "* There's a reason these vaccines can take up to 20 years to reach market. Say no to the vaccine. \\\n",
    "* Vaccines may not be good for kids like the Dengue Fever vaccine. You’re playing with fire. <url> \\\n",
    "\\\n",
    "```{TWEET_TEXT_HERE}```\""
   ]
  },
  {
   "cell_type": "code",
   "execution_count": 10,
   "id": "3cd29cf2",
   "metadata": {},
   "outputs": [],
   "source": [
    "prompt_raw_4 = \"Give me the sentiment regarding vaccination expressed by the user in the tweet text delimited by triple backticks. \\\n",
    "Use one of the following words: neutral, negative, positive. Include an explanation for the selection of the sentiment. \\\n",
    "\\\n",
    "News, factual or objective tweets as well as generally ambiguous examples should be classified as neutral except if:\\\n",
    "* User agrees with a positive statement on vaccines or vaccinations which should be classified as positive \\\n",
    "* User disagrees with a positive statement on vaccines or vaccinations which should be classified as negative \\\n",
    "* User is angry or not happy when vaccines are not available which should be classified as positive \\\n",
    "* User is angry or not happy with a negative statement on vaccines or vaccinations which should be classified as positive \\\n",
    "* User is happy with a negative statement on vaccines or vaccinations which should be classified as negative \\\n",
    "* User is enquiring for availability or increased availability of a vaccine which should be classified as positive \\\n",
    "\\\n",
    "Examples of positive tweets: \\\n",
    "* Some news of hope. Hopefully this vaccine becomes success and India becomes leader again. \\\n",
    "* This has been a horrendous year for so many people who have lost loved ones. It would be wonderful if the #vaccine was effective and could be administered world-wide to prevent further loss. My fingers and toes are crossed. \\\n",
    "* A healthy recovery of the world from COVID-19 is only possible when no one is left behind making it necessary that the vaccine is accessible to all without any hurdle. #HealthForAll #Equality #Equity #publichealth #awarness. \\\n",
    "\\\n",
    "Examples of neutral tweets: \\\n",
    "* AstraZeneca Pauses Vaccine Trial After Test Subject Gets Ill <url> \\\n",
    "* The federal government outlined a sweeping plan Wednesday to make vaccines for COVID-19 available for free to all Americans. <url> \\\n",
    "\\\n",
    "Examples of negative tweets: \\\n",
    "* There's a reason these vaccines can take up to 20 years to reach market. Say no to the vaccine. \\\n",
    "* Vaccines may not be good for kids like the Dengue Fever vaccine. You’re playing with fire. <url> \\\n",
    "\\\n",
    "```{TWEET_TEXT_HERE}```\""
   ]
  },
  {
   "cell_type": "code",
   "execution_count": 11,
   "id": "1f0d844b",
   "metadata": {},
   "outputs": [],
   "source": [
    "prompt_raw_5 = \"Give me the sentiment regarding vaccination expressed by the user in the tweet text delimited by triple backticks. \\\n",
    "Use one of the following words: neutral, negative, positive. Include an explanation for the selection of the sentiment. \\\n",
    "\\\n",
    "News, factual or objective tweets as well as generally ambiguous examples should be classified as neutral except if:\\\n",
    "* User agrees with a positive statement on vaccines or vaccinations which should be classified as positive \\\n",
    "* User disagrees with a positive statement on vaccines or vaccinations which should be classified as negative \\\n",
    "* User is angry or not happy when vaccines are not available which should be classified as positive \\\n",
    "* User is angry or not happy with a negative statement on vaccines or vaccinations which should be classified as positive \\\n",
    "* User is happy with a negative statement on vaccines or vaccinations which should be classified as negative \\\n",
    "* User is enquiring for availability or increased availability of a vaccine which should be classified as positive \\\n",
    "\\\n",
    "Classify as positive if:\\\n",
    "* The user expresses hope or anticipation towards a vaccine.\\\n",
    "* The user expresses desire for having more vaccine doses. \\\n",
    "* The user is ironic on people being negative towards vaccine (e.g., I am not getting a vaccine because they are microchipping you. Posted on social media , on a phone..that has all your info, your location...and the info is being shared and sold ...Ummmm ok) \\\n",
    "\\\n",
    "Examples of positive tweets: \\\n",
    "* Some news of hope. Hopefully this vaccine becomes success and India becomes leader again. \\\n",
    "* This has been a horrendous year for so many people who have lost loved ones. It would be wonderful if the #vaccine was effective and could be administered world-wide to prevent further loss. My fingers and toes are crossed. \\\n",
    "* A healthy recovery of the world from COVID-19 is only possible when no one is left behind making it necessary that the vaccine is accessible to all without any hurdle. #HealthForAll #Equality #Equity #publichealth #awarness. \\\n",
    "* IF I SEE ONE MORE FUCKING POLITICIAN GET THE VACCINE BEFORE FRONT LINE WORKERS I'M GONNA LOSE MY SHIT!! \\\n",
    "* When will we learn to respect our scientific community ? Pathetic that ppl want to play politics on the vaccine \\\n",
    "* @user @user @user etc if U have so much problem so plz don't get them vaccinated, we know, U have enough money for treatment. U guys fall mild sick, immediately rush to medanta hospital.\\\n",
    "* $MRNA recieved approval across the pond in the U.K. demand increasing globally for a vaccine as cases rise. #stocks #finance #markets #investing #money #wealth #economy #OptionsTrading \\\n",
    "* On the other hand, they're more likely to receive much more effective and safe vaccines, so it's not quite as bad as you might think \\\n",
    "\\\n",
    "Examples of neutral tweets: \\\n",
    "* AstraZeneca Pauses Vaccine Trial After Test Subject Gets Ill <url> \\\n",
    "* The federal government outlined a sweeping plan Wednesday to make vaccines for COVID-19 available for free to all Americans. <url> \\\n",
    "\\\n",
    "Examples of negative tweets: \\\n",
    "* There's a reason these vaccines can take up to 20 years to reach market. Say no to the vaccine. \\\n",
    "* Vaccines may not be good for kids like the Dengue Fever vaccine. You’re playing with fire. <url> \\\n",
    "\\\n",
    "```{TWEET_TEXT_HERE}```\""
   ]
  },
  {
   "cell_type": "code",
   "execution_count": 70,
   "id": "d6dc0272",
   "metadata": {},
   "outputs": [],
   "source": [
    "prompt_raw_50 = \"Give me the sentiment regarding vaccination expressed by the user in the tweet text delimited by triple backticks. \\\n",
    "Select a value between -2 (very negative), -1 (negative), 0 (neutral), +1 (positive) and +2 (very positive). Include an explanation for the selection of the sentiment. \\\n",
    "\\\n",
    "News, factual or objective tweets as well as generally ambiguous examples should be classified as 0 except if:\\\n",
    "* User agrees with a positive statement on vaccines or vaccinations which should be classified as positive \\\n",
    "* User disagrees with a positive statement on vaccines or vaccinations which should be classified as negative \\\n",
    "* User is angry or not happy when vaccines are not available which should be classified as positive \\\n",
    "* User is angry or not happy with a negative statement on vaccines or vaccinations which should be classified as positive \\\n",
    "* User is happy with a negative statement on vaccines or vaccinations which should be classified as negative \\\n",
    "* User is enquiring for availability or increased availability of a vaccine which should be classified as positive \\\n",
    "\\\n",
    "Classify as negative or very negative if:\\\n",
    "* The user expresses hope or anticipation towards a vaccine.\\\n",
    "* The user expresses desire for having more vaccine doses. \\\n",
    "* The user is ironic on people being negative towards vaccine (e.g., I am not getting a vaccine because they are microchipping you. Posted on social media , on a phone..that has all your info, your location...and the info is being shared and sold ...Ummmm ok) \\\n",
    "\\\n",
    "Examples of positive or very positive tweets: \\\n",
    "* Some news of hope. Hopefully this vaccine becomes success and India becomes leader again. \\\n",
    "* This has been a horrendous year for so many people who have lost loved ones. It would be wonderful if the #vaccine was effective and could be administered world-wide to prevent further loss. My fingers and toes are crossed. \\\n",
    "* A healthy recovery of the world from COVID-19 is only possible when no one is left behind making it necessary that the vaccine is accessible to all without any hurdle. #HealthForAll #Equality #Equity #publichealth #awarness. \\\n",
    "* IF I SEE ONE MORE FUCKING POLITICIAN GET THE VACCINE BEFORE FRONT LINE WORKERS I'M GONNA LOSE MY SHIT!! \\\n",
    "* When will we learn to respect our scientific community ? Pathetic that ppl want to play politics on the vaccine \\\n",
    "* @user @user @user etc if U have so much problem so plz don't get them vaccinated, we know, U have enough money for treatment. U guys fall mild sick, immediately rush to medanta hospital.\\\n",
    "* $MRNA recieved approval across the pond in the U.K. demand increasing globally for a vaccine as cases rise. #stocks #finance #markets #investing #money #wealth #economy #OptionsTrading \\\n",
    "* On the other hand, they're more likely to receive much more effective and safe vaccines, so it's not quite as bad as you might think \\\n",
    "\\\n",
    "Examples of neutral tweets: \\\n",
    "* AstraZeneca Pauses Vaccine Trial After Test Subject Gets Ill <url> \\\n",
    "* The federal government outlined a sweeping plan Wednesday to make vaccines for COVID-19 available for free to all Americans. <url> \\\n",
    "\\\n",
    "Examples of negative or very negative tweets: \\\n",
    "* There's a reason these vaccines can take up to 20 years to reach market. Say no to the vaccine. \\\n",
    "* Vaccines may not be good for kids like the Dengue Fever vaccine. You’re playing with fire. <url> \\\n",
    "\\\n",
    "```{TWEET_TEXT_HERE}```\""
   ]
  },
  {
   "cell_type": "code",
   "execution_count": 12,
   "id": "43425117",
   "metadata": {},
   "outputs": [],
   "source": [
    "prompt_raw_6 = \"Give me the sentiment regarding vaccination expressed by the user in the tweet text delimited by triple backticks. \\\n",
    "Use one of the following words: neutral, negative, positive. Include an explanation for the selection of the sentiment. \\\n",
    "\\\n",
    "News, factual or objective tweets as well as generally ambiguous examples should be classified as neutral except if:\\\n",
    "* User agrees with a positive statement on vaccines or vaccinations which should be classified as positive \\\n",
    "* User disagrees with a positive statement on vaccines or vaccinations which should be classified as negative \\\n",
    "* User is angry or not happy when vaccines are not available which should be classified as positive \\\n",
    "* User is angry or not happy with a negative statement on vaccines or vaccinations which should be classified as positive \\\n",
    "* User is happy with a negative statement on vaccines or vaccinations which should be classified as negative \\\n",
    "* User is enquiring for availability or increased availability of a vaccine which should be classified as positive \\\n",
    "\\\n",
    "Classify as positive if:\\\n",
    "* The user expresses hope or anticipation towards a vaccine.\\\n",
    "* The user expresses desire for having more vaccine doses. \\\n",
    "\\\n",
    "Examples of positive tweets: \\\n",
    "* Some news of hope. Hopefully this vaccine becomes success and India becomes leader again. \\\n",
    "* This has been a horrendous year for so many people who have lost loved ones. It would be wonderful if the #vaccine was effective and could be administered world-wide to prevent further loss. My fingers and toes are crossed. \\\n",
    "* A healthy recovery of the world from COVID-19 is only possible when no one is left behind making it necessary that the vaccine is accessible to all without any hurdle. #HealthForAll #Equality #Equity #publichealth #awarness. \\\n",
    "* IF I SEE ONE MORE FUCKING POLITICIAN GET THE VACCINE BEFORE FRONT LINE WORKERS I'M GONNA LOSE MY SHIT!! \\\n",
    "* When will we learn to respect our scientific community ? Pathetic that ppl want to play politics on the vaccine \\\n",
    "* @user @user @user etc if U have so much problem so plz don't get them vaccinated, we know, U have enough money for treatment. U guys fall mild sick, immediately rush to medanta hospital.\\\n",
    "* $MRNA recieved approval across the pond in the U.K. demand increasing globally for a vaccine as cases rise. #stocks #finance #markets #investing #money #wealth #economy #OptionsTrading \\\n",
    "* On the other hand, they're more likely to receive much more effective and safe vaccines, so it's not quite as bad as you might think \\\n",
    "\\\n",
    "Examples of neutral tweets: \\\n",
    "* AstraZeneca Pauses Vaccine Trial After Test Subject Gets Ill <url> \\\n",
    "* The federal government outlined a sweeping plan Wednesday to make vaccines for COVID-19 available for free to all Americans. <url> \\\n",
    "\\\n",
    "Examples of negative tweets: \\\n",
    "* There's a reason these vaccines can take up to 20 years to reach market. Say no to the vaccine. \\\n",
    "* Vaccines may not be good for kids like the Dengue Fever vaccine. You’re playing with fire. <url> \\\n",
    "\\\n",
    "```{TWEET_TEXT_HERE}```\""
   ]
  },
  {
   "cell_type": "code",
   "execution_count": 50,
   "id": "a6fb2649",
   "metadata": {},
   "outputs": [],
   "source": [
    "prompt_raw_7 = \"Give me the sentiment regarding vaccination expressed by the user in the tweet text delimited by triple backticks. \\\n",
    "Use one of the following words: neutral, negative, positive. Include an explanation for the selection of the sentiment. \\\n",
    "\\\n",
    "News, factual or objective tweets as well as generally ambiguous examples should be classified as neutral except if:\\\n",
    "* User agrees with a positive statement on vaccines or vaccinations which should be classified as positive \\\n",
    "* User disagrees with a positive statement on vaccines or vaccinations which should be classified as negative \\\n",
    "* User is angry or not happy when vaccines are not available which should be classified as positive \\\n",
    "* User is angry or not happy with a negative statement on vaccines or vaccinations which should be classified as positive \\\n",
    "* User is happy with a negative statement on vaccines or vaccinations which should be classified as negative \\\n",
    "* User is enquiring for availability or increased availability of a vaccine which should be classified as positive \\\n",
    "\\\n",
    "Classify as positive if:\\\n",
    "* The user expresses hope or anticipation towards a vaccine.\\\n",
    "* The user expresses desire for having more vaccine doses. \\\n",
    "\\\n",
    "Examples of positive tweets: \\\n",
    "* Some news of hope. Hopefully this vaccine becomes success and India becomes leader again. \\\n",
    "* This has been a horrendous year for so many people who have lost loved ones. It would be wonderful if the #vaccine was effective and could be administered world-wide to prevent further loss. My fingers and toes are crossed. \\\n",
    "* A healthy recovery of the world from COVID-19 is only possible when no one is left behind making it necessary that the vaccine is accessible to all without any hurdle. #HealthForAll #Equality #Equity #publichealth #awarness. \\\n",
    "* IF I SEE ONE MORE FUCKING POLITICIAN GET THE VACCINE BEFORE FRONT LINE WORKERS I'M GONNA LOSE MY SHIT!! \\\n",
    "* When will we learn to respect our scientific community ? Pathetic that ppl want to play politics on the vaccine \\\n",
    "* @user @user @user etc if U have so much problem so plz don't get them vaccinated, we know, U have enough money for treatment. U guys fall mild sick, immediately rush to medanta hospital.\\\n",
    "* $MRNA recieved approval across the pond in the U.K. demand increasing globally for a vaccine as cases rise. #stocks #finance #markets #investing #money #wealth #economy #OptionsTrading \\\n",
    "* On the other hand, they're more likely to receive much more effective and safe vaccines, so it's not quite as bad as you might think \\\n",
    "* Why are not more COVID-19 vaccine doses available immediately? <url> \\\n",
    "* America have fewer COVID-19 vaccines due to #MassMurderer #realDonaldTrumpâ€™s FAILED financial interests <url> \\\n",
    "\\\n",
    "Examples of neutral tweets: \\\n",
    "* AstraZeneca Pauses Vaccine Trial After Test Subject Gets Ill <url> \\\n",
    "* The federal government outlined a sweeping plan Wednesday to make vaccines for COVID-19 available for free to all Americans. <url> \\\n",
    "\\\n",
    "Examples of negative tweets: \\\n",
    "* There's a reason these vaccines can take up to 20 years to reach market. Say no to the vaccine. \\\n",
    "* Vaccines may not be good for kids like the Dengue Fever vaccine. You’re playing with fire. <url> \\\n",
    "* Dr: Are you experiencing any side effects from the vaccine? Me: * sleeps while standing there* huh? \\\n",
    "* There is a virus which has killed so many people for years. This virus is called hunger and the vaccine for hunger is food. However no one talks about it, why? Because this virus doesn't kill rich people.\\\n",
    "* @user : There are over 100 different coronavirus vaccine candidates in the works. These candidates take a variety of approaches to protecting the body against COVID-19: <url> #CoronaVirusUpdates #CoronavirusVaccine #StayHome <url> \\\n",
    "* <It would go away without the vaccine> #HerdMentality this man knows nothing about viruses. \\\n",
    "* Anti-vaxxer Novak Djokovic. #COVID19 #tennis The current world number one is the fourth player to test positive from the event that did not even pay lip service to social distancing. <url> via @user \\\n",
    "\\\n",
    "```{TWEET_TEXT_HERE}```\""
   ]
  },
  {
   "cell_type": "code",
   "execution_count": 14,
   "id": "ef5e7ea0",
   "metadata": {},
   "outputs": [],
   "source": [
    "prompt_raw_8 = \"Give me the stance of the user towards vaccination in the tweet text delimited by triple backticks, regardless of the general sentiment expressed in the tweet. A tweet with a negative general sentiment can express a positive stance of the user towards vaccination and viceversa. \\\n",
    "Use one of the following words: neutral, negative, positive. Include an explanation for the selection of the stance. \\\n",
    "The reply must contain the selected word for the stance followed by '.' and followed by the explanation for the selected stance. \\\n",
    "\\\n",
    "News, factual or objective tweets as well as generally ambiguous examples should be classified as neutral except if:\\\n",
    "* User agrees with a positive statement on vaccines or vaccinations which should be classified as positive \\\n",
    "* User disagrees with a positive statement on vaccines or vaccinations which should be classified as negative \\\n",
    "* User is angry or not happy when vaccines are not available which should be classified as positive \\\n",
    "* User is angry or not happy with a negative statement on vaccines or vaccinations which should be classified as positive \\\n",
    "* User is happy with a negative statement on vaccines or vaccinations which should be classified as negative \\\n",
    "* User is enquiring for availability or increased availability of a vaccine which should be classified as positive \\\n",
    "\\\n",
    "Classify as positive if:\\\n",
    "* The user expresses hope or anticipation towards a vaccine.\\\n",
    "* The user expresses desire for having more vaccine doses. \\\n",
    "* The user is ironic on people being negative towards vaccine (e.g., I am not getting a vaccine because they are microchipping you. Posted on social media , on a phone..that has all your info, your location...and the info is being shared and sold ...Ummmm ok) \\\n",
    "\\\n",
    "Examples of positive tweets: \\\n",
    "* Some news of hope. Hopefully this vaccine becomes success and India becomes leader again. \\\n",
    "* This has been a horrendous year for so many people who have lost loved ones. It would be wonderful if the #vaccine was effective and could be administered world-wide to prevent further loss. My fingers and toes are crossed. \\\n",
    "* A healthy recovery of the world from COVID-19 is only possible when no one is left behind making it necessary that the vaccine is accessible to all without any hurdle. #HealthForAll #Equality #Equity #publichealth #awarness. \\\n",
    "* IF I SEE ONE MORE FUCKING POLITICIAN GET THE VACCINE BEFORE FRONT LINE WORKERS I'M GONNA LOSE MY SHIT!! \\\n",
    "* When will we learn to respect our scientific community ? Pathetic that ppl want to play politics on the vaccine \\\n",
    "* @user @user @user etc if U have so much problem so plz don't get them vaccinated, we know, U have enough money for treatment. U guys fall mild sick, immediately rush to medanta hospital.\\\n",
    "* $MRNA recieved approval across the pond in the U.K. demand increasing globally for a vaccine as cases rise. #stocks #finance #markets #investing #money #wealth #economy #OptionsTrading \\\n",
    "* On the other hand, they're more likely to receive much more effective and safe vaccines, so it's not quite as bad as you might think \\\n",
    "\\\n",
    "Examples of neutral tweets: \\\n",
    "* AstraZeneca Pauses Vaccine Trial After Test Subject Gets Ill <url> \\\n",
    "* The federal government outlined a sweeping plan Wednesday to make vaccines for COVID-19 available for free to all Americans. <url> \\\n",
    "\\\n",
    "Examples of negative tweets: \\\n",
    "* There's a reason these vaccines can take up to 20 years to reach market. Say no to the vaccine. \\\n",
    "* Vaccines may not be good for kids like the Dengue Fever vaccine. You’re playing with fire. <url> \\\n",
    "\\\n",
    "```{TWEET_TEXT_HERE}```\""
   ]
  },
  {
   "cell_type": "code",
   "execution_count": 5,
   "id": "a4c64c70",
   "metadata": {},
   "outputs": [],
   "source": [
    "#prompt_i = prompt_raw.replace('TWEET_TEXT_HERE', tweets.iloc[0,1])"
   ]
  },
  {
   "cell_type": "code",
   "execution_count": 15,
   "id": "a315bbd9",
   "metadata": {},
   "outputs": [
    {
     "data": {
      "text/plain": [
       "999"
      ]
     },
     "execution_count": 15,
     "metadata": {},
     "output_type": "execute_result"
    }
   ],
   "source": [
    "len(epfl_df.index)"
   ]
  },
  {
   "cell_type": "code",
   "execution_count": 19,
   "id": "c15b8328",
   "metadata": {},
   "outputs": [
    {
     "data": {
      "text/plain": [
       "'Breakdown of who will get Pfizer Covid vaccine jab first revealed <url>'"
      ]
     },
     "execution_count": 19,
     "metadata": {},
     "output_type": "execute_result"
    }
   ],
   "source": [
    "epfl_df.iloc[0,2]"
   ]
  },
  {
   "cell_type": "code",
   "execution_count": 49,
   "id": "fe47a29f",
   "metadata": {},
   "outputs": [],
   "source": [
    "id_gpt = []\n",
    "sent_gpt = []\n",
    "text = []"
   ]
  },
  {
   "cell_type": "code",
   "execution_count": 195,
   "id": "52c9278a",
   "metadata": {
    "scrolled": true
   },
   "outputs": [],
   "source": [
    "for i in range(0, 999):\n",
    "    prompt_i = prompt_raw_5.replace('TWEET_TEXT_HERE', epfl_df.iloc[i,2])\n",
    "    response = openai.Completion.create(\n",
    "      model=\"text-davinci-003\",\n",
    "      prompt=prompt_i,\n",
    "      temperature=0.8,\n",
    "      max_tokens=256,\n",
    "      top_p=1,\n",
    "      frequency_penalty=0,\n",
    "      presence_penalty=0\n",
    "    )\n",
    "    text.append(epfl_df.iloc[i,2])\n",
    "    sent_gpt.append(response.choices[0].text)"
   ]
  },
  {
   "cell_type": "code",
   "execution_count": 51,
   "id": "538bd7b4",
   "metadata": {},
   "outputs": [
    {
     "ename": "KeyboardInterrupt",
     "evalue": "",
     "output_type": "error",
     "traceback": [
      "\u001b[1;31m---------------------------------------------------------------------------\u001b[0m",
      "\u001b[1;31mKeyboardInterrupt\u001b[0m                         Traceback (most recent call last)",
      "Cell \u001b[1;32mIn[51], line 3\u001b[0m\n\u001b[0;32m      1\u001b[0m \u001b[38;5;28;01mfor\u001b[39;00m i \u001b[38;5;129;01min\u001b[39;00m \u001b[38;5;28mrange\u001b[39m(\u001b[38;5;241m0\u001b[39m, \u001b[38;5;241m999\u001b[39m):\n\u001b[0;32m      2\u001b[0m     prompt_i \u001b[38;5;241m=\u001b[39m prompt_raw_7\u001b[38;5;241m.\u001b[39mreplace(\u001b[38;5;124m'\u001b[39m\u001b[38;5;124mTWEET_TEXT_HERE\u001b[39m\u001b[38;5;124m'\u001b[39m, epfl_df\u001b[38;5;241m.\u001b[39miloc[i,\u001b[38;5;241m2\u001b[39m])\n\u001b[1;32m----> 3\u001b[0m     response \u001b[38;5;241m=\u001b[39m \u001b[43mopenai\u001b[49m\u001b[38;5;241;43m.\u001b[39;49m\u001b[43mChatCompletion\u001b[49m\u001b[38;5;241;43m.\u001b[39;49m\u001b[43mcreate\u001b[49m\u001b[43m(\u001b[49m\n\u001b[0;32m      4\u001b[0m \u001b[43m      \u001b[49m\u001b[38;5;66;43;03m#model=\"text-davinci-003\",\u001b[39;49;00m\n\u001b[0;32m      5\u001b[0m \u001b[43m      \u001b[49m\u001b[43mmodel\u001b[49m\u001b[43m \u001b[49m\u001b[38;5;241;43m=\u001b[39;49m\u001b[43m \u001b[49m\u001b[38;5;124;43m\"\u001b[39;49m\u001b[38;5;124;43mgpt-4\u001b[39;49m\u001b[38;5;124;43m\"\u001b[39;49m\u001b[43m,\u001b[49m\n\u001b[0;32m      6\u001b[0m \u001b[43m      \u001b[49m\u001b[43mmessages\u001b[49m\u001b[38;5;241;43m=\u001b[39;49m\u001b[43m[\u001b[49m\u001b[43m{\u001b[49m\u001b[38;5;124;43m\"\u001b[39;49m\u001b[38;5;124;43mrole\u001b[39;49m\u001b[38;5;124;43m\"\u001b[39;49m\u001b[43m:\u001b[49m\u001b[43m \u001b[49m\u001b[38;5;124;43m\"\u001b[39;49m\u001b[38;5;124;43muser\u001b[39;49m\u001b[38;5;124;43m\"\u001b[39;49m\u001b[43m,\u001b[49m\u001b[43m \u001b[49m\u001b[38;5;124;43m\"\u001b[39;49m\u001b[38;5;124;43mcontent\u001b[39;49m\u001b[38;5;124;43m\"\u001b[39;49m\u001b[43m:\u001b[49m\u001b[43m \u001b[49m\u001b[43mprompt_i\u001b[49m\u001b[43m}\u001b[49m\u001b[43m]\u001b[49m\u001b[43m,\u001b[49m\n\u001b[0;32m      7\u001b[0m \u001b[43m      \u001b[49m\u001b[43mtemperature\u001b[49m\u001b[38;5;241;43m=\u001b[39;49m\u001b[38;5;241;43m0.8\u001b[39;49m\u001b[43m,\u001b[49m\n\u001b[0;32m      8\u001b[0m \u001b[43m      \u001b[49m\u001b[38;5;66;43;03m#max_tokens=256,\u001b[39;49;00m\n\u001b[0;32m      9\u001b[0m \u001b[43m      \u001b[49m\u001b[43mtop_p\u001b[49m\u001b[38;5;241;43m=\u001b[39;49m\u001b[38;5;241;43m1\u001b[39;49m\u001b[43m,\u001b[49m\n\u001b[0;32m     10\u001b[0m \u001b[43m      \u001b[49m\u001b[43mfrequency_penalty\u001b[49m\u001b[38;5;241;43m=\u001b[39;49m\u001b[38;5;241;43m0\u001b[39;49m\u001b[43m,\u001b[49m\n\u001b[0;32m     11\u001b[0m \u001b[43m      \u001b[49m\u001b[43mpresence_penalty\u001b[49m\u001b[38;5;241;43m=\u001b[39;49m\u001b[38;5;241;43m0\u001b[39;49m\n\u001b[0;32m     12\u001b[0m \u001b[43m    \u001b[49m\u001b[43m)\u001b[49m\n\u001b[0;32m     13\u001b[0m     text\u001b[38;5;241m.\u001b[39mappend(epfl_df\u001b[38;5;241m.\u001b[39miloc[i,\u001b[38;5;241m2\u001b[39m])\n\u001b[0;32m     14\u001b[0m     sent_gpt\u001b[38;5;241m.\u001b[39mappend(response\u001b[38;5;241m.\u001b[39mchoices[\u001b[38;5;241m0\u001b[39m]\u001b[38;5;241m.\u001b[39mmessage\u001b[38;5;241m.\u001b[39mcontent)\n",
      "File \u001b[1;32m~\\Anaconda3\\lib\\site-packages\\openai\\api_resources\\chat_completion.py:25\u001b[0m, in \u001b[0;36mChatCompletion.create\u001b[1;34m(cls, *args, **kwargs)\u001b[0m\n\u001b[0;32m     23\u001b[0m \u001b[38;5;28;01mwhile\u001b[39;00m \u001b[38;5;28;01mTrue\u001b[39;00m:\n\u001b[0;32m     24\u001b[0m     \u001b[38;5;28;01mtry\u001b[39;00m:\n\u001b[1;32m---> 25\u001b[0m         \u001b[38;5;28;01mreturn\u001b[39;00m \u001b[38;5;28msuper\u001b[39m()\u001b[38;5;241m.\u001b[39mcreate(\u001b[38;5;241m*\u001b[39margs, \u001b[38;5;241m*\u001b[39m\u001b[38;5;241m*\u001b[39mkwargs)\n\u001b[0;32m     26\u001b[0m     \u001b[38;5;28;01mexcept\u001b[39;00m TryAgain \u001b[38;5;28;01mas\u001b[39;00m e:\n\u001b[0;32m     27\u001b[0m         \u001b[38;5;28;01mif\u001b[39;00m timeout \u001b[38;5;129;01mis\u001b[39;00m \u001b[38;5;129;01mnot\u001b[39;00m \u001b[38;5;28;01mNone\u001b[39;00m \u001b[38;5;129;01mand\u001b[39;00m time\u001b[38;5;241m.\u001b[39mtime() \u001b[38;5;241m>\u001b[39m start \u001b[38;5;241m+\u001b[39m timeout:\n",
      "File \u001b[1;32m~\\Anaconda3\\lib\\site-packages\\openai\\api_resources\\abstract\\engine_api_resource.py:153\u001b[0m, in \u001b[0;36mEngineAPIResource.create\u001b[1;34m(cls, api_key, api_base, api_type, request_id, api_version, organization, **params)\u001b[0m\n\u001b[0;32m    127\u001b[0m \u001b[38;5;129m@classmethod\u001b[39m\n\u001b[0;32m    128\u001b[0m \u001b[38;5;28;01mdef\u001b[39;00m \u001b[38;5;21mcreate\u001b[39m(\n\u001b[0;32m    129\u001b[0m     \u001b[38;5;28mcls\u001b[39m,\n\u001b[1;32m   (...)\u001b[0m\n\u001b[0;32m    136\u001b[0m     \u001b[38;5;241m*\u001b[39m\u001b[38;5;241m*\u001b[39mparams,\n\u001b[0;32m    137\u001b[0m ):\n\u001b[0;32m    138\u001b[0m     (\n\u001b[0;32m    139\u001b[0m         deployment_id,\n\u001b[0;32m    140\u001b[0m         engine,\n\u001b[1;32m   (...)\u001b[0m\n\u001b[0;32m    150\u001b[0m         api_key, api_base, api_type, api_version, organization, \u001b[38;5;241m*\u001b[39m\u001b[38;5;241m*\u001b[39mparams\n\u001b[0;32m    151\u001b[0m     )\n\u001b[1;32m--> 153\u001b[0m     response, _, api_key \u001b[38;5;241m=\u001b[39m \u001b[43mrequestor\u001b[49m\u001b[38;5;241;43m.\u001b[39;49m\u001b[43mrequest\u001b[49m\u001b[43m(\u001b[49m\n\u001b[0;32m    154\u001b[0m \u001b[43m        \u001b[49m\u001b[38;5;124;43m\"\u001b[39;49m\u001b[38;5;124;43mpost\u001b[39;49m\u001b[38;5;124;43m\"\u001b[39;49m\u001b[43m,\u001b[49m\n\u001b[0;32m    155\u001b[0m \u001b[43m        \u001b[49m\u001b[43murl\u001b[49m\u001b[43m,\u001b[49m\n\u001b[0;32m    156\u001b[0m \u001b[43m        \u001b[49m\u001b[43mparams\u001b[49m\u001b[38;5;241;43m=\u001b[39;49m\u001b[43mparams\u001b[49m\u001b[43m,\u001b[49m\n\u001b[0;32m    157\u001b[0m \u001b[43m        \u001b[49m\u001b[43mheaders\u001b[49m\u001b[38;5;241;43m=\u001b[39;49m\u001b[43mheaders\u001b[49m\u001b[43m,\u001b[49m\n\u001b[0;32m    158\u001b[0m \u001b[43m        \u001b[49m\u001b[43mstream\u001b[49m\u001b[38;5;241;43m=\u001b[39;49m\u001b[43mstream\u001b[49m\u001b[43m,\u001b[49m\n\u001b[0;32m    159\u001b[0m \u001b[43m        \u001b[49m\u001b[43mrequest_id\u001b[49m\u001b[38;5;241;43m=\u001b[39;49m\u001b[43mrequest_id\u001b[49m\u001b[43m,\u001b[49m\n\u001b[0;32m    160\u001b[0m \u001b[43m        \u001b[49m\u001b[43mrequest_timeout\u001b[49m\u001b[38;5;241;43m=\u001b[39;49m\u001b[43mrequest_timeout\u001b[49m\u001b[43m,\u001b[49m\n\u001b[0;32m    161\u001b[0m \u001b[43m    \u001b[49m\u001b[43m)\u001b[49m\n\u001b[0;32m    163\u001b[0m     \u001b[38;5;28;01mif\u001b[39;00m stream:\n\u001b[0;32m    164\u001b[0m         \u001b[38;5;66;03m# must be an iterator\u001b[39;00m\n\u001b[0;32m    165\u001b[0m         \u001b[38;5;28;01massert\u001b[39;00m \u001b[38;5;129;01mnot\u001b[39;00m \u001b[38;5;28misinstance\u001b[39m(response, OpenAIResponse)\n",
      "File \u001b[1;32m~\\Anaconda3\\lib\\site-packages\\openai\\api_requestor.py:216\u001b[0m, in \u001b[0;36mAPIRequestor.request\u001b[1;34m(self, method, url, params, headers, files, stream, request_id, request_timeout)\u001b[0m\n\u001b[0;32m    205\u001b[0m \u001b[38;5;28;01mdef\u001b[39;00m \u001b[38;5;21mrequest\u001b[39m(\n\u001b[0;32m    206\u001b[0m     \u001b[38;5;28mself\u001b[39m,\n\u001b[0;32m    207\u001b[0m     method,\n\u001b[1;32m   (...)\u001b[0m\n\u001b[0;32m    214\u001b[0m     request_timeout: Optional[Union[\u001b[38;5;28mfloat\u001b[39m, Tuple[\u001b[38;5;28mfloat\u001b[39m, \u001b[38;5;28mfloat\u001b[39m]]] \u001b[38;5;241m=\u001b[39m \u001b[38;5;28;01mNone\u001b[39;00m,\n\u001b[0;32m    215\u001b[0m ) \u001b[38;5;241m-\u001b[39m\u001b[38;5;241m>\u001b[39m Tuple[Union[OpenAIResponse, Iterator[OpenAIResponse]], \u001b[38;5;28mbool\u001b[39m, \u001b[38;5;28mstr\u001b[39m]:\n\u001b[1;32m--> 216\u001b[0m     result \u001b[38;5;241m=\u001b[39m \u001b[38;5;28;43mself\u001b[39;49m\u001b[38;5;241;43m.\u001b[39;49m\u001b[43mrequest_raw\u001b[49m\u001b[43m(\u001b[49m\n\u001b[0;32m    217\u001b[0m \u001b[43m        \u001b[49m\u001b[43mmethod\u001b[49m\u001b[38;5;241;43m.\u001b[39;49m\u001b[43mlower\u001b[49m\u001b[43m(\u001b[49m\u001b[43m)\u001b[49m\u001b[43m,\u001b[49m\n\u001b[0;32m    218\u001b[0m \u001b[43m        \u001b[49m\u001b[43murl\u001b[49m\u001b[43m,\u001b[49m\n\u001b[0;32m    219\u001b[0m \u001b[43m        \u001b[49m\u001b[43mparams\u001b[49m\u001b[38;5;241;43m=\u001b[39;49m\u001b[43mparams\u001b[49m\u001b[43m,\u001b[49m\n\u001b[0;32m    220\u001b[0m \u001b[43m        \u001b[49m\u001b[43msupplied_headers\u001b[49m\u001b[38;5;241;43m=\u001b[39;49m\u001b[43mheaders\u001b[49m\u001b[43m,\u001b[49m\n\u001b[0;32m    221\u001b[0m \u001b[43m        \u001b[49m\u001b[43mfiles\u001b[49m\u001b[38;5;241;43m=\u001b[39;49m\u001b[43mfiles\u001b[49m\u001b[43m,\u001b[49m\n\u001b[0;32m    222\u001b[0m \u001b[43m        \u001b[49m\u001b[43mstream\u001b[49m\u001b[38;5;241;43m=\u001b[39;49m\u001b[43mstream\u001b[49m\u001b[43m,\u001b[49m\n\u001b[0;32m    223\u001b[0m \u001b[43m        \u001b[49m\u001b[43mrequest_id\u001b[49m\u001b[38;5;241;43m=\u001b[39;49m\u001b[43mrequest_id\u001b[49m\u001b[43m,\u001b[49m\n\u001b[0;32m    224\u001b[0m \u001b[43m        \u001b[49m\u001b[43mrequest_timeout\u001b[49m\u001b[38;5;241;43m=\u001b[39;49m\u001b[43mrequest_timeout\u001b[49m\u001b[43m,\u001b[49m\n\u001b[0;32m    225\u001b[0m \u001b[43m    \u001b[49m\u001b[43m)\u001b[49m\n\u001b[0;32m    226\u001b[0m     resp, got_stream \u001b[38;5;241m=\u001b[39m \u001b[38;5;28mself\u001b[39m\u001b[38;5;241m.\u001b[39m_interpret_response(result, stream)\n\u001b[0;32m    227\u001b[0m     \u001b[38;5;28;01mreturn\u001b[39;00m resp, got_stream, \u001b[38;5;28mself\u001b[39m\u001b[38;5;241m.\u001b[39mapi_key\n",
      "File \u001b[1;32m~\\Anaconda3\\lib\\site-packages\\openai\\api_requestor.py:516\u001b[0m, in \u001b[0;36mAPIRequestor.request_raw\u001b[1;34m(self, method, url, params, supplied_headers, files, stream, request_id, request_timeout)\u001b[0m\n\u001b[0;32m    514\u001b[0m     _thread_context\u001b[38;5;241m.\u001b[39msession \u001b[38;5;241m=\u001b[39m _make_session()\n\u001b[0;32m    515\u001b[0m \u001b[38;5;28;01mtry\u001b[39;00m:\n\u001b[1;32m--> 516\u001b[0m     result \u001b[38;5;241m=\u001b[39m \u001b[43m_thread_context\u001b[49m\u001b[38;5;241;43m.\u001b[39;49m\u001b[43msession\u001b[49m\u001b[38;5;241;43m.\u001b[39;49m\u001b[43mrequest\u001b[49m\u001b[43m(\u001b[49m\n\u001b[0;32m    517\u001b[0m \u001b[43m        \u001b[49m\u001b[43mmethod\u001b[49m\u001b[43m,\u001b[49m\n\u001b[0;32m    518\u001b[0m \u001b[43m        \u001b[49m\u001b[43mabs_url\u001b[49m\u001b[43m,\u001b[49m\n\u001b[0;32m    519\u001b[0m \u001b[43m        \u001b[49m\u001b[43mheaders\u001b[49m\u001b[38;5;241;43m=\u001b[39;49m\u001b[43mheaders\u001b[49m\u001b[43m,\u001b[49m\n\u001b[0;32m    520\u001b[0m \u001b[43m        \u001b[49m\u001b[43mdata\u001b[49m\u001b[38;5;241;43m=\u001b[39;49m\u001b[43mdata\u001b[49m\u001b[43m,\u001b[49m\n\u001b[0;32m    521\u001b[0m \u001b[43m        \u001b[49m\u001b[43mfiles\u001b[49m\u001b[38;5;241;43m=\u001b[39;49m\u001b[43mfiles\u001b[49m\u001b[43m,\u001b[49m\n\u001b[0;32m    522\u001b[0m \u001b[43m        \u001b[49m\u001b[43mstream\u001b[49m\u001b[38;5;241;43m=\u001b[39;49m\u001b[43mstream\u001b[49m\u001b[43m,\u001b[49m\n\u001b[0;32m    523\u001b[0m \u001b[43m        \u001b[49m\u001b[43mtimeout\u001b[49m\u001b[38;5;241;43m=\u001b[39;49m\u001b[43mrequest_timeout\u001b[49m\u001b[43m \u001b[49m\u001b[38;5;28;43;01mif\u001b[39;49;00m\u001b[43m \u001b[49m\u001b[43mrequest_timeout\u001b[49m\u001b[43m \u001b[49m\u001b[38;5;28;43;01melse\u001b[39;49;00m\u001b[43m \u001b[49m\u001b[43mTIMEOUT_SECS\u001b[49m\u001b[43m,\u001b[49m\n\u001b[0;32m    524\u001b[0m \u001b[43m    \u001b[49m\u001b[43m)\u001b[49m\n\u001b[0;32m    525\u001b[0m \u001b[38;5;28;01mexcept\u001b[39;00m requests\u001b[38;5;241m.\u001b[39mexceptions\u001b[38;5;241m.\u001b[39mTimeout \u001b[38;5;28;01mas\u001b[39;00m e:\n\u001b[0;32m    526\u001b[0m     \u001b[38;5;28;01mraise\u001b[39;00m error\u001b[38;5;241m.\u001b[39mTimeout(\u001b[38;5;124m\"\u001b[39m\u001b[38;5;124mRequest timed out: \u001b[39m\u001b[38;5;132;01m{}\u001b[39;00m\u001b[38;5;124m\"\u001b[39m\u001b[38;5;241m.\u001b[39mformat(e)) \u001b[38;5;28;01mfrom\u001b[39;00m \u001b[38;5;21;01me\u001b[39;00m\n",
      "File \u001b[1;32m~\\Anaconda3\\lib\\site-packages\\requests\\sessions.py:587\u001b[0m, in \u001b[0;36mSession.request\u001b[1;34m(self, method, url, params, data, headers, cookies, files, auth, timeout, allow_redirects, proxies, hooks, stream, verify, cert, json)\u001b[0m\n\u001b[0;32m    582\u001b[0m send_kwargs \u001b[38;5;241m=\u001b[39m {\n\u001b[0;32m    583\u001b[0m     \u001b[38;5;124m\"\u001b[39m\u001b[38;5;124mtimeout\u001b[39m\u001b[38;5;124m\"\u001b[39m: timeout,\n\u001b[0;32m    584\u001b[0m     \u001b[38;5;124m\"\u001b[39m\u001b[38;5;124mallow_redirects\u001b[39m\u001b[38;5;124m\"\u001b[39m: allow_redirects,\n\u001b[0;32m    585\u001b[0m }\n\u001b[0;32m    586\u001b[0m send_kwargs\u001b[38;5;241m.\u001b[39mupdate(settings)\n\u001b[1;32m--> 587\u001b[0m resp \u001b[38;5;241m=\u001b[39m \u001b[38;5;28mself\u001b[39m\u001b[38;5;241m.\u001b[39msend(prep, \u001b[38;5;241m*\u001b[39m\u001b[38;5;241m*\u001b[39msend_kwargs)\n\u001b[0;32m    589\u001b[0m \u001b[38;5;28;01mreturn\u001b[39;00m resp\n",
      "File \u001b[1;32m~\\Anaconda3\\lib\\site-packages\\requests\\sessions.py:701\u001b[0m, in \u001b[0;36mSession.send\u001b[1;34m(self, request, **kwargs)\u001b[0m\n\u001b[0;32m    698\u001b[0m start \u001b[38;5;241m=\u001b[39m preferred_clock()\n\u001b[0;32m    700\u001b[0m \u001b[38;5;66;03m# Send the request\u001b[39;00m\n\u001b[1;32m--> 701\u001b[0m r \u001b[38;5;241m=\u001b[39m adapter\u001b[38;5;241m.\u001b[39msend(request, \u001b[38;5;241m*\u001b[39m\u001b[38;5;241m*\u001b[39mkwargs)\n\u001b[0;32m    703\u001b[0m \u001b[38;5;66;03m# Total elapsed time of the request (approximately)\u001b[39;00m\n\u001b[0;32m    704\u001b[0m elapsed \u001b[38;5;241m=\u001b[39m preferred_clock() \u001b[38;5;241m-\u001b[39m start\n",
      "File \u001b[1;32m~\\Anaconda3\\lib\\site-packages\\requests\\adapters.py:489\u001b[0m, in \u001b[0;36mHTTPAdapter.send\u001b[1;34m(self, request, stream, timeout, verify, cert, proxies)\u001b[0m\n\u001b[0;32m    487\u001b[0m \u001b[38;5;28;01mtry\u001b[39;00m:\n\u001b[0;32m    488\u001b[0m     \u001b[38;5;28;01mif\u001b[39;00m \u001b[38;5;129;01mnot\u001b[39;00m chunked:\n\u001b[1;32m--> 489\u001b[0m         resp \u001b[38;5;241m=\u001b[39m \u001b[43mconn\u001b[49m\u001b[38;5;241;43m.\u001b[39;49m\u001b[43murlopen\u001b[49m\u001b[43m(\u001b[49m\n\u001b[0;32m    490\u001b[0m \u001b[43m            \u001b[49m\u001b[43mmethod\u001b[49m\u001b[38;5;241;43m=\u001b[39;49m\u001b[43mrequest\u001b[49m\u001b[38;5;241;43m.\u001b[39;49m\u001b[43mmethod\u001b[49m\u001b[43m,\u001b[49m\n\u001b[0;32m    491\u001b[0m \u001b[43m            \u001b[49m\u001b[43murl\u001b[49m\u001b[38;5;241;43m=\u001b[39;49m\u001b[43murl\u001b[49m\u001b[43m,\u001b[49m\n\u001b[0;32m    492\u001b[0m \u001b[43m            \u001b[49m\u001b[43mbody\u001b[49m\u001b[38;5;241;43m=\u001b[39;49m\u001b[43mrequest\u001b[49m\u001b[38;5;241;43m.\u001b[39;49m\u001b[43mbody\u001b[49m\u001b[43m,\u001b[49m\n\u001b[0;32m    493\u001b[0m \u001b[43m            \u001b[49m\u001b[43mheaders\u001b[49m\u001b[38;5;241;43m=\u001b[39;49m\u001b[43mrequest\u001b[49m\u001b[38;5;241;43m.\u001b[39;49m\u001b[43mheaders\u001b[49m\u001b[43m,\u001b[49m\n\u001b[0;32m    494\u001b[0m \u001b[43m            \u001b[49m\u001b[43mredirect\u001b[49m\u001b[38;5;241;43m=\u001b[39;49m\u001b[38;5;28;43;01mFalse\u001b[39;49;00m\u001b[43m,\u001b[49m\n\u001b[0;32m    495\u001b[0m \u001b[43m            \u001b[49m\u001b[43massert_same_host\u001b[49m\u001b[38;5;241;43m=\u001b[39;49m\u001b[38;5;28;43;01mFalse\u001b[39;49;00m\u001b[43m,\u001b[49m\n\u001b[0;32m    496\u001b[0m \u001b[43m            \u001b[49m\u001b[43mpreload_content\u001b[49m\u001b[38;5;241;43m=\u001b[39;49m\u001b[38;5;28;43;01mFalse\u001b[39;49;00m\u001b[43m,\u001b[49m\n\u001b[0;32m    497\u001b[0m \u001b[43m            \u001b[49m\u001b[43mdecode_content\u001b[49m\u001b[38;5;241;43m=\u001b[39;49m\u001b[38;5;28;43;01mFalse\u001b[39;49;00m\u001b[43m,\u001b[49m\n\u001b[0;32m    498\u001b[0m \u001b[43m            \u001b[49m\u001b[43mretries\u001b[49m\u001b[38;5;241;43m=\u001b[39;49m\u001b[38;5;28;43mself\u001b[39;49m\u001b[38;5;241;43m.\u001b[39;49m\u001b[43mmax_retries\u001b[49m\u001b[43m,\u001b[49m\n\u001b[0;32m    499\u001b[0m \u001b[43m            \u001b[49m\u001b[43mtimeout\u001b[49m\u001b[38;5;241;43m=\u001b[39;49m\u001b[43mtimeout\u001b[49m\u001b[43m,\u001b[49m\n\u001b[0;32m    500\u001b[0m \u001b[43m        \u001b[49m\u001b[43m)\u001b[49m\n\u001b[0;32m    502\u001b[0m     \u001b[38;5;66;03m# Send the request.\u001b[39;00m\n\u001b[0;32m    503\u001b[0m     \u001b[38;5;28;01melse\u001b[39;00m:\n\u001b[0;32m    504\u001b[0m         \u001b[38;5;28;01mif\u001b[39;00m \u001b[38;5;28mhasattr\u001b[39m(conn, \u001b[38;5;124m\"\u001b[39m\u001b[38;5;124mproxy_pool\u001b[39m\u001b[38;5;124m\"\u001b[39m):\n",
      "File \u001b[1;32m~\\Anaconda3\\lib\\site-packages\\urllib3\\connectionpool.py:703\u001b[0m, in \u001b[0;36mHTTPConnectionPool.urlopen\u001b[1;34m(self, method, url, body, headers, retries, redirect, assert_same_host, timeout, pool_timeout, release_conn, chunked, body_pos, **response_kw)\u001b[0m\n\u001b[0;32m    700\u001b[0m     \u001b[38;5;28mself\u001b[39m\u001b[38;5;241m.\u001b[39m_prepare_proxy(conn)\n\u001b[0;32m    702\u001b[0m \u001b[38;5;66;03m# Make the request on the httplib connection object.\u001b[39;00m\n\u001b[1;32m--> 703\u001b[0m httplib_response \u001b[38;5;241m=\u001b[39m \u001b[38;5;28;43mself\u001b[39;49m\u001b[38;5;241;43m.\u001b[39;49m\u001b[43m_make_request\u001b[49m\u001b[43m(\u001b[49m\n\u001b[0;32m    704\u001b[0m \u001b[43m    \u001b[49m\u001b[43mconn\u001b[49m\u001b[43m,\u001b[49m\n\u001b[0;32m    705\u001b[0m \u001b[43m    \u001b[49m\u001b[43mmethod\u001b[49m\u001b[43m,\u001b[49m\n\u001b[0;32m    706\u001b[0m \u001b[43m    \u001b[49m\u001b[43murl\u001b[49m\u001b[43m,\u001b[49m\n\u001b[0;32m    707\u001b[0m \u001b[43m    \u001b[49m\u001b[43mtimeout\u001b[49m\u001b[38;5;241;43m=\u001b[39;49m\u001b[43mtimeout_obj\u001b[49m\u001b[43m,\u001b[49m\n\u001b[0;32m    708\u001b[0m \u001b[43m    \u001b[49m\u001b[43mbody\u001b[49m\u001b[38;5;241;43m=\u001b[39;49m\u001b[43mbody\u001b[49m\u001b[43m,\u001b[49m\n\u001b[0;32m    709\u001b[0m \u001b[43m    \u001b[49m\u001b[43mheaders\u001b[49m\u001b[38;5;241;43m=\u001b[39;49m\u001b[43mheaders\u001b[49m\u001b[43m,\u001b[49m\n\u001b[0;32m    710\u001b[0m \u001b[43m    \u001b[49m\u001b[43mchunked\u001b[49m\u001b[38;5;241;43m=\u001b[39;49m\u001b[43mchunked\u001b[49m\u001b[43m,\u001b[49m\n\u001b[0;32m    711\u001b[0m \u001b[43m\u001b[49m\u001b[43m)\u001b[49m\n\u001b[0;32m    713\u001b[0m \u001b[38;5;66;03m# If we're going to release the connection in ``finally:``, then\u001b[39;00m\n\u001b[0;32m    714\u001b[0m \u001b[38;5;66;03m# the response doesn't need to know about the connection. Otherwise\u001b[39;00m\n\u001b[0;32m    715\u001b[0m \u001b[38;5;66;03m# it will also try to release it and we'll have a double-release\u001b[39;00m\n\u001b[0;32m    716\u001b[0m \u001b[38;5;66;03m# mess.\u001b[39;00m\n\u001b[0;32m    717\u001b[0m response_conn \u001b[38;5;241m=\u001b[39m conn \u001b[38;5;28;01mif\u001b[39;00m \u001b[38;5;129;01mnot\u001b[39;00m release_conn \u001b[38;5;28;01melse\u001b[39;00m \u001b[38;5;28;01mNone\u001b[39;00m\n",
      "File \u001b[1;32m~\\Anaconda3\\lib\\site-packages\\urllib3\\connectionpool.py:449\u001b[0m, in \u001b[0;36mHTTPConnectionPool._make_request\u001b[1;34m(self, conn, method, url, timeout, chunked, **httplib_request_kw)\u001b[0m\n\u001b[0;32m    444\u001b[0m             httplib_response \u001b[38;5;241m=\u001b[39m conn\u001b[38;5;241m.\u001b[39mgetresponse()\n\u001b[0;32m    445\u001b[0m         \u001b[38;5;28;01mexcept\u001b[39;00m \u001b[38;5;167;01mBaseException\u001b[39;00m \u001b[38;5;28;01mas\u001b[39;00m e:\n\u001b[0;32m    446\u001b[0m             \u001b[38;5;66;03m# Remove the TypeError from the exception chain in\u001b[39;00m\n\u001b[0;32m    447\u001b[0m             \u001b[38;5;66;03m# Python 3 (including for exceptions like SystemExit).\u001b[39;00m\n\u001b[0;32m    448\u001b[0m             \u001b[38;5;66;03m# Otherwise it looks like a bug in the code.\u001b[39;00m\n\u001b[1;32m--> 449\u001b[0m             \u001b[43msix\u001b[49m\u001b[38;5;241;43m.\u001b[39;49m\u001b[43mraise_from\u001b[49m\u001b[43m(\u001b[49m\u001b[43me\u001b[49m\u001b[43m,\u001b[49m\u001b[43m \u001b[49m\u001b[38;5;28;43;01mNone\u001b[39;49;00m\u001b[43m)\u001b[49m\n\u001b[0;32m    450\u001b[0m \u001b[38;5;28;01mexcept\u001b[39;00m (SocketTimeout, BaseSSLError, SocketError) \u001b[38;5;28;01mas\u001b[39;00m e:\n\u001b[0;32m    451\u001b[0m     \u001b[38;5;28mself\u001b[39m\u001b[38;5;241m.\u001b[39m_raise_timeout(err\u001b[38;5;241m=\u001b[39me, url\u001b[38;5;241m=\u001b[39murl, timeout_value\u001b[38;5;241m=\u001b[39mread_timeout)\n",
      "File \u001b[1;32m<string>:3\u001b[0m, in \u001b[0;36mraise_from\u001b[1;34m(value, from_value)\u001b[0m\n",
      "File \u001b[1;32m~\\Anaconda3\\lib\\site-packages\\urllib3\\connectionpool.py:444\u001b[0m, in \u001b[0;36mHTTPConnectionPool._make_request\u001b[1;34m(self, conn, method, url, timeout, chunked, **httplib_request_kw)\u001b[0m\n\u001b[0;32m    441\u001b[0m \u001b[38;5;28;01mexcept\u001b[39;00m \u001b[38;5;167;01mTypeError\u001b[39;00m:\n\u001b[0;32m    442\u001b[0m     \u001b[38;5;66;03m# Python 3\u001b[39;00m\n\u001b[0;32m    443\u001b[0m     \u001b[38;5;28;01mtry\u001b[39;00m:\n\u001b[1;32m--> 444\u001b[0m         httplib_response \u001b[38;5;241m=\u001b[39m \u001b[43mconn\u001b[49m\u001b[38;5;241;43m.\u001b[39;49m\u001b[43mgetresponse\u001b[49m\u001b[43m(\u001b[49m\u001b[43m)\u001b[49m\n\u001b[0;32m    445\u001b[0m     \u001b[38;5;28;01mexcept\u001b[39;00m \u001b[38;5;167;01mBaseException\u001b[39;00m \u001b[38;5;28;01mas\u001b[39;00m e:\n\u001b[0;32m    446\u001b[0m         \u001b[38;5;66;03m# Remove the TypeError from the exception chain in\u001b[39;00m\n\u001b[0;32m    447\u001b[0m         \u001b[38;5;66;03m# Python 3 (including for exceptions like SystemExit).\u001b[39;00m\n\u001b[0;32m    448\u001b[0m         \u001b[38;5;66;03m# Otherwise it looks like a bug in the code.\u001b[39;00m\n\u001b[0;32m    449\u001b[0m         six\u001b[38;5;241m.\u001b[39mraise_from(e, \u001b[38;5;28;01mNone\u001b[39;00m)\n",
      "File \u001b[1;32m~\\Anaconda3\\lib\\http\\client.py:1377\u001b[0m, in \u001b[0;36mHTTPConnection.getresponse\u001b[1;34m(self)\u001b[0m\n\u001b[0;32m   1375\u001b[0m \u001b[38;5;28;01mtry\u001b[39;00m:\n\u001b[0;32m   1376\u001b[0m     \u001b[38;5;28;01mtry\u001b[39;00m:\n\u001b[1;32m-> 1377\u001b[0m         \u001b[43mresponse\u001b[49m\u001b[38;5;241;43m.\u001b[39;49m\u001b[43mbegin\u001b[49m\u001b[43m(\u001b[49m\u001b[43m)\u001b[49m\n\u001b[0;32m   1378\u001b[0m     \u001b[38;5;28;01mexcept\u001b[39;00m \u001b[38;5;167;01mConnectionError\u001b[39;00m:\n\u001b[0;32m   1379\u001b[0m         \u001b[38;5;28mself\u001b[39m\u001b[38;5;241m.\u001b[39mclose()\n",
      "File \u001b[1;32m~\\Anaconda3\\lib\\http\\client.py:320\u001b[0m, in \u001b[0;36mHTTPResponse.begin\u001b[1;34m(self)\u001b[0m\n\u001b[0;32m    318\u001b[0m \u001b[38;5;66;03m# read until we get a non-100 response\u001b[39;00m\n\u001b[0;32m    319\u001b[0m \u001b[38;5;28;01mwhile\u001b[39;00m \u001b[38;5;28;01mTrue\u001b[39;00m:\n\u001b[1;32m--> 320\u001b[0m     version, status, reason \u001b[38;5;241m=\u001b[39m \u001b[38;5;28;43mself\u001b[39;49m\u001b[38;5;241;43m.\u001b[39;49m\u001b[43m_read_status\u001b[49m\u001b[43m(\u001b[49m\u001b[43m)\u001b[49m\n\u001b[0;32m    321\u001b[0m     \u001b[38;5;28;01mif\u001b[39;00m status \u001b[38;5;241m!=\u001b[39m CONTINUE:\n\u001b[0;32m    322\u001b[0m         \u001b[38;5;28;01mbreak\u001b[39;00m\n",
      "File \u001b[1;32m~\\Anaconda3\\lib\\http\\client.py:281\u001b[0m, in \u001b[0;36mHTTPResponse._read_status\u001b[1;34m(self)\u001b[0m\n\u001b[0;32m    280\u001b[0m \u001b[38;5;28;01mdef\u001b[39;00m \u001b[38;5;21m_read_status\u001b[39m(\u001b[38;5;28mself\u001b[39m):\n\u001b[1;32m--> 281\u001b[0m     line \u001b[38;5;241m=\u001b[39m \u001b[38;5;28mstr\u001b[39m(\u001b[38;5;28;43mself\u001b[39;49m\u001b[38;5;241;43m.\u001b[39;49m\u001b[43mfp\u001b[49m\u001b[38;5;241;43m.\u001b[39;49m\u001b[43mreadline\u001b[49m\u001b[43m(\u001b[49m\u001b[43m_MAXLINE\u001b[49m\u001b[43m \u001b[49m\u001b[38;5;241;43m+\u001b[39;49m\u001b[43m \u001b[49m\u001b[38;5;241;43m1\u001b[39;49m\u001b[43m)\u001b[49m, \u001b[38;5;124m\"\u001b[39m\u001b[38;5;124miso-8859-1\u001b[39m\u001b[38;5;124m\"\u001b[39m)\n\u001b[0;32m    282\u001b[0m     \u001b[38;5;28;01mif\u001b[39;00m \u001b[38;5;28mlen\u001b[39m(line) \u001b[38;5;241m>\u001b[39m _MAXLINE:\n\u001b[0;32m    283\u001b[0m         \u001b[38;5;28;01mraise\u001b[39;00m LineTooLong(\u001b[38;5;124m\"\u001b[39m\u001b[38;5;124mstatus line\u001b[39m\u001b[38;5;124m\"\u001b[39m)\n",
      "File \u001b[1;32m~\\Anaconda3\\lib\\socket.py:704\u001b[0m, in \u001b[0;36mSocketIO.readinto\u001b[1;34m(self, b)\u001b[0m\n\u001b[0;32m    702\u001b[0m \u001b[38;5;28;01mwhile\u001b[39;00m \u001b[38;5;28;01mTrue\u001b[39;00m:\n\u001b[0;32m    703\u001b[0m     \u001b[38;5;28;01mtry\u001b[39;00m:\n\u001b[1;32m--> 704\u001b[0m         \u001b[38;5;28;01mreturn\u001b[39;00m \u001b[38;5;28;43mself\u001b[39;49m\u001b[38;5;241;43m.\u001b[39;49m\u001b[43m_sock\u001b[49m\u001b[38;5;241;43m.\u001b[39;49m\u001b[43mrecv_into\u001b[49m\u001b[43m(\u001b[49m\u001b[43mb\u001b[49m\u001b[43m)\u001b[49m\n\u001b[0;32m    705\u001b[0m     \u001b[38;5;28;01mexcept\u001b[39;00m timeout:\n\u001b[0;32m    706\u001b[0m         \u001b[38;5;28mself\u001b[39m\u001b[38;5;241m.\u001b[39m_timeout_occurred \u001b[38;5;241m=\u001b[39m \u001b[38;5;28;01mTrue\u001b[39;00m\n",
      "File \u001b[1;32m~\\Anaconda3\\lib\\ssl.py:1241\u001b[0m, in \u001b[0;36mSSLSocket.recv_into\u001b[1;34m(self, buffer, nbytes, flags)\u001b[0m\n\u001b[0;32m   1237\u001b[0m     \u001b[38;5;28;01mif\u001b[39;00m flags \u001b[38;5;241m!=\u001b[39m \u001b[38;5;241m0\u001b[39m:\n\u001b[0;32m   1238\u001b[0m         \u001b[38;5;28;01mraise\u001b[39;00m \u001b[38;5;167;01mValueError\u001b[39;00m(\n\u001b[0;32m   1239\u001b[0m           \u001b[38;5;124m\"\u001b[39m\u001b[38;5;124mnon-zero flags not allowed in calls to recv_into() on \u001b[39m\u001b[38;5;132;01m%s\u001b[39;00m\u001b[38;5;124m\"\u001b[39m \u001b[38;5;241m%\u001b[39m\n\u001b[0;32m   1240\u001b[0m           \u001b[38;5;28mself\u001b[39m\u001b[38;5;241m.\u001b[39m\u001b[38;5;18m__class__\u001b[39m)\n\u001b[1;32m-> 1241\u001b[0m     \u001b[38;5;28;01mreturn\u001b[39;00m \u001b[38;5;28;43mself\u001b[39;49m\u001b[38;5;241;43m.\u001b[39;49m\u001b[43mread\u001b[49m\u001b[43m(\u001b[49m\u001b[43mnbytes\u001b[49m\u001b[43m,\u001b[49m\u001b[43m \u001b[49m\u001b[43mbuffer\u001b[49m\u001b[43m)\u001b[49m\n\u001b[0;32m   1242\u001b[0m \u001b[38;5;28;01melse\u001b[39;00m:\n\u001b[0;32m   1243\u001b[0m     \u001b[38;5;28;01mreturn\u001b[39;00m \u001b[38;5;28msuper\u001b[39m()\u001b[38;5;241m.\u001b[39mrecv_into(buffer, nbytes, flags)\n",
      "File \u001b[1;32m~\\Anaconda3\\lib\\ssl.py:1099\u001b[0m, in \u001b[0;36mSSLSocket.read\u001b[1;34m(self, len, buffer)\u001b[0m\n\u001b[0;32m   1097\u001b[0m \u001b[38;5;28;01mtry\u001b[39;00m:\n\u001b[0;32m   1098\u001b[0m     \u001b[38;5;28;01mif\u001b[39;00m buffer \u001b[38;5;129;01mis\u001b[39;00m \u001b[38;5;129;01mnot\u001b[39;00m \u001b[38;5;28;01mNone\u001b[39;00m:\n\u001b[1;32m-> 1099\u001b[0m         \u001b[38;5;28;01mreturn\u001b[39;00m \u001b[38;5;28;43mself\u001b[39;49m\u001b[38;5;241;43m.\u001b[39;49m\u001b[43m_sslobj\u001b[49m\u001b[38;5;241;43m.\u001b[39;49m\u001b[43mread\u001b[49m\u001b[43m(\u001b[49m\u001b[38;5;28;43mlen\u001b[39;49m\u001b[43m,\u001b[49m\u001b[43m \u001b[49m\u001b[43mbuffer\u001b[49m\u001b[43m)\u001b[49m\n\u001b[0;32m   1100\u001b[0m     \u001b[38;5;28;01melse\u001b[39;00m:\n\u001b[0;32m   1101\u001b[0m         \u001b[38;5;28;01mreturn\u001b[39;00m \u001b[38;5;28mself\u001b[39m\u001b[38;5;241m.\u001b[39m_sslobj\u001b[38;5;241m.\u001b[39mread(\u001b[38;5;28mlen\u001b[39m)\n",
      "\u001b[1;31mKeyboardInterrupt\u001b[0m: "
     ]
    }
   ],
   "source": [
    "for i in range(0, 999):\n",
    "    prompt_i = prompt_raw_7.replace('TWEET_TEXT_HERE', epfl_df.iloc[i,2])\n",
    "    response = openai.ChatCompletion.create(\n",
    "      #model=\"text-davinci-003\",\n",
    "      model = \"gpt-4\",\n",
    "      messages=[{\"role\": \"user\", \"content\": prompt_i}],\n",
    "      temperature=0.8,\n",
    "      #max_tokens=256,\n",
    "      top_p=1,\n",
    "      frequency_penalty=0,\n",
    "      presence_penalty=0\n",
    "    )\n",
    "    text.append(epfl_df.iloc[i,2])\n",
    "    sent_gpt.append(response.choices[0].message.content)"
   ]
  },
  {
   "cell_type": "code",
   "execution_count": 6,
   "id": "21ef74b5",
   "metadata": {
    "scrolled": true
   },
   "outputs": [
    {
     "ename": "AuthenticationError",
     "evalue": "Incorrect API key provided: none. You can find your API key at https://platform.openai.com/account/api-keys.",
     "output_type": "error",
     "traceback": [
      "\u001b[1;31m---------------------------------------------------------------------------\u001b[0m",
      "\u001b[1;31mAuthenticationError\u001b[0m                       Traceback (most recent call last)",
      "Cell \u001b[1;32mIn[6], line 3\u001b[0m\n\u001b[0;32m      1\u001b[0m \u001b[38;5;28;01mfor\u001b[39;00m i \u001b[38;5;129;01min\u001b[39;00m \u001b[38;5;28mrange\u001b[39m(\u001b[38;5;241m0\u001b[39m, \u001b[38;5;241m2\u001b[39m):\n\u001b[0;32m      2\u001b[0m     prompt_i \u001b[38;5;241m=\u001b[39m prompt_raw_1\u001b[38;5;241m.\u001b[39mreplace(\u001b[38;5;124m'\u001b[39m\u001b[38;5;124mTWEET_TEXT_HERE\u001b[39m\u001b[38;5;124m'\u001b[39m, epfl_df\u001b[38;5;241m.\u001b[39miloc[i,\u001b[38;5;241m2\u001b[39m])\n\u001b[1;32m----> 3\u001b[0m     response \u001b[38;5;241m=\u001b[39m \u001b[43mopenai\u001b[49m\u001b[38;5;241;43m.\u001b[39;49m\u001b[43mCompletion\u001b[49m\u001b[38;5;241;43m.\u001b[39;49m\u001b[43mcreate\u001b[49m\u001b[43m(\u001b[49m\n\u001b[0;32m      4\u001b[0m \u001b[43m      \u001b[49m\u001b[43mmodel\u001b[49m\u001b[38;5;241;43m=\u001b[39;49m\u001b[38;5;124;43m\"\u001b[39;49m\u001b[38;5;124;43mmistralai/Mistral-7B-Instruct-v0.1\u001b[39;49m\u001b[38;5;124;43m\"\u001b[39;49m\u001b[43m,\u001b[49m\n\u001b[0;32m      5\u001b[0m \u001b[43m      \u001b[49m\u001b[43mprompt\u001b[49m\u001b[38;5;241;43m=\u001b[39;49m\u001b[43mprompt_i\u001b[49m\u001b[43m,\u001b[49m\n\u001b[0;32m      6\u001b[0m \u001b[43m      \u001b[49m\u001b[43mtemperature\u001b[49m\u001b[38;5;241;43m=\u001b[39;49m\u001b[38;5;241;43m0.8\u001b[39;49m\u001b[43m,\u001b[49m\n\u001b[0;32m      7\u001b[0m \u001b[43m      \u001b[49m\u001b[43mmax_tokens\u001b[49m\u001b[38;5;241;43m=\u001b[39;49m\u001b[38;5;241;43m1024\u001b[39;49m\u001b[43m,\u001b[49m\n\u001b[0;32m      8\u001b[0m \u001b[43m      \u001b[49m\u001b[43mtop_p\u001b[49m\u001b[38;5;241;43m=\u001b[39;49m\u001b[38;5;241;43m1\u001b[39;49m\u001b[43m,\u001b[49m\n\u001b[0;32m      9\u001b[0m \u001b[43m      \u001b[49m\u001b[43mfrequency_penalty\u001b[49m\u001b[38;5;241;43m=\u001b[39;49m\u001b[38;5;241;43m0\u001b[39;49m\u001b[43m,\u001b[49m\n\u001b[0;32m     10\u001b[0m \u001b[43m      \u001b[49m\u001b[43mpresence_penalty\u001b[49m\u001b[38;5;241;43m=\u001b[39;49m\u001b[38;5;241;43m0\u001b[39;49m\n\u001b[0;32m     11\u001b[0m \u001b[43m    \u001b[49m\u001b[43m)\u001b[49m\n\u001b[0;32m     12\u001b[0m     text\u001b[38;5;241m.\u001b[39mappend(epfl_df\u001b[38;5;241m.\u001b[39miloc[i,\u001b[38;5;241m2\u001b[39m])\n\u001b[0;32m     13\u001b[0m     sent_gpt\u001b[38;5;241m.\u001b[39mappend(response\u001b[38;5;241m.\u001b[39mchoices[\u001b[38;5;241m0\u001b[39m]\u001b[38;5;241m.\u001b[39mtext)\n",
      "File \u001b[1;32m~\\Anaconda3\\lib\\site-packages\\openai\\api_resources\\completion.py:25\u001b[0m, in \u001b[0;36mCompletion.create\u001b[1;34m(cls, *args, **kwargs)\u001b[0m\n\u001b[0;32m     23\u001b[0m \u001b[38;5;28;01mwhile\u001b[39;00m \u001b[38;5;28;01mTrue\u001b[39;00m:\n\u001b[0;32m     24\u001b[0m     \u001b[38;5;28;01mtry\u001b[39;00m:\n\u001b[1;32m---> 25\u001b[0m         \u001b[38;5;28;01mreturn\u001b[39;00m \u001b[38;5;28msuper\u001b[39m()\u001b[38;5;241m.\u001b[39mcreate(\u001b[38;5;241m*\u001b[39margs, \u001b[38;5;241m*\u001b[39m\u001b[38;5;241m*\u001b[39mkwargs)\n\u001b[0;32m     26\u001b[0m     \u001b[38;5;28;01mexcept\u001b[39;00m TryAgain \u001b[38;5;28;01mas\u001b[39;00m e:\n\u001b[0;32m     27\u001b[0m         \u001b[38;5;28;01mif\u001b[39;00m timeout \u001b[38;5;129;01mis\u001b[39;00m \u001b[38;5;129;01mnot\u001b[39;00m \u001b[38;5;28;01mNone\u001b[39;00m \u001b[38;5;129;01mand\u001b[39;00m time\u001b[38;5;241m.\u001b[39mtime() \u001b[38;5;241m>\u001b[39m start \u001b[38;5;241m+\u001b[39m timeout:\n",
      "File \u001b[1;32m~\\Anaconda3\\lib\\site-packages\\openai\\api_resources\\abstract\\engine_api_resource.py:153\u001b[0m, in \u001b[0;36mEngineAPIResource.create\u001b[1;34m(cls, api_key, api_base, api_type, request_id, api_version, organization, **params)\u001b[0m\n\u001b[0;32m    127\u001b[0m \u001b[38;5;129m@classmethod\u001b[39m\n\u001b[0;32m    128\u001b[0m \u001b[38;5;28;01mdef\u001b[39;00m \u001b[38;5;21mcreate\u001b[39m(\n\u001b[0;32m    129\u001b[0m     \u001b[38;5;28mcls\u001b[39m,\n\u001b[1;32m   (...)\u001b[0m\n\u001b[0;32m    136\u001b[0m     \u001b[38;5;241m*\u001b[39m\u001b[38;5;241m*\u001b[39mparams,\n\u001b[0;32m    137\u001b[0m ):\n\u001b[0;32m    138\u001b[0m     (\n\u001b[0;32m    139\u001b[0m         deployment_id,\n\u001b[0;32m    140\u001b[0m         engine,\n\u001b[1;32m   (...)\u001b[0m\n\u001b[0;32m    150\u001b[0m         api_key, api_base, api_type, api_version, organization, \u001b[38;5;241m*\u001b[39m\u001b[38;5;241m*\u001b[39mparams\n\u001b[0;32m    151\u001b[0m     )\n\u001b[1;32m--> 153\u001b[0m     response, _, api_key \u001b[38;5;241m=\u001b[39m \u001b[43mrequestor\u001b[49m\u001b[38;5;241;43m.\u001b[39;49m\u001b[43mrequest\u001b[49m\u001b[43m(\u001b[49m\n\u001b[0;32m    154\u001b[0m \u001b[43m        \u001b[49m\u001b[38;5;124;43m\"\u001b[39;49m\u001b[38;5;124;43mpost\u001b[39;49m\u001b[38;5;124;43m\"\u001b[39;49m\u001b[43m,\u001b[49m\n\u001b[0;32m    155\u001b[0m \u001b[43m        \u001b[49m\u001b[43murl\u001b[49m\u001b[43m,\u001b[49m\n\u001b[0;32m    156\u001b[0m \u001b[43m        \u001b[49m\u001b[43mparams\u001b[49m\u001b[38;5;241;43m=\u001b[39;49m\u001b[43mparams\u001b[49m\u001b[43m,\u001b[49m\n\u001b[0;32m    157\u001b[0m \u001b[43m        \u001b[49m\u001b[43mheaders\u001b[49m\u001b[38;5;241;43m=\u001b[39;49m\u001b[43mheaders\u001b[49m\u001b[43m,\u001b[49m\n\u001b[0;32m    158\u001b[0m \u001b[43m        \u001b[49m\u001b[43mstream\u001b[49m\u001b[38;5;241;43m=\u001b[39;49m\u001b[43mstream\u001b[49m\u001b[43m,\u001b[49m\n\u001b[0;32m    159\u001b[0m \u001b[43m        \u001b[49m\u001b[43mrequest_id\u001b[49m\u001b[38;5;241;43m=\u001b[39;49m\u001b[43mrequest_id\u001b[49m\u001b[43m,\u001b[49m\n\u001b[0;32m    160\u001b[0m \u001b[43m        \u001b[49m\u001b[43mrequest_timeout\u001b[49m\u001b[38;5;241;43m=\u001b[39;49m\u001b[43mrequest_timeout\u001b[49m\u001b[43m,\u001b[49m\n\u001b[0;32m    161\u001b[0m \u001b[43m    \u001b[49m\u001b[43m)\u001b[49m\n\u001b[0;32m    163\u001b[0m     \u001b[38;5;28;01mif\u001b[39;00m stream:\n\u001b[0;32m    164\u001b[0m         \u001b[38;5;66;03m# must be an iterator\u001b[39;00m\n\u001b[0;32m    165\u001b[0m         \u001b[38;5;28;01massert\u001b[39;00m \u001b[38;5;129;01mnot\u001b[39;00m \u001b[38;5;28misinstance\u001b[39m(response, OpenAIResponse)\n",
      "File \u001b[1;32m~\\Anaconda3\\lib\\site-packages\\openai\\api_requestor.py:226\u001b[0m, in \u001b[0;36mAPIRequestor.request\u001b[1;34m(self, method, url, params, headers, files, stream, request_id, request_timeout)\u001b[0m\n\u001b[0;32m    205\u001b[0m \u001b[38;5;28;01mdef\u001b[39;00m \u001b[38;5;21mrequest\u001b[39m(\n\u001b[0;32m    206\u001b[0m     \u001b[38;5;28mself\u001b[39m,\n\u001b[0;32m    207\u001b[0m     method,\n\u001b[1;32m   (...)\u001b[0m\n\u001b[0;32m    214\u001b[0m     request_timeout: Optional[Union[\u001b[38;5;28mfloat\u001b[39m, Tuple[\u001b[38;5;28mfloat\u001b[39m, \u001b[38;5;28mfloat\u001b[39m]]] \u001b[38;5;241m=\u001b[39m \u001b[38;5;28;01mNone\u001b[39;00m,\n\u001b[0;32m    215\u001b[0m ) \u001b[38;5;241m-\u001b[39m\u001b[38;5;241m>\u001b[39m Tuple[Union[OpenAIResponse, Iterator[OpenAIResponse]], \u001b[38;5;28mbool\u001b[39m, \u001b[38;5;28mstr\u001b[39m]:\n\u001b[0;32m    216\u001b[0m     result \u001b[38;5;241m=\u001b[39m \u001b[38;5;28mself\u001b[39m\u001b[38;5;241m.\u001b[39mrequest_raw(\n\u001b[0;32m    217\u001b[0m         method\u001b[38;5;241m.\u001b[39mlower(),\n\u001b[0;32m    218\u001b[0m         url,\n\u001b[1;32m   (...)\u001b[0m\n\u001b[0;32m    224\u001b[0m         request_timeout\u001b[38;5;241m=\u001b[39mrequest_timeout,\n\u001b[0;32m    225\u001b[0m     )\n\u001b[1;32m--> 226\u001b[0m     resp, got_stream \u001b[38;5;241m=\u001b[39m \u001b[38;5;28;43mself\u001b[39;49m\u001b[38;5;241;43m.\u001b[39;49m\u001b[43m_interpret_response\u001b[49m\u001b[43m(\u001b[49m\u001b[43mresult\u001b[49m\u001b[43m,\u001b[49m\u001b[43m \u001b[49m\u001b[43mstream\u001b[49m\u001b[43m)\u001b[49m\n\u001b[0;32m    227\u001b[0m     \u001b[38;5;28;01mreturn\u001b[39;00m resp, got_stream, \u001b[38;5;28mself\u001b[39m\u001b[38;5;241m.\u001b[39mapi_key\n",
      "File \u001b[1;32m~\\Anaconda3\\lib\\site-packages\\openai\\api_requestor.py:619\u001b[0m, in \u001b[0;36mAPIRequestor._interpret_response\u001b[1;34m(self, result, stream)\u001b[0m\n\u001b[0;32m    611\u001b[0m     \u001b[38;5;28;01mreturn\u001b[39;00m (\n\u001b[0;32m    612\u001b[0m         \u001b[38;5;28mself\u001b[39m\u001b[38;5;241m.\u001b[39m_interpret_response_line(\n\u001b[0;32m    613\u001b[0m             line, result\u001b[38;5;241m.\u001b[39mstatus_code, result\u001b[38;5;241m.\u001b[39mheaders, stream\u001b[38;5;241m=\u001b[39m\u001b[38;5;28;01mTrue\u001b[39;00m\n\u001b[0;32m    614\u001b[0m         )\n\u001b[0;32m    615\u001b[0m         \u001b[38;5;28;01mfor\u001b[39;00m line \u001b[38;5;129;01min\u001b[39;00m parse_stream(result\u001b[38;5;241m.\u001b[39miter_lines())\n\u001b[0;32m    616\u001b[0m     ), \u001b[38;5;28;01mTrue\u001b[39;00m\n\u001b[0;32m    617\u001b[0m \u001b[38;5;28;01melse\u001b[39;00m:\n\u001b[0;32m    618\u001b[0m     \u001b[38;5;28;01mreturn\u001b[39;00m (\n\u001b[1;32m--> 619\u001b[0m         \u001b[38;5;28;43mself\u001b[39;49m\u001b[38;5;241;43m.\u001b[39;49m\u001b[43m_interpret_response_line\u001b[49m\u001b[43m(\u001b[49m\n\u001b[0;32m    620\u001b[0m \u001b[43m            \u001b[49m\u001b[43mresult\u001b[49m\u001b[38;5;241;43m.\u001b[39;49m\u001b[43mcontent\u001b[49m\u001b[38;5;241;43m.\u001b[39;49m\u001b[43mdecode\u001b[49m\u001b[43m(\u001b[49m\u001b[38;5;124;43m\"\u001b[39;49m\u001b[38;5;124;43mutf-8\u001b[39;49m\u001b[38;5;124;43m\"\u001b[39;49m\u001b[43m)\u001b[49m\u001b[43m,\u001b[49m\n\u001b[0;32m    621\u001b[0m \u001b[43m            \u001b[49m\u001b[43mresult\u001b[49m\u001b[38;5;241;43m.\u001b[39;49m\u001b[43mstatus_code\u001b[49m\u001b[43m,\u001b[49m\n\u001b[0;32m    622\u001b[0m \u001b[43m            \u001b[49m\u001b[43mresult\u001b[49m\u001b[38;5;241;43m.\u001b[39;49m\u001b[43mheaders\u001b[49m\u001b[43m,\u001b[49m\n\u001b[0;32m    623\u001b[0m \u001b[43m            \u001b[49m\u001b[43mstream\u001b[49m\u001b[38;5;241;43m=\u001b[39;49m\u001b[38;5;28;43;01mFalse\u001b[39;49;00m\u001b[43m,\u001b[49m\n\u001b[0;32m    624\u001b[0m \u001b[43m        \u001b[49m\u001b[43m)\u001b[49m,\n\u001b[0;32m    625\u001b[0m         \u001b[38;5;28;01mFalse\u001b[39;00m,\n\u001b[0;32m    626\u001b[0m     )\n",
      "File \u001b[1;32m~\\Anaconda3\\lib\\site-packages\\openai\\api_requestor.py:682\u001b[0m, in \u001b[0;36mAPIRequestor._interpret_response_line\u001b[1;34m(self, rbody, rcode, rheaders, stream)\u001b[0m\n\u001b[0;32m    680\u001b[0m stream_error \u001b[38;5;241m=\u001b[39m stream \u001b[38;5;129;01mand\u001b[39;00m \u001b[38;5;124m\"\u001b[39m\u001b[38;5;124merror\u001b[39m\u001b[38;5;124m\"\u001b[39m \u001b[38;5;129;01min\u001b[39;00m resp\u001b[38;5;241m.\u001b[39mdata\n\u001b[0;32m    681\u001b[0m \u001b[38;5;28;01mif\u001b[39;00m stream_error \u001b[38;5;129;01mor\u001b[39;00m \u001b[38;5;129;01mnot\u001b[39;00m \u001b[38;5;241m200\u001b[39m \u001b[38;5;241m<\u001b[39m\u001b[38;5;241m=\u001b[39m rcode \u001b[38;5;241m<\u001b[39m \u001b[38;5;241m300\u001b[39m:\n\u001b[1;32m--> 682\u001b[0m     \u001b[38;5;28;01mraise\u001b[39;00m \u001b[38;5;28mself\u001b[39m\u001b[38;5;241m.\u001b[39mhandle_error_response(\n\u001b[0;32m    683\u001b[0m         rbody, rcode, resp\u001b[38;5;241m.\u001b[39mdata, rheaders, stream_error\u001b[38;5;241m=\u001b[39mstream_error\n\u001b[0;32m    684\u001b[0m     )\n\u001b[0;32m    685\u001b[0m \u001b[38;5;28;01mreturn\u001b[39;00m resp\n",
      "\u001b[1;31mAuthenticationError\u001b[0m: Incorrect API key provided: none. You can find your API key at https://platform.openai.com/account/api-keys."
     ]
    }
   ],
   "source": [
    "for i in range(0, 2):\n",
    "    prompt_i = prompt_raw_1.replace('TWEET_TEXT_HERE', epfl_df.iloc[i,2])\n",
    "    response = openai.Completion.create(\n",
    "      model=\"mistralai/Mistral-7B-Instruct-v0.1\",\n",
    "      prompt=prompt_i,\n",
    "      temperature=0.8,\n",
    "      max_tokens=1024,\n",
    "      top_p=1,\n",
    "      frequency_penalty=0,\n",
    "      presence_penalty=0\n",
    "    )\n",
    "    text.append(epfl_df.iloc[i,2])\n",
    "    sent_gpt.append(response.choices[0].text)"
   ]
  },
  {
   "cell_type": "code",
   "execution_count": 7,
   "id": "28056110",
   "metadata": {},
   "outputs": [
    {
     "ename": "NameError",
     "evalue": "name 'prompt_raw' is not defined",
     "output_type": "error",
     "traceback": [
      "\u001b[1;31m---------------------------------------------------------------------------\u001b[0m",
      "\u001b[1;31mNameError\u001b[0m                                 Traceback (most recent call last)",
      "Cell \u001b[1;32mIn[7], line 1\u001b[0m\n\u001b[1;32m----> 1\u001b[0m prompt_raw_0 \u001b[38;5;241m=\u001b[39m \u001b[43mprompt_raw\u001b[49m\n\u001b[0;32m      2\u001b[0m prompt_raw_0\n",
      "\u001b[1;31mNameError\u001b[0m: name 'prompt_raw' is not defined"
     ]
    }
   ],
   "source": [
    "prompt_raw_0 = prompt_raw\n",
    "prompt_raw_0"
   ]
  },
  {
   "cell_type": "code",
   "execution_count": 52,
   "id": "b80e1e4e",
   "metadata": {
    "tags": []
   },
   "outputs": [
    {
     "name": "stdout",
     "output_type": "stream",
     "text": [
      "<class 'pandas.core.frame.DataFrame'>\n",
      "RangeIndex: 880 entries, 0 to 879\n",
      "Data columns (total 2 columns):\n",
      " #   Column         Non-Null Count  Dtype \n",
      "---  ------         --------------  ----- \n",
      " 0   text           880 non-null    object\n",
      " 1   sentiment_gpt  880 non-null    object\n",
      "dtypes: object(2)\n",
      "memory usage: 13.9+ KB\n"
     ]
    }
   ],
   "source": [
    "df_gpt_total = pd.DataFrame(list(zip(text, sent_gpt)),\n",
    "                            columns = ['text', 'sentiment_gpt'])\n",
    "df_gpt_total.info()"
   ]
  },
  {
   "cell_type": "code",
   "execution_count": 53,
   "id": "8f5c1cea",
   "metadata": {},
   "outputs": [],
   "source": [
    "df_gpt_total['prompt'] = 47"
   ]
  },
  {
   "cell_type": "code",
   "execution_count": 54,
   "id": "de211f05",
   "metadata": {},
   "outputs": [
    {
     "data": {
      "text/html": [
       "<div>\n",
       "<style scoped>\n",
       "    .dataframe tbody tr th:only-of-type {\n",
       "        vertical-align: middle;\n",
       "    }\n",
       "\n",
       "    .dataframe tbody tr th {\n",
       "        vertical-align: top;\n",
       "    }\n",
       "\n",
       "    .dataframe thead th {\n",
       "        text-align: right;\n",
       "    }\n",
       "</style>\n",
       "<table border=\"1\" class=\"dataframe\">\n",
       "  <thead>\n",
       "    <tr style=\"text-align: right;\">\n",
       "      <th></th>\n",
       "      <th>text</th>\n",
       "      <th>sentiment_gpt</th>\n",
       "      <th>prompt</th>\n",
       "    </tr>\n",
       "  </thead>\n",
       "  <tbody>\n",
       "    <tr>\n",
       "      <th>875</th>\n",
       "      <td>Can I get ‘long COVID’ if I’m infected after v...</td>\n",
       "      <td>Neutral. The user is asking a question about a...</td>\n",
       "      <td>47</td>\n",
       "    </tr>\n",
       "    <tr>\n",
       "      <th>876</th>\n",
       "      <td>But it’s not the same vaccine that is being us...</td>\n",
       "      <td>Neutral. The user is simply making a factual s...</td>\n",
       "      <td>47</td>\n",
       "    </tr>\n",
       "    <tr>\n",
       "      <th>877</th>\n",
       "      <td>Moderna’s coronavirus vaccine clears safety hu...</td>\n",
       "      <td>Neutral. The tweet is presenting factual infor...</td>\n",
       "      <td>47</td>\n",
       "    </tr>\n",
       "    <tr>\n",
       "      <th>878</th>\n",
       "      <td>Teyana Taylor says she's retiring. 😒😒😒 Anyway....</td>\n",
       "      <td>Neutral. The user mentions the vaccine but doe...</td>\n",
       "      <td>47</td>\n",
       "    </tr>\n",
       "    <tr>\n",
       "      <th>879</th>\n",
       "      <td>@user @user @user Here in my hometown Florianó...</td>\n",
       "      <td>Positive. The user is expressing a dissatisfac...</td>\n",
       "      <td>47</td>\n",
       "    </tr>\n",
       "  </tbody>\n",
       "</table>\n",
       "</div>"
      ],
      "text/plain": [
       "                                                  text  \\\n",
       "875  Can I get ‘long COVID’ if I’m infected after v...   \n",
       "876  But it’s not the same vaccine that is being us...   \n",
       "877  Moderna’s coronavirus vaccine clears safety hu...   \n",
       "878  Teyana Taylor says she's retiring. 😒😒😒 Anyway....   \n",
       "879  @user @user @user Here in my hometown Florianó...   \n",
       "\n",
       "                                         sentiment_gpt  prompt  \n",
       "875  Neutral. The user is asking a question about a...      47  \n",
       "876  Neutral. The user is simply making a factual s...      47  \n",
       "877  Neutral. The tweet is presenting factual infor...      47  \n",
       "878  Neutral. The user mentions the vaccine but doe...      47  \n",
       "879  Positive. The user is expressing a dissatisfac...      47  "
      ]
     },
     "execution_count": 54,
     "metadata": {},
     "output_type": "execute_result"
    }
   ],
   "source": [
    "df_gpt_total.tail()"
   ]
  },
  {
   "cell_type": "code",
   "execution_count": 55,
   "id": "9a901463",
   "metadata": {},
   "outputs": [
    {
     "data": {
      "text/plain": [
       "880"
      ]
     },
     "execution_count": 55,
     "metadata": {},
     "output_type": "execute_result"
    }
   ],
   "source": [
    "len(df_gpt_total)"
   ]
  },
  {
   "cell_type": "code",
   "execution_count": 56,
   "id": "3c7ce791",
   "metadata": {},
   "outputs": [],
   "source": [
    "df_gpt_total_all = df_gpt_total"
   ]
  },
  {
   "cell_type": "code",
   "execution_count": 23,
   "id": "f921c6f6",
   "metadata": {},
   "outputs": [
    {
     "name": "stderr",
     "output_type": "stream",
     "text": [
      "C:\\Users\\lespinosa\\AppData\\Local\\Temp\\ipykernel_26232\\964839105.py:1: FutureWarning: The frame.append method is deprecated and will be removed from pandas in a future version. Use pandas.concat instead.\n",
      "  df_gpt_total_all = df_gpt_total_all.append(df_gpt_total)\n"
     ]
    }
   ],
   "source": [
    "df_gpt_total_all = df_gpt_total_all.append(df_gpt_total)"
   ]
  },
  {
   "cell_type": "code",
   "execution_count": 57,
   "id": "5bd6677b",
   "metadata": {},
   "outputs": [
    {
     "data": {
      "text/plain": [
       "880"
      ]
     },
     "execution_count": 57,
     "metadata": {},
     "output_type": "execute_result"
    }
   ],
   "source": [
    "len(df_gpt_total_all)"
   ]
  },
  {
   "cell_type": "code",
   "execution_count": 59,
   "id": "1eb834c3",
   "metadata": {},
   "outputs": [
    {
     "data": {
      "text/html": [
       "<div>\n",
       "<style scoped>\n",
       "    .dataframe tbody tr th:only-of-type {\n",
       "        vertical-align: middle;\n",
       "    }\n",
       "\n",
       "    .dataframe tbody tr th {\n",
       "        vertical-align: top;\n",
       "    }\n",
       "\n",
       "    .dataframe thead th {\n",
       "        text-align: right;\n",
       "    }\n",
       "</style>\n",
       "<table border=\"1\" class=\"dataframe\">\n",
       "  <thead>\n",
       "    <tr style=\"text-align: right;\">\n",
       "      <th></th>\n",
       "      <th>text</th>\n",
       "      <th>sentiment_gpt</th>\n",
       "      <th>prompt</th>\n",
       "    </tr>\n",
       "  </thead>\n",
       "  <tbody>\n",
       "    <tr>\n",
       "      <th>875</th>\n",
       "      <td>Can I get ‘long COVID’ if I’m infected after v...</td>\n",
       "      <td>Neutral. The user is asking a question about a...</td>\n",
       "      <td>47</td>\n",
       "    </tr>\n",
       "    <tr>\n",
       "      <th>876</th>\n",
       "      <td>But it’s not the same vaccine that is being us...</td>\n",
       "      <td>Neutral. The user is simply making a factual s...</td>\n",
       "      <td>47</td>\n",
       "    </tr>\n",
       "    <tr>\n",
       "      <th>877</th>\n",
       "      <td>Moderna’s coronavirus vaccine clears safety hu...</td>\n",
       "      <td>Neutral. The tweet is presenting factual infor...</td>\n",
       "      <td>47</td>\n",
       "    </tr>\n",
       "    <tr>\n",
       "      <th>878</th>\n",
       "      <td>Teyana Taylor says she's retiring. 😒😒😒 Anyway....</td>\n",
       "      <td>Neutral. The user mentions the vaccine but doe...</td>\n",
       "      <td>47</td>\n",
       "    </tr>\n",
       "    <tr>\n",
       "      <th>879</th>\n",
       "      <td>@user @user @user Here in my hometown Florianó...</td>\n",
       "      <td>Positive. The user is expressing a dissatisfac...</td>\n",
       "      <td>47</td>\n",
       "    </tr>\n",
       "  </tbody>\n",
       "</table>\n",
       "</div>"
      ],
      "text/plain": [
       "                                                  text  \\\n",
       "875  Can I get ‘long COVID’ if I’m infected after v...   \n",
       "876  But it’s not the same vaccine that is being us...   \n",
       "877  Moderna’s coronavirus vaccine clears safety hu...   \n",
       "878  Teyana Taylor says she's retiring. 😒😒😒 Anyway....   \n",
       "879  @user @user @user Here in my hometown Florianó...   \n",
       "\n",
       "                                         sentiment_gpt  prompt  \n",
       "875  Neutral. The user is asking a question about a...      47  \n",
       "876  Neutral. The user is simply making a factual s...      47  \n",
       "877  Neutral. The tweet is presenting factual infor...      47  \n",
       "878  Neutral. The user mentions the vaccine but doe...      47  \n",
       "879  Positive. The user is expressing a dissatisfac...      47  "
      ]
     },
     "execution_count": 59,
     "metadata": {},
     "output_type": "execute_result"
    }
   ],
   "source": [
    "df_gpt_total_all.tail()"
   ]
  },
  {
   "cell_type": "code",
   "execution_count": 60,
   "id": "420096e4",
   "metadata": {},
   "outputs": [],
   "source": [
    "df_gpt_total_all.to_csv('../data/local/gpt_sentiment_mturk_prompt47_new_new.csv')"
   ]
  },
  {
   "cell_type": "markdown",
   "id": "91665254",
   "metadata": {},
   "source": [
    "# Using three categories for vaccine sentiment"
   ]
  },
  {
   "cell_type": "code",
   "execution_count": 10,
   "id": "d9865707-b6c8-4dcc-bf88-1736bb13310a",
   "metadata": {},
   "outputs": [],
   "source": [
    "# Prompt for GPT\n",
    "prompt_raw = \"Give me the sentiment regarding vaccination expressed by the user in the tweet text delimited by triple backticks. \\\n",
    "Use one of the following words: neutral, negative, positive. \\\n",
    "```{TWEET_TEXT_HERE}```\""
   ]
  },
  {
   "cell_type": "code",
   "execution_count": 5,
   "id": "8ce27066-8efb-4903-81ea-0d3d4b5c1e86",
   "metadata": {},
   "outputs": [],
   "source": [
    "#prompt_i = prompt_raw.replace('TWEET_TEXT_HERE', tweets.iloc[0,1])"
   ]
  },
  {
   "cell_type": "code",
   "execution_count": 11,
   "id": "c026094b-57da-48e7-a465-5810644f8fe7",
   "metadata": {},
   "outputs": [
    {
     "data": {
      "text/plain": [
       "4786"
      ]
     },
     "execution_count": 11,
     "metadata": {},
     "output_type": "execute_result"
    }
   ],
   "source": [
    "len(tweets.index)"
   ]
  },
  {
   "cell_type": "code",
   "execution_count": 12,
   "id": "c23b36d9-0f9a-42fe-a366-8df1434a585b",
   "metadata": {},
   "outputs": [
    {
     "data": {
      "text/plain": [
       "<bound method DataFrame.info of      index                                               text  neutral  \\\n",
       "0        0  \"#Shingrix Vaccine Against Shingles Remains In...        3   \n",
       "1        1  \"...French scientist Louis Pasteur coined the ...        3   \n",
       "2        2  \"...due to potentially unexplained illnesses.\"...        2   \n",
       "3        3  \"...on average, it takes 10.7 years to develop...        3   \n",
       "4        4  \"..only 29 percent of the teens its members in...        3   \n",
       "..     ...                                                ...      ...   \n",
       "96      96  #COVID19 vaccine could be delivered in mailabl...        4   \n",
       "97      97  #COVID19Vaccine in 1 month? CSIR pins hope on ...        4   \n",
       "98      98  #COVID19dz Ignorance at the utmost level as co...        1   \n",
       "99      99  #CRO Vaccine Market in Austria to 2021 Market ...        3   \n",
       "100    100  #California has just implemented one of the #s...        3   \n",
       "\n",
       "     negative  positive  total  \n",
       "0           0         0      3  \n",
       "1           0         0      3  \n",
       "2           1         7     10  \n",
       "3           0         0      3  \n",
       "4           0         0      3  \n",
       "..        ...       ...    ...  \n",
       "96          1         5     10  \n",
       "97          0         7     11  \n",
       "98          1         9     11  \n",
       "99          0         0      3  \n",
       "100         0         0      3  \n",
       "\n",
       "[101 rows x 6 columns]>"
      ]
     },
     "execution_count": 12,
     "metadata": {},
     "output_type": "execute_result"
    }
   ],
   "source": [
    "test = tweets.iloc[:101, :]\n",
    "test.info"
   ]
  },
  {
   "cell_type": "code",
   "execution_count": 7,
   "id": "986b9ea8-c64d-4e27-ba53-1f57c3b53d21",
   "metadata": {},
   "outputs": [],
   "source": [
    "tweets1 = tweets.iloc[0:306,:]\n",
    "tweets2 = tweets.iloc[306:601,:]\n",
    "tweets3 = tweets.iloc[601:901, :]\n",
    "tweets4 = tweets.iloc[901:1201, :]\n"
   ]
  },
  {
   "cell_type": "code",
   "execution_count": 14,
   "id": "c487242a-2b6e-4b45-90a4-150efed6e32f",
   "metadata": {},
   "outputs": [
    {
     "data": {
      "text/plain": [
       "'\"...French scientist Louis Pasteur coined the term “vaccination” in honour of Jenner’s work (vacca being the Latin for cow)\" - TIL! 🐮💉 <url>'"
      ]
     },
     "execution_count": 14,
     "metadata": {},
     "output_type": "execute_result"
    }
   ],
   "source": [
    "test.iloc[1,1]"
   ]
  },
  {
   "cell_type": "code",
   "execution_count": 68,
   "id": "ecfc3a3b-514a-43f9-9a1a-3506358cc2cc",
   "metadata": {},
   "outputs": [],
   "source": [
    "id_gpt = []\n",
    "sent_gpt = []"
   ]
  },
  {
   "cell_type": "code",
   "execution_count": 69,
   "id": "80ade1ff-1238-4ab3-a151-3a2df1163a1b",
   "metadata": {},
   "outputs": [],
   "source": [
    "for i in range(0,4785):\n",
    "    prompt_i = prompt_raw.replace('TWEET_TEXT_HERE', tweets.iloc[i,1])\n",
    "    response = openai.Completion.create(\n",
    "      model=\"text-davinci-003\",\n",
    "      prompt=prompt_i,\n",
    "      temperature=0.8,\n",
    "      max_tokens=256,\n",
    "      top_p=1,\n",
    "      frequency_penalty=0,\n",
    "      presence_penalty=0\n",
    "    )\n",
    "    id_gpt.append(tweets.iloc[i,0])\n",
    "    sent_gpt.append(response.choices[0].text)"
   ]
  },
  {
   "cell_type": "code",
   "execution_count": 38,
   "id": "2c9a278c",
   "metadata": {},
   "outputs": [],
   "source": [
    "run = np.array([1])"
   ]
  },
  {
   "cell_type": "code",
   "execution_count": 70,
   "id": "a251c314-a165-4a19-8bc0-06f04c2d7feb",
   "metadata": {
    "tags": []
   },
   "outputs": [
    {
     "name": "stdout",
     "output_type": "stream",
     "text": [
      "<class 'pandas.core.frame.DataFrame'>\n",
      "RangeIndex: 4785 entries, 0 to 4784\n",
      "Data columns (total 2 columns):\n",
      " #   Column         Non-Null Count  Dtype \n",
      "---  ------         --------------  ----- \n",
      " 0   id_gpt         4785 non-null   int64 \n",
      " 1   sentiment_gpt  4785 non-null   object\n",
      "dtypes: int64(1), object(1)\n",
      "memory usage: 74.9+ KB\n"
     ]
    }
   ],
   "source": [
    "df_gpt_total = pd.DataFrame(list(zip(id_gpt, sent_gpt)),\n",
    "                            columns = ['id_gpt', 'sentiment_gpt'])\n",
    "df_gpt_total.info()"
   ]
  },
  {
   "cell_type": "code",
   "execution_count": 71,
   "id": "ef24fe3d",
   "metadata": {},
   "outputs": [],
   "source": [
    "df_gpt_total['run'] = 3"
   ]
  },
  {
   "cell_type": "code",
   "execution_count": 72,
   "id": "9386b878-5de3-49d7-b055-a88cea4c6d4b",
   "metadata": {},
   "outputs": [
    {
     "data": {
      "text/html": [
       "<div>\n",
       "<style scoped>\n",
       "    .dataframe tbody tr th:only-of-type {\n",
       "        vertical-align: middle;\n",
       "    }\n",
       "\n",
       "    .dataframe tbody tr th {\n",
       "        vertical-align: top;\n",
       "    }\n",
       "\n",
       "    .dataframe thead th {\n",
       "        text-align: right;\n",
       "    }\n",
       "</style>\n",
       "<table border=\"1\" class=\"dataframe\">\n",
       "  <thead>\n",
       "    <tr style=\"text-align: right;\">\n",
       "      <th></th>\n",
       "      <th>id_gpt</th>\n",
       "      <th>sentiment_gpt</th>\n",
       "      <th>run</th>\n",
       "    </tr>\n",
       "  </thead>\n",
       "  <tbody>\n",
       "    <tr>\n",
       "      <th>4780</th>\n",
       "      <td>4780</td>\n",
       "      <td>\\n\\nNegative</td>\n",
       "      <td>3</td>\n",
       "    </tr>\n",
       "    <tr>\n",
       "      <th>4781</th>\n",
       "      <td>4781</td>\n",
       "      <td>\\n\\npositive</td>\n",
       "      <td>3</td>\n",
       "    </tr>\n",
       "    <tr>\n",
       "      <th>4782</th>\n",
       "      <td>4782</td>\n",
       "      <td>\\n\\nneutral</td>\n",
       "      <td>3</td>\n",
       "    </tr>\n",
       "    <tr>\n",
       "      <th>4783</th>\n",
       "      <td>4783</td>\n",
       "      <td>\\n\\npositive</td>\n",
       "      <td>3</td>\n",
       "    </tr>\n",
       "    <tr>\n",
       "      <th>4784</th>\n",
       "      <td>4784</td>\n",
       "      <td>\\n\\nNeutral</td>\n",
       "      <td>3</td>\n",
       "    </tr>\n",
       "  </tbody>\n",
       "</table>\n",
       "</div>"
      ],
      "text/plain": [
       "      id_gpt sentiment_gpt  run\n",
       "4780    4780  \\n\\nNegative    3\n",
       "4781    4781  \\n\\npositive    3\n",
       "4782    4782   \\n\\nneutral    3\n",
       "4783    4783  \\n\\npositive    3\n",
       "4784    4784   \\n\\nNeutral    3"
      ]
     },
     "execution_count": 72,
     "metadata": {},
     "output_type": "execute_result"
    }
   ],
   "source": [
    "df_gpt_total.tail()"
   ]
  },
  {
   "cell_type": "code",
   "execution_count": 59,
   "id": "d7b69a10",
   "metadata": {},
   "outputs": [
    {
     "name": "stderr",
     "output_type": "stream",
     "text": [
      "C:\\Users\\lespinosa\\AppData\\Local\\Temp\\ipykernel_23560\\3678373193.py:1: FutureWarning: The frame.append method is deprecated and will be removed from pandas in a future version. Use pandas.concat instead.\n",
      "  df_gpt_total_all = df_gpt_total.append(df_gpt_total2)\n"
     ]
    }
   ],
   "source": [
    "#df_gpt_total_all = df_gpt_total.append(df_gpt_total2)"
   ]
  },
  {
   "cell_type": "code",
   "execution_count": 73,
   "id": "ba4e26f3-b7f2-4813-b50a-cb7905e0abe5",
   "metadata": {},
   "outputs": [],
   "source": [
    "df_gpt_total.to_excel('../data/local/gpt_sentiment_mturk_v4.xlsx')\n"
   ]
  },
  {
   "cell_type": "markdown",
   "id": "f618d0e5",
   "metadata": {},
   "source": [
    "# Using two categories for vaccine sentiment"
   ]
  },
  {
   "cell_type": "code",
   "execution_count": 6,
   "id": "ae054d6a",
   "metadata": {},
   "outputs": [
    {
     "data": {
      "text/html": [
       "<div>\n",
       "<style scoped>\n",
       "    .dataframe tbody tr th:only-of-type {\n",
       "        vertical-align: middle;\n",
       "    }\n",
       "\n",
       "    .dataframe tbody tr th {\n",
       "        vertical-align: top;\n",
       "    }\n",
       "\n",
       "    .dataframe thead th {\n",
       "        text-align: right;\n",
       "    }\n",
       "</style>\n",
       "<table border=\"1\" class=\"dataframe\">\n",
       "  <thead>\n",
       "    <tr style=\"text-align: right;\">\n",
       "      <th></th>\n",
       "      <th>index</th>\n",
       "      <th>id</th>\n",
       "      <th>text</th>\n",
       "      <th>label_tag</th>\n",
       "    </tr>\n",
       "  </thead>\n",
       "  <tbody>\n",
       "    <tr>\n",
       "      <th>18</th>\n",
       "      <td>18</td>\n",
       "      <td>1235574994924490752</td>\n",
       "      <td>@user @user I saw #VaxxedII yesterday and I ha...</td>\n",
       "      <td>negative</td>\n",
       "    </tr>\n",
       "    <tr>\n",
       "      <th>22</th>\n",
       "      <td>22</td>\n",
       "      <td>1236451808412909568</td>\n",
       "      <td>Dear anti-vaxxers. If you are legitimately wor...</td>\n",
       "      <td>positive</td>\n",
       "    </tr>\n",
       "    <tr>\n",
       "      <th>26</th>\n",
       "      <td>26</td>\n",
       "      <td>1237492335430250496</td>\n",
       "      <td>@user @user thank you for the vaccine LOL #Wel...</td>\n",
       "      <td>positive</td>\n",
       "    </tr>\n",
       "    <tr>\n",
       "      <th>28</th>\n",
       "      <td>28</td>\n",
       "      <td>1237894709306986496</td>\n",
       "      <td>Remember polio? Killed a lot of people. Vaccin...</td>\n",
       "      <td>positive</td>\n",
       "    </tr>\n",
       "    <tr>\n",
       "      <th>38</th>\n",
       "      <td>38</td>\n",
       "      <td>1239077015250030592</td>\n",
       "      <td>You be ready to pay what this Coronavirus vacc...</td>\n",
       "      <td>negative</td>\n",
       "    </tr>\n",
       "  </tbody>\n",
       "</table>\n",
       "</div>"
      ],
      "text/plain": [
       "    index                   id  \\\n",
       "18     18  1235574994924490752   \n",
       "22     22  1236451808412909568   \n",
       "26     26  1237492335430250496   \n",
       "28     28  1237894709306986496   \n",
       "38     38  1239077015250030592   \n",
       "\n",
       "                                                 text label_tag  \n",
       "18  @user @user I saw #VaxxedII yesterday and I ha...  negative  \n",
       "22  Dear anti-vaxxers. If you are legitimately wor...  positive  \n",
       "26  @user @user thank you for the vaccine LOL #Wel...  positive  \n",
       "28  Remember polio? Killed a lot of people. Vaccin...  positive  \n",
       "38  You be ready to pay what this Coronavirus vacc...  negative  "
      ]
     },
     "execution_count": 6,
     "metadata": {},
     "output_type": "execute_result"
    }
   ],
   "source": [
    "tweets_pos_neg = tweets[tweets['label_tag'].isin(['positive', 'negative'])]\n",
    "tweets_pos_neg.head()"
   ]
  },
  {
   "cell_type": "code",
   "execution_count": 39,
   "id": "00b76182-73e4-45c0-aa71-efa35591b01c",
   "metadata": {},
   "outputs": [
    {
     "data": {
      "text/html": [
       "<div>\n",
       "<style scoped>\n",
       "    .dataframe tbody tr th:only-of-type {\n",
       "        vertical-align: middle;\n",
       "    }\n",
       "\n",
       "    .dataframe tbody tr th {\n",
       "        vertical-align: top;\n",
       "    }\n",
       "\n",
       "    .dataframe thead th {\n",
       "        text-align: right;\n",
       "    }\n",
       "</style>\n",
       "<table border=\"1\" class=\"dataframe\">\n",
       "  <thead>\n",
       "    <tr style=\"text-align: right;\">\n",
       "      <th></th>\n",
       "      <th>index</th>\n",
       "      <th>id</th>\n",
       "      <th>text</th>\n",
       "      <th>label_tag</th>\n",
       "    </tr>\n",
       "  </thead>\n",
       "  <tbody>\n",
       "    <tr>\n",
       "      <th>1</th>\n",
       "      <td>1</td>\n",
       "      <td>1008751928568840192</td>\n",
       "      <td>Great news to see. Hopefully, folks who disput...</td>\n",
       "      <td>positive</td>\n",
       "    </tr>\n",
       "    <tr>\n",
       "      <th>2</th>\n",
       "      <td>2</td>\n",
       "      <td>1008751948957351936</td>\n",
       "      <td>The global community must invest in further re...</td>\n",
       "      <td>positive</td>\n",
       "    </tr>\n",
       "    <tr>\n",
       "      <th>3</th>\n",
       "      <td>3</td>\n",
       "      <td>1008752099222523904</td>\n",
       "      <td>HPV vaccine has almost wiped out infections in...</td>\n",
       "      <td>positive</td>\n",
       "    </tr>\n",
       "    <tr>\n",
       "      <th>4</th>\n",
       "      <td>4</td>\n",
       "      <td>1010156916553736192</td>\n",
       "      <td>So I can catch this shit too and need treatmen...</td>\n",
       "      <td>negative</td>\n",
       "    </tr>\n",
       "    <tr>\n",
       "      <th>5</th>\n",
       "      <td>5</td>\n",
       "      <td>1010157450618601472</td>\n",
       "      <td>Could a #vaccine for #type-1 diabetes be on th...</td>\n",
       "      <td>positive</td>\n",
       "    </tr>\n",
       "  </tbody>\n",
       "</table>\n",
       "</div>"
      ],
      "text/plain": [
       "   index                   id  \\\n",
       "1      1  1008751928568840192   \n",
       "2      2  1008751948957351936   \n",
       "3      3  1008752099222523904   \n",
       "4      4  1010156916553736192   \n",
       "5      5  1010157450618601472   \n",
       "\n",
       "                                                text label_tag  \n",
       "1  Great news to see. Hopefully, folks who disput...  positive  \n",
       "2  The global community must invest in further re...  positive  \n",
       "3  HPV vaccine has almost wiped out infections in...  positive  \n",
       "4  So I can catch this shit too and need treatmen...  negative  \n",
       "5  Could a #vaccine for #type-1 diabetes be on th...  positive  "
      ]
     },
     "execution_count": 39,
     "metadata": {},
     "output_type": "execute_result"
    }
   ],
   "source": [
    "tweets_new_pos_neg = tweets_new[tweets_new['label_tag'].isin(['positive', 'negative'])]\n",
    "tweets_new_pos_neg.head()"
   ]
  },
  {
   "cell_type": "code",
   "execution_count": 42,
   "id": "14e6c624",
   "metadata": {},
   "outputs": [],
   "source": [
    "prompt_raw_pos_neg = \"Please give me the sentiment regarding vaccination in the following tweet: \\\n",
    "\"TWEET_TEXT_HERE\\\"\\nUse one of the following words: negative, positive\""
   ]
  },
  {
   "cell_type": "code",
   "execution_count": 40,
   "id": "b15c9420",
   "metadata": {},
   "outputs": [
    {
     "data": {
      "text/plain": [
       "128"
      ]
     },
     "execution_count": 40,
     "metadata": {},
     "output_type": "execute_result"
    }
   ],
   "source": [
    "len(tweets_new_pos_neg.index)"
   ]
  },
  {
   "cell_type": "code",
   "execution_count": 9,
   "id": "2f726abb",
   "metadata": {},
   "outputs": [
    {
     "data": {
      "text/html": [
       "<div>\n",
       "<style scoped>\n",
       "    .dataframe tbody tr th:only-of-type {\n",
       "        vertical-align: middle;\n",
       "    }\n",
       "\n",
       "    .dataframe tbody tr th {\n",
       "        vertical-align: top;\n",
       "    }\n",
       "\n",
       "    .dataframe thead th {\n",
       "        text-align: right;\n",
       "    }\n",
       "</style>\n",
       "<table border=\"1\" class=\"dataframe\">\n",
       "  <thead>\n",
       "    <tr style=\"text-align: right;\">\n",
       "      <th></th>\n",
       "      <th>index</th>\n",
       "      <th>id</th>\n",
       "      <th>text</th>\n",
       "      <th>label_tag</th>\n",
       "    </tr>\n",
       "  </thead>\n",
       "  <tbody>\n",
       "    <tr>\n",
       "      <th>18</th>\n",
       "      <td>18</td>\n",
       "      <td>1235574994924490752</td>\n",
       "      <td>@user @user I saw #VaxxedII yesterday and I ha...</td>\n",
       "      <td>negative</td>\n",
       "    </tr>\n",
       "    <tr>\n",
       "      <th>22</th>\n",
       "      <td>22</td>\n",
       "      <td>1236451808412909568</td>\n",
       "      <td>Dear anti-vaxxers. If you are legitimately wor...</td>\n",
       "      <td>positive</td>\n",
       "    </tr>\n",
       "  </tbody>\n",
       "</table>\n",
       "</div>"
      ],
      "text/plain": [
       "    index                   id  \\\n",
       "18     18  1235574994924490752   \n",
       "22     22  1236451808412909568   \n",
       "\n",
       "                                                 text label_tag  \n",
       "18  @user @user I saw #VaxxedII yesterday and I ha...  negative  \n",
       "22  Dear anti-vaxxers. If you are legitimately wor...  positive  "
      ]
     },
     "execution_count": 9,
     "metadata": {},
     "output_type": "execute_result"
    }
   ],
   "source": [
    "test = tweets_pos_neg.iloc[0:2, :]\n",
    "test"
   ]
  },
  {
   "cell_type": "code",
   "execution_count": 7,
   "id": "2bcdc70c",
   "metadata": {},
   "outputs": [],
   "source": [
    "tweets_pos_neg1 = tweets_pos_neg.iloc[0:306,:]\n",
    "tweets_pos_neg2 = tweets_pos_neg.iloc[306:601,:]\n",
    "tweets_pos_neg3 = tweets_pos_neg.iloc[601:901, :]\n",
    "tweets_pos_neg4 = tweets_pos_neg.iloc[901:1201, :]\n"
   ]
  },
  {
   "cell_type": "code",
   "execution_count": 103,
   "id": "cfa78bf9",
   "metadata": {},
   "outputs": [],
   "source": [
    "tweets_pos_neg4 = tweets_pos_neg.iloc[901:1201, :]"
   ]
  },
  {
   "cell_type": "code",
   "execution_count": 43,
   "id": "80b65b5e",
   "metadata": {},
   "outputs": [],
   "source": [
    "id_gpt_two = []\n",
    "sent_gpt_two = []"
   ]
  },
  {
   "cell_type": "code",
   "execution_count": 44,
   "id": "48395218",
   "metadata": {},
   "outputs": [],
   "source": [
    "for i in range(0,128):\n",
    "    prompt_two_i = prompt_raw_pos_neg.replace('TWEET_TEXT_HERE', tweets_new_pos_neg.iloc[i,2])\n",
    "    response_two = openai.Completion.create(\n",
    "      model=\"text-davinci-003\",\n",
    "      prompt=prompt_two_i,\n",
    "      temperature=0.7,\n",
    "      max_tokens=256,\n",
    "      top_p=1,\n",
    "      frequency_penalty=0,\n",
    "      presence_penalty=0\n",
    "    )\n",
    "    id_gpt_two.append(tweets_new_pos_neg.iloc[i,0])\n",
    "    sent_gpt_two.append(response_two.choices[0].text)"
   ]
  },
  {
   "cell_type": "code",
   "execution_count": 17,
   "id": "69cfbfaf",
   "metadata": {},
   "outputs": [],
   "source": [
    "prompt_two_1339 = prompt_raw_pos_neg.replace('TWEET_TEXT_HERE', tweets_pos_neg.iloc[1339,2])\n",
    "response_two = openai.Completion.create(\n",
    "      model=\"text-davinci-003\",\n",
    "      prompt=prompt_two_1339,\n",
    "      temperature=0.7,\n",
    "      max_tokens=256,\n",
    "      top_p=1,\n",
    "      frequency_penalty=0,\n",
    "      presence_penalty=0\n",
    "    )\n",
    "id_gpt_two.append(tweets_pos_neg.iloc[1339,0])\n",
    "sent_gpt_two.append(response_two.choices[0].text)"
   ]
  },
  {
   "cell_type": "code",
   "execution_count": 46,
   "id": "bcee3e9d",
   "metadata": {
    "tags": []
   },
   "outputs": [
    {
     "name": "stdout",
     "output_type": "stream",
     "text": [
      "<class 'pandas.core.frame.DataFrame'>\n",
      "RangeIndex: 128 entries, 0 to 127\n",
      "Data columns (total 2 columns):\n",
      " #   Column             Non-Null Count  Dtype \n",
      "---  ------             --------------  ----- \n",
      " 0   id_gpt_two         128 non-null    int64 \n",
      " 1   sentiment_gpt_two  128 non-null    object\n",
      "dtypes: int64(1), object(1)\n",
      "memory usage: 2.1+ KB\n"
     ]
    }
   ],
   "source": [
    "df_two_gpt_total = pd.DataFrame(list(zip(id_gpt_two, sent_gpt_two)),\n",
    "                            columns = ['id_gpt_two', 'sentiment_gpt_two'])\n",
    "df_two_gpt_total.info()"
   ]
  },
  {
   "cell_type": "code",
   "execution_count": 47,
   "id": "c0dd6a82",
   "metadata": {},
   "outputs": [
    {
     "data": {
      "text/html": [
       "<div>\n",
       "<style scoped>\n",
       "    .dataframe tbody tr th:only-of-type {\n",
       "        vertical-align: middle;\n",
       "    }\n",
       "\n",
       "    .dataframe tbody tr th {\n",
       "        vertical-align: top;\n",
       "    }\n",
       "\n",
       "    .dataframe thead th {\n",
       "        text-align: right;\n",
       "    }\n",
       "</style>\n",
       "<table border=\"1\" class=\"dataframe\">\n",
       "  <thead>\n",
       "    <tr style=\"text-align: right;\">\n",
       "      <th></th>\n",
       "      <th>id_gpt_two</th>\n",
       "      <th>sentiment_gpt_two</th>\n",
       "    </tr>\n",
       "  </thead>\n",
       "  <tbody>\n",
       "    <tr>\n",
       "      <th>123</th>\n",
       "      <td>179</td>\n",
       "      <td>, or neutral\\n\\nPositive</td>\n",
       "    </tr>\n",
       "    <tr>\n",
       "      <th>124</th>\n",
       "      <td>180</td>\n",
       "      <td>, or neutral\\n\\nPositive</td>\n",
       "    </tr>\n",
       "    <tr>\n",
       "      <th>125</th>\n",
       "      <td>181</td>\n",
       "      <td>, or neutral\\n\\nNegative</td>\n",
       "    </tr>\n",
       "    <tr>\n",
       "      <th>126</th>\n",
       "      <td>182</td>\n",
       "      <td>, or neutral\\n\\nPositive</td>\n",
       "    </tr>\n",
       "    <tr>\n",
       "      <th>127</th>\n",
       "      <td>184</td>\n",
       "      <td>\\n\\nNegative</td>\n",
       "    </tr>\n",
       "  </tbody>\n",
       "</table>\n",
       "</div>"
      ],
      "text/plain": [
       "     id_gpt_two         sentiment_gpt_two\n",
       "123         179  , or neutral\\n\\nPositive\n",
       "124         180  , or neutral\\n\\nPositive\n",
       "125         181  , or neutral\\n\\nNegative\n",
       "126         182  , or neutral\\n\\nPositive\n",
       "127         184              \\n\\nNegative"
      ]
     },
     "execution_count": 47,
     "metadata": {},
     "output_type": "execute_result"
    }
   ],
   "source": [
    "df_two_gpt_total.tail()"
   ]
  },
  {
   "cell_type": "code",
   "execution_count": 108,
   "id": "304fbd5d",
   "metadata": {},
   "outputs": [],
   "source": [
    "id_gpt13 = id_gpt\n",
    "sent_gpt13 = sent_gpt\n",
    "df_gpt_total13 = df_gpt_total"
   ]
  },
  {
   "cell_type": "code",
   "execution_count": 25,
   "id": "73353eb4",
   "metadata": {},
   "outputs": [
    {
     "name": "stdout",
     "output_type": "stream",
     "text": [
      "<class 'pandas.core.series.Series'>\n"
     ]
    }
   ],
   "source": [
    "#df_gpt_total1.to_csv('../data/local/gpt_sentiment1.csv')\n",
    "df_gpt_total1['sentiment_gpt2'] = df_gpt_total1['sentiment_gpt'].to_string()\n",
    "print(type(df_gpt_total1['sentiment_gpt2']))"
   ]
  },
  {
   "cell_type": "code",
   "execution_count": 30,
   "id": "9c8d28fe",
   "metadata": {},
   "outputs": [],
   "source": [
    "#sent_gpt1.to_csv('../data/local/gpt_sentiment1_only.csv')"
   ]
  },
  {
   "cell_type": "code",
   "execution_count": 48,
   "id": "d3eda4c7",
   "metadata": {},
   "outputs": [],
   "source": [
    "df_two_gpt_total.to_excel('../data/local/gpt_sentiment_new_pos_neg.xlsx')\n"
   ]
  }
 ],
 "metadata": {
  "kernelspec": {
   "display_name": "Python 3 (ipykernel)",
   "language": "python",
   "name": "python3"
  },
  "language_info": {
   "codemirror_mode": {
    "name": "ipython",
    "version": 3
   },
   "file_extension": ".py",
   "mimetype": "text/x-python",
   "name": "python",
   "nbconvert_exporter": "python",
   "pygments_lexer": "ipython3",
   "version": "3.9.12"
  }
 },
 "nbformat": 4,
 "nbformat_minor": 5
}
