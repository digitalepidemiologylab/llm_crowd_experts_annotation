{
 "cells": [
  {
   "cell_type": "markdown",
   "id": "e90b7c28",
   "metadata": {},
   "source": [
    "# Import libraries and data"
   ]
  },
  {
   "cell_type": "code",
   "execution_count": 1,
   "id": "433219e8-8f66-4be5-a3b8-e39fca644032",
   "metadata": {
    "tags": []
   },
   "outputs": [],
   "source": [
    "import os\n",
    "import openai\n",
    "import pandas as pd\n",
    "import numpy as np\n",
    "import openpyxl"
   ]
  },
  {
   "cell_type": "code",
   "execution_count": 2,
   "id": "2c68f056-74fe-4f29-9daf-6bdef5cc0701",
   "metadata": {},
   "outputs": [],
   "source": [
    "# Get OpenAI API secret key\n",
    "open_ai_key = open('../data/local/openai_key.txt', 'r').read()\n",
    "openai.api_key = open_ai_key\n",
    "#openai.Model.list()"
   ]
  },
  {
   "cell_type": "code",
   "execution_count": 3,
   "id": "81541320-fa96-4a0b-b650-0173598db2e1",
   "metadata": {
    "scrolled": true,
    "tags": []
   },
   "outputs": [
    {
     "data": {
      "text/html": [
       "<div>\n",
       "<style scoped>\n",
       "    .dataframe tbody tr th:only-of-type {\n",
       "        vertical-align: middle;\n",
       "    }\n",
       "\n",
       "    .dataframe tbody tr th {\n",
       "        vertical-align: top;\n",
       "    }\n",
       "\n",
       "    .dataframe thead th {\n",
       "        text-align: right;\n",
       "    }\n",
       "</style>\n",
       "<table border=\"1\" class=\"dataframe\">\n",
       "  <thead>\n",
       "    <tr style=\"text-align: right;\">\n",
       "      <th></th>\n",
       "      <th>index</th>\n",
       "      <th>text</th>\n",
       "      <th>neutral</th>\n",
       "      <th>negative</th>\n",
       "      <th>positive</th>\n",
       "      <th>total</th>\n",
       "      <th>agree_mturk</th>\n",
       "    </tr>\n",
       "  </thead>\n",
       "  <tbody>\n",
       "    <tr>\n",
       "      <th>0</th>\n",
       "      <td>0</td>\n",
       "      <td>\"#Shingrix Vaccine Against Shingles Remains In...</td>\n",
       "      <td>3</td>\n",
       "      <td>0</td>\n",
       "      <td>0</td>\n",
       "      <td>3</td>\n",
       "      <td>neutral</td>\n",
       "    </tr>\n",
       "    <tr>\n",
       "      <th>1</th>\n",
       "      <td>1</td>\n",
       "      <td>\"...French scientist Louis Pasteur coined the ...</td>\n",
       "      <td>3</td>\n",
       "      <td>0</td>\n",
       "      <td>0</td>\n",
       "      <td>3</td>\n",
       "      <td>neutral</td>\n",
       "    </tr>\n",
       "    <tr>\n",
       "      <th>2</th>\n",
       "      <td>2</td>\n",
       "      <td>\"...due to potentially unexplained illnesses.\"...</td>\n",
       "      <td>2</td>\n",
       "      <td>1</td>\n",
       "      <td>7</td>\n",
       "      <td>10</td>\n",
       "      <td>positive</td>\n",
       "    </tr>\n",
       "    <tr>\n",
       "      <th>3</th>\n",
       "      <td>3</td>\n",
       "      <td>\"...on average, it takes 10.7 years to develop...</td>\n",
       "      <td>3</td>\n",
       "      <td>0</td>\n",
       "      <td>0</td>\n",
       "      <td>3</td>\n",
       "      <td>neutral</td>\n",
       "    </tr>\n",
       "    <tr>\n",
       "      <th>4</th>\n",
       "      <td>4</td>\n",
       "      <td>\"..only 29 percent of the teens its members in...</td>\n",
       "      <td>3</td>\n",
       "      <td>0</td>\n",
       "      <td>0</td>\n",
       "      <td>3</td>\n",
       "      <td>neutral</td>\n",
       "    </tr>\n",
       "  </tbody>\n",
       "</table>\n",
       "</div>"
      ],
      "text/plain": [
       "   index                                               text  neutral  \\\n",
       "0      0  \"#Shingrix Vaccine Against Shingles Remains In...        3   \n",
       "1      1  \"...French scientist Louis Pasteur coined the ...        3   \n",
       "2      2  \"...due to potentially unexplained illnesses.\"...        2   \n",
       "3      3  \"...on average, it takes 10.7 years to develop...        3   \n",
       "4      4  \"..only 29 percent of the teens its members in...        3   \n",
       "\n",
       "   negative  positive  total agree_mturk  \n",
       "0         0         0      3     neutral  \n",
       "1         0         0      3     neutral  \n",
       "2         1         7     10    positive  \n",
       "3         0         0      3     neutral  \n",
       "4         0         0      3     neutral  "
      ]
     },
     "execution_count": 3,
     "metadata": {},
     "output_type": "execute_result"
    }
   ],
   "source": [
    "# Get annotated tweets\n",
    "tweets = pd.read_csv('../data/local/labelled_tweets_clean_all_mturk_agg.csv').reset_index()\n",
    "tweets.head()"
   ]
  },
  {
   "cell_type": "code",
   "execution_count": 4,
   "id": "808287c1",
   "metadata": {
    "scrolled": true,
    "tags": []
   },
   "outputs": [
    {
     "data": {
      "text/html": [
       "<div>\n",
       "<style scoped>\n",
       "    .dataframe tbody tr th:only-of-type {\n",
       "        vertical-align: middle;\n",
       "    }\n",
       "\n",
       "    .dataframe tbody tr th {\n",
       "        vertical-align: top;\n",
       "    }\n",
       "\n",
       "    .dataframe thead th {\n",
       "        text-align: right;\n",
       "    }\n",
       "</style>\n",
       "<table border=\"1\" class=\"dataframe\">\n",
       "  <thead>\n",
       "    <tr style=\"text-align: right;\">\n",
       "      <th></th>\n",
       "      <th>index</th>\n",
       "      <th>text</th>\n",
       "      <th>neutral</th>\n",
       "      <th>negative</th>\n",
       "      <th>positive</th>\n",
       "      <th>total</th>\n",
       "      <th>agree_mturk</th>\n",
       "    </tr>\n",
       "  </thead>\n",
       "  <tbody>\n",
       "    <tr>\n",
       "      <th>0</th>\n",
       "      <td>0</td>\n",
       "      <td>Fetal DNA cells are in many vaccines. How do t...</td>\n",
       "      <td>3</td>\n",
       "      <td>0</td>\n",
       "      <td>0</td>\n",
       "      <td>3</td>\n",
       "      <td>neutral</td>\n",
       "    </tr>\n",
       "    <tr>\n",
       "      <th>1</th>\n",
       "      <td>1</td>\n",
       "      <td>And an anti-Vaxxer giving me coronavirus advic...</td>\n",
       "      <td>3</td>\n",
       "      <td>0</td>\n",
       "      <td>0</td>\n",
       "      <td>3</td>\n",
       "      <td>neutral</td>\n",
       "    </tr>\n",
       "    <tr>\n",
       "      <th>2</th>\n",
       "      <td>2</td>\n",
       "      <td>Vaccinations have begun in a first-in-human tr...</td>\n",
       "      <td>3</td>\n",
       "      <td>0</td>\n",
       "      <td>0</td>\n",
       "      <td>3</td>\n",
       "      <td>neutral</td>\n",
       "    </tr>\n",
       "    <tr>\n",
       "      <th>3</th>\n",
       "      <td>3</td>\n",
       "      <td>Pinterest Restricts Vaccine Search Results to ...</td>\n",
       "      <td>3</td>\n",
       "      <td>0</td>\n",
       "      <td>0</td>\n",
       "      <td>3</td>\n",
       "      <td>neutral</td>\n",
       "    </tr>\n",
       "    <tr>\n",
       "      <th>4</th>\n",
       "      <td>4</td>\n",
       "      <td>Halifax chiropractor investigated for anti-vac...</td>\n",
       "      <td>3</td>\n",
       "      <td>0</td>\n",
       "      <td>0</td>\n",
       "      <td>3</td>\n",
       "      <td>neutral</td>\n",
       "    </tr>\n",
       "  </tbody>\n",
       "</table>\n",
       "</div>"
      ],
      "text/plain": [
       "   index                                               text  neutral  \\\n",
       "0      0  Fetal DNA cells are in many vaccines. How do t...        3   \n",
       "1      1  And an anti-Vaxxer giving me coronavirus advic...        3   \n",
       "2      2  Vaccinations have begun in a first-in-human tr...        3   \n",
       "3      3  Pinterest Restricts Vaccine Search Results to ...        3   \n",
       "4      4  Halifax chiropractor investigated for anti-vac...        3   \n",
       "\n",
       "   negative  positive  total agree_mturk  \n",
       "0         0         0      3     neutral  \n",
       "1         0         0      3     neutral  \n",
       "2         0         0      3     neutral  \n",
       "3         0         0      3     neutral  \n",
       "4         0         0      3     neutral  "
      ]
     },
     "execution_count": 4,
     "metadata": {},
     "output_type": "execute_result"
    }
   ],
   "source": [
    "# Get annotated tweets\n",
    "tweets_1000 = pd.read_csv('../data/local/labelled_tweets_clean_all_mturk_agg_sample1000.csv').reset_index()\n",
    "tweets_1000.head()"
   ]
  },
  {
   "cell_type": "code",
   "execution_count": 12,
   "id": "5096b4ba",
   "metadata": {
    "scrolled": true,
    "tags": []
   },
   "outputs": [
    {
     "data": {
      "text/html": [
       "<div>\n",
       "<style scoped>\n",
       "    .dataframe tbody tr th:only-of-type {\n",
       "        vertical-align: middle;\n",
       "    }\n",
       "\n",
       "    .dataframe tbody tr th {\n",
       "        vertical-align: top;\n",
       "    }\n",
       "\n",
       "    .dataframe thead th {\n",
       "        text-align: right;\n",
       "    }\n",
       "</style>\n",
       "<table border=\"1\" class=\"dataframe\">\n",
       "  <thead>\n",
       "    <tr style=\"text-align: right;\">\n",
       "      <th></th>\n",
       "      <th>index</th>\n",
       "      <th>id_tweets</th>\n",
       "      <th>text</th>\n",
       "      <th>id_doc</th>\n",
       "      <th>sent_m</th>\n",
       "      <th>sent_c</th>\n",
       "      <th>sent_g</th>\n",
       "      <th>sent_l</th>\n",
       "      <th>neutral_sent</th>\n",
       "      <th>pos_sent</th>\n",
       "      <th>...</th>\n",
       "      <th>neutral_stan</th>\n",
       "      <th>pos_stan</th>\n",
       "      <th>neg_stan</th>\n",
       "      <th>agree_stan</th>\n",
       "      <th>stance_m</th>\n",
       "      <th>stance_c</th>\n",
       "      <th>stance_g</th>\n",
       "      <th>stance_l</th>\n",
       "      <th>agree_stance</th>\n",
       "      <th>stance_mean</th>\n",
       "    </tr>\n",
       "  </thead>\n",
       "  <tbody>\n",
       "    <tr>\n",
       "      <th>994</th>\n",
       "      <td>994</td>\n",
       "      <td>416.0</td>\n",
       "      <td>@user , with these numbers, are you still goin...</td>\n",
       "      <td>996</td>\n",
       "      <td>neutral</td>\n",
       "      <td>negative</td>\n",
       "      <td>negative</td>\n",
       "      <td>NaN</td>\n",
       "      <td>NaN</td>\n",
       "      <td>NaN</td>\n",
       "      <td>...</td>\n",
       "      <td>NaN</td>\n",
       "      <td>NaN</td>\n",
       "      <td>NaN</td>\n",
       "      <td>0</td>\n",
       "      <td>neutral</td>\n",
       "      <td>positive</td>\n",
       "      <td>neutral</td>\n",
       "      <td>NaN</td>\n",
       "      <td>0</td>\n",
       "      <td>NaN</td>\n",
       "    </tr>\n",
       "    <tr>\n",
       "      <th>995</th>\n",
       "      <td>995</td>\n",
       "      <td>2072.0</td>\n",
       "      <td>How the new Ebola vaccine was made in Canada &lt;...</td>\n",
       "      <td>997</td>\n",
       "      <td>neutral</td>\n",
       "      <td>neutral</td>\n",
       "      <td>neutral</td>\n",
       "      <td>NaN</td>\n",
       "      <td>NaN</td>\n",
       "      <td>NaN</td>\n",
       "      <td>...</td>\n",
       "      <td>NaN</td>\n",
       "      <td>NaN</td>\n",
       "      <td>NaN</td>\n",
       "      <td>0</td>\n",
       "      <td>neutral</td>\n",
       "      <td>positive</td>\n",
       "      <td>neutral</td>\n",
       "      <td>NaN</td>\n",
       "      <td>0</td>\n",
       "      <td>NaN</td>\n",
       "    </tr>\n",
       "    <tr>\n",
       "      <th>996</th>\n",
       "      <td>996</td>\n",
       "      <td>527.0</td>\n",
       "      <td>@user HOW TO END COVID-19 Give 3 free N95 mask...</td>\n",
       "      <td>998</td>\n",
       "      <td>neutral</td>\n",
       "      <td>negative</td>\n",
       "      <td>neutral</td>\n",
       "      <td>NaN</td>\n",
       "      <td>NaN</td>\n",
       "      <td>NaN</td>\n",
       "      <td>...</td>\n",
       "      <td>NaN</td>\n",
       "      <td>NaN</td>\n",
       "      <td>NaN</td>\n",
       "      <td>0</td>\n",
       "      <td>neutral</td>\n",
       "      <td>positive</td>\n",
       "      <td>positive</td>\n",
       "      <td>NaN</td>\n",
       "      <td>0</td>\n",
       "      <td>NaN</td>\n",
       "    </tr>\n",
       "    <tr>\n",
       "      <th>997</th>\n",
       "      <td>997</td>\n",
       "      <td>892.0</td>\n",
       "      <td>Are you a bad person for not getting the vacci...</td>\n",
       "      <td>999</td>\n",
       "      <td>neutral</td>\n",
       "      <td>neutral</td>\n",
       "      <td>neutral</td>\n",
       "      <td>NaN</td>\n",
       "      <td>NaN</td>\n",
       "      <td>NaN</td>\n",
       "      <td>...</td>\n",
       "      <td>NaN</td>\n",
       "      <td>NaN</td>\n",
       "      <td>NaN</td>\n",
       "      <td>0</td>\n",
       "      <td>neutral</td>\n",
       "      <td>neutral</td>\n",
       "      <td>neutral</td>\n",
       "      <td>NaN</td>\n",
       "      <td>0</td>\n",
       "      <td>NaN</td>\n",
       "    </tr>\n",
       "    <tr>\n",
       "      <th>998</th>\n",
       "      <td>998</td>\n",
       "      <td>2773.0</td>\n",
       "      <td>NICE TO KNOW: The JAPANESE ENCEPHALITIS VACCIN...</td>\n",
       "      <td>1000</td>\n",
       "      <td>neutral</td>\n",
       "      <td>neutral</td>\n",
       "      <td>neutral</td>\n",
       "      <td>NaN</td>\n",
       "      <td>NaN</td>\n",
       "      <td>NaN</td>\n",
       "      <td>...</td>\n",
       "      <td>NaN</td>\n",
       "      <td>NaN</td>\n",
       "      <td>NaN</td>\n",
       "      <td>0</td>\n",
       "      <td>neutral</td>\n",
       "      <td>positive</td>\n",
       "      <td>neutral</td>\n",
       "      <td>NaN</td>\n",
       "      <td>0</td>\n",
       "      <td>NaN</td>\n",
       "    </tr>\n",
       "  </tbody>\n",
       "</table>\n",
       "<p>5 rows × 22 columns</p>\n",
       "</div>"
      ],
      "text/plain": [
       "     index  id_tweets                                               text  \\\n",
       "994    994      416.0  @user , with these numbers, are you still goin...   \n",
       "995    995     2072.0  How the new Ebola vaccine was made in Canada <...   \n",
       "996    996      527.0  @user HOW TO END COVID-19 Give 3 free N95 mask...   \n",
       "997    997      892.0  Are you a bad person for not getting the vacci...   \n",
       "998    998     2773.0  NICE TO KNOW: The JAPANESE ENCEPHALITIS VACCIN...   \n",
       "\n",
       "     id_doc   sent_m    sent_c    sent_g sent_l  neutral_sent  pos_sent  ...  \\\n",
       "994     996  neutral  negative  negative    NaN           NaN       NaN  ...   \n",
       "995     997  neutral   neutral   neutral    NaN           NaN       NaN  ...   \n",
       "996     998  neutral  negative   neutral    NaN           NaN       NaN  ...   \n",
       "997     999  neutral   neutral   neutral    NaN           NaN       NaN  ...   \n",
       "998    1000  neutral   neutral   neutral    NaN           NaN       NaN  ...   \n",
       "\n",
       "     neutral_stan  pos_stan  neg_stan  agree_stan  stance_m  stance_c  \\\n",
       "994           NaN       NaN       NaN           0   neutral  positive   \n",
       "995           NaN       NaN       NaN           0   neutral  positive   \n",
       "996           NaN       NaN       NaN           0   neutral  positive   \n",
       "997           NaN       NaN       NaN           0   neutral   neutral   \n",
       "998           NaN       NaN       NaN           0   neutral  positive   \n",
       "\n",
       "     stance_g stance_l agree_stance stance_mean  \n",
       "994   neutral      NaN            0         NaN  \n",
       "995   neutral      NaN            0         NaN  \n",
       "996  positive      NaN            0         NaN  \n",
       "997   neutral      NaN            0         NaN  \n",
       "998   neutral      NaN            0         NaN  \n",
       "\n",
       "[5 rows x 22 columns]"
      ]
     },
     "execution_count": 12,
     "metadata": {},
     "output_type": "execute_result"
    }
   ],
   "source": [
    "# Get annotated tweets\n",
    "epfl_df = pd.read_csv('../data/local/epfl_1000_clean_data.csv').reset_index()\n",
    "\n",
    "epfl_df.tail()"
   ]
  },
  {
   "cell_type": "code",
   "execution_count": 5,
   "id": "06528f08",
   "metadata": {
    "scrolled": true,
    "tags": []
   },
   "outputs": [
    {
     "data": {
      "text/html": [
       "<div>\n",
       "<style scoped>\n",
       "    .dataframe tbody tr th:only-of-type {\n",
       "        vertical-align: middle;\n",
       "    }\n",
       "\n",
       "    .dataframe tbody tr th {\n",
       "        vertical-align: top;\n",
       "    }\n",
       "\n",
       "    .dataframe thead th {\n",
       "        text-align: right;\n",
       "    }\n",
       "</style>\n",
       "<table border=\"1\" class=\"dataframe\">\n",
       "  <thead>\n",
       "    <tr style=\"text-align: right;\">\n",
       "      <th></th>\n",
       "      <th>index</th>\n",
       "      <th>text</th>\n",
       "      <th>neutral</th>\n",
       "      <th>negative</th>\n",
       "      <th>positive</th>\n",
       "      <th>total</th>\n",
       "      <th>agree_mturk</th>\n",
       "      <th>id_tweets</th>\n",
       "    </tr>\n",
       "  </thead>\n",
       "  <tbody>\n",
       "    <tr>\n",
       "      <th>0</th>\n",
       "      <td>0</td>\n",
       "      <td>True or False: You Can Be Denied Life Insuranc...</td>\n",
       "      <td>3</td>\n",
       "      <td>0</td>\n",
       "      <td>0</td>\n",
       "      <td>3</td>\n",
       "      <td>neutral</td>\n",
       "      <td>3959</td>\n",
       "    </tr>\n",
       "    <tr>\n",
       "      <th>1</th>\n",
       "      <td>1</td>\n",
       "      <td>Kentucky students lose appeal in chickenpox va...</td>\n",
       "      <td>6</td>\n",
       "      <td>0</td>\n",
       "      <td>0</td>\n",
       "      <td>6</td>\n",
       "      <td>neutral</td>\n",
       "      <td>2507</td>\n",
       "    </tr>\n",
       "    <tr>\n",
       "      <th>2</th>\n",
       "      <td>2</td>\n",
       "      <td>Post Vaccine Considerations for Residents &lt;url...</td>\n",
       "      <td>3</td>\n",
       "      <td>0</td>\n",
       "      <td>0</td>\n",
       "      <td>3</td>\n",
       "      <td>neutral</td>\n",
       "      <td>3135</td>\n",
       "    </tr>\n",
       "    <tr>\n",
       "      <th>3</th>\n",
       "      <td>3</td>\n",
       "      <td>The Vatican said that “it is morally acceptabl...</td>\n",
       "      <td>0</td>\n",
       "      <td>0</td>\n",
       "      <td>10</td>\n",
       "      <td>10</td>\n",
       "      <td>positive</td>\n",
       "      <td>3689</td>\n",
       "    </tr>\n",
       "  </tbody>\n",
       "</table>\n",
       "</div>"
      ],
      "text/plain": [
       "   index                                               text  neutral  \\\n",
       "0      0  True or False: You Can Be Denied Life Insuranc...        3   \n",
       "1      1  Kentucky students lose appeal in chickenpox va...        6   \n",
       "2      2  Post Vaccine Considerations for Residents <url...        3   \n",
       "3      3  The Vatican said that “it is morally acceptabl...        0   \n",
       "\n",
       "   negative  positive  total agree_mturk  id_tweets  \n",
       "0         0         0      3     neutral       3959  \n",
       "1         0         0      6     neutral       2507  \n",
       "2         0         0      3     neutral       3135  \n",
       "3         0        10     10    positive       3689  "
      ]
     },
     "execution_count": 5,
     "metadata": {},
     "output_type": "execute_result"
    }
   ],
   "source": [
    "# Get annotated tweets\n",
    "tweets_1000_prop_missing = pd.read_csv('../data/local/labelled_tweets_clean_all_mturk_agg_sample1000_proportional_missing.csv').reset_index()\n",
    "tweets_1000_prop_missing.head()"
   ]
  },
  {
   "cell_type": "markdown",
   "id": "92d7e0ea",
   "metadata": {},
   "source": [
    "# Using sample to test prompt"
   ]
  },
  {
   "cell_type": "code",
   "execution_count": 4,
   "id": "4a156e87",
   "metadata": {},
   "outputs": [],
   "source": [
    "# Prompt for GPT\n",
    "prompt_raw_1 = \"Give me the sentiment regarding vaccination expressed by the user of the tweet text delimited by triple backticks. \\\n",
    "Use one of the following words: neutral, negative, positive. Include an explanation for the selection of the sentiment. \\\n",
    "```{TWEET_TEXT_HERE}```\""
   ]
  },
  {
   "cell_type": "code",
   "execution_count": 65,
   "id": "f5ecf98f",
   "metadata": {},
   "outputs": [
    {
     "data": {
      "text/plain": [
       "'Give me the sentiment regarding vaccination expressed by the user in the tweet text delimited by triple backticks. Use one of the following words: neutral, negative, positive. Include an explanation for the selection of the sentiment. ```{TWEET_TEXT_HERE}```'"
      ]
     },
     "execution_count": 65,
     "metadata": {},
     "output_type": "execute_result"
    }
   ],
   "source": [
    "prompt_raw_1"
   ]
  },
  {
   "cell_type": "code",
   "execution_count": 66,
   "id": "884f2f49",
   "metadata": {},
   "outputs": [],
   "source": [
    "prompt_raw_0 = \"Give me the sentiment regarding vaccination in tweet text delimited by triple backticks. \\\n",
    "Use one of the following words: neutral, negative, positive. \\\n",
    "```{TWEET_TEXT_HERE}```\""
   ]
  },
  {
   "cell_type": "code",
   "execution_count": 95,
   "id": "50db1bd2",
   "metadata": {},
   "outputs": [
    {
     "data": {
      "text/plain": [
       "'Give me the sentiment regarding vaccination in tweet text delimited by triple backticks. Use one of the following words: neutral, negative, positive. ```{TWEET_TEXT_HERE}```'"
      ]
     },
     "execution_count": 95,
     "metadata": {},
     "output_type": "execute_result"
    }
   ],
   "source": [
    "prompt_raw_0 = prompt_raw\n",
    "prompt_raw_0"
   ]
  },
  {
   "cell_type": "code",
   "execution_count": 26,
   "id": "bc4e54ef",
   "metadata": {},
   "outputs": [],
   "source": [
    "# Prompt for GPT\n",
    "prompt_raw_1 = \"Give me the sentiment regarding vaccination expressed by the user in the tweet text delimited by triple backticks. \\\n",
    "Use one of the following words: neutral, negative, positive. Include an explanation for the selection of the sentiment. \\\n",
    "```{TWEET_TEXT_HERE}```\""
   ]
  },
  {
   "cell_type": "code",
   "execution_count": 6,
   "id": "327f7b21",
   "metadata": {},
   "outputs": [],
   "source": [
    "prompt_raw_3 = \"Give me the sentiment regarding vaccination expressed by the user in the tweet text delimited by triple backticks. \\\n",
    "Use one of the following words: neutral, negative, positive. Include an explanation for the selection of the sentiment. \\\n",
    "\\\n",
    "News, factual or objective tweets as well as generally ambiguous examples should be classified as neutral.\\\n",
    "\\\n",
    "Examples of positive tweets: \\\n",
    "* Some news of hope. Hopefully this vaccine becomes success and India becomes leader again. \\\n",
    "* This has been a horrendous year for so many people who have lost loved ones. It would be wonderful if the #vaccine was effective and could be administered world-wide to prevent further loss. My fingers and toes are crossed. \\\n",
    "\\\n",
    "Examples of neutral tweets: \\\n",
    "* AstraZeneca Pauses Vaccine Trial After Test Subject Gets Ill <url> \\\n",
    "* The federal government outlined a sweeping plan Wednesday to make vaccines for COVID-19 available for free to all Americans. <url> \\\n",
    "\\\n",
    "Examples of negative tweets: \\\n",
    "* There's a reason these vaccines can take up to 20 years to reach market. Say no to the vaccine. \\\n",
    "* Vaccines may not be good for kids like the Dengue Fever vaccine. You’re playing with fire. <url> \\\n",
    "\\\n",
    "```{TWEET_TEXT_HERE}```\""
   ]
  },
  {
   "cell_type": "code",
   "execution_count": 7,
   "id": "3cd29cf2",
   "metadata": {},
   "outputs": [],
   "source": [
    "prompt_raw_4 = \"Give me the sentiment regarding vaccination expressed by the user in the tweet text delimited by triple backticks. \\\n",
    "Use one of the following words: neutral, negative, positive. Include an explanation for the selection of the sentiment. \\\n",
    "\\\n",
    "News, factual or objective tweets as well as generally ambiguous examples should be classified as neutral except if:\\\n",
    "* User agrees with a positive statement on vaccines or vaccinations which should be classified as positive \\\n",
    "* User disagrees with a positive statement on vaccines or vaccinations which should be classified as negative \\\n",
    "* User is angry or not happy when vaccines are not available which should be classified as positive \\\n",
    "* User is angry or not happy with a negative statement on vaccines or vaccinations which should be classified as positive \\\n",
    "* User is happy with a negative statement on vaccines or vaccinations which should be classified as negative \\\n",
    "* User is enquiring for availability or increased availability of a vaccine which should be classified as positive \\\n",
    "\\\n",
    "Examples of positive tweets: \\\n",
    "* Some news of hope. Hopefully this vaccine becomes success and India becomes leader again. \\\n",
    "* This has been a horrendous year for so many people who have lost loved ones. It would be wonderful if the #vaccine was effective and could be administered world-wide to prevent further loss. My fingers and toes are crossed. \\\n",
    "* A healthy recovery of the world from COVID-19 is only possible when no one is left behind making it necessary that the vaccine is accessible to all without any hurdle. #HealthForAll #Equality #Equity #publichealth #awarness. \\\n",
    "\\\n",
    "Examples of neutral tweets: \\\n",
    "* AstraZeneca Pauses Vaccine Trial After Test Subject Gets Ill <url> \\\n",
    "* The federal government outlined a sweeping plan Wednesday to make vaccines for COVID-19 available for free to all Americans. <url> \\\n",
    "\\\n",
    "Examples of negative tweets: \\\n",
    "* There's a reason these vaccines can take up to 20 years to reach market. Say no to the vaccine. \\\n",
    "* Vaccines may not be good for kids like the Dengue Fever vaccine. You’re playing with fire. <url> \\\n",
    "\\\n",
    "```{TWEET_TEXT_HERE}```\""
   ]
  },
  {
   "cell_type": "code",
   "execution_count": 69,
   "id": "1f0d844b",
   "metadata": {},
   "outputs": [],
   "source": [
    "prompt_raw_5 = \"Give me the sentiment regarding vaccination expressed by the user in the tweet text delimited by triple backticks. \\\n",
    "Use one of the following words: neutral, negative, positive. Include an explanation for the selection of the sentiment. \\\n",
    "\\\n",
    "News, factual or objective tweets as well as generally ambiguous examples should be classified as neutral except if:\\\n",
    "* User agrees with a positive statement on vaccines or vaccinations which should be classified as positive \\\n",
    "* User disagrees with a positive statement on vaccines or vaccinations which should be classified as negative \\\n",
    "* User is angry or not happy when vaccines are not available which should be classified as positive \\\n",
    "* User is angry or not happy with a negative statement on vaccines or vaccinations which should be classified as positive \\\n",
    "* User is happy with a negative statement on vaccines or vaccinations which should be classified as negative \\\n",
    "* User is enquiring for availability or increased availability of a vaccine which should be classified as positive \\\n",
    "\\\n",
    "Classify as positive if:\\\n",
    "* The user expresses hope or anticipation towards a vaccine.\\\n",
    "* The user expresses desire for having more vaccine doses. \\\n",
    "* The user is ironic on people being negative towards vaccine (e.g., I am not getting a vaccine because they are microchipping you. Posted on social media , on a phone..that has all your info, your location...and the info is being shared and sold ...Ummmm ok) \\\n",
    "\\\n",
    "Examples of positive tweets: \\\n",
    "* Some news of hope. Hopefully this vaccine becomes success and India becomes leader again. \\\n",
    "* This has been a horrendous year for so many people who have lost loved ones. It would be wonderful if the #vaccine was effective and could be administered world-wide to prevent further loss. My fingers and toes are crossed. \\\n",
    "* A healthy recovery of the world from COVID-19 is only possible when no one is left behind making it necessary that the vaccine is accessible to all without any hurdle. #HealthForAll #Equality #Equity #publichealth #awarness. \\\n",
    "* IF I SEE ONE MORE FUCKING POLITICIAN GET THE VACCINE BEFORE FRONT LINE WORKERS I'M GONNA LOSE MY SHIT!! \\\n",
    "* When will we learn to respect our scientific community ? Pathetic that ppl want to play politics on the vaccine \\\n",
    "* @user @user @user etc if U have so much problem so plz don't get them vaccinated, we know, U have enough money for treatment. U guys fall mild sick, immediately rush to medanta hospital.\\\n",
    "* $MRNA recieved approval across the pond in the U.K. demand increasing globally for a vaccine as cases rise. #stocks #finance #markets #investing #money #wealth #economy #OptionsTrading \\\n",
    "* On the other hand, they're more likely to receive much more effective and safe vaccines, so it's not quite as bad as you might think \\\n",
    "\\\n",
    "Examples of neutral tweets: \\\n",
    "* AstraZeneca Pauses Vaccine Trial After Test Subject Gets Ill <url> \\\n",
    "* The federal government outlined a sweeping plan Wednesday to make vaccines for COVID-19 available for free to all Americans. <url> \\\n",
    "\\\n",
    "Examples of negative tweets: \\\n",
    "* There's a reason these vaccines can take up to 20 years to reach market. Say no to the vaccine. \\\n",
    "* Vaccines may not be good for kids like the Dengue Fever vaccine. You’re playing with fire. <url> \\\n",
    "\\\n",
    "```{TWEET_TEXT_HERE}```\""
   ]
  },
  {
   "cell_type": "code",
   "execution_count": 70,
   "id": "d6dc0272",
   "metadata": {},
   "outputs": [],
   "source": [
    "prompt_raw_50 = \"Give me the sentiment regarding vaccination expressed by the user in the tweet text delimited by triple backticks. \\\n",
    "Select a value between -2 (very negative), -1 (negative), 0 (neutral), +1 (positive) and +2 (very positive). Include an explanation for the selection of the sentiment. \\\n",
    "\\\n",
    "News, factual or objective tweets as well as generally ambiguous examples should be classified as 0 except if:\\\n",
    "* User agrees with a positive statement on vaccines or vaccinations which should be classified as positive \\\n",
    "* User disagrees with a positive statement on vaccines or vaccinations which should be classified as negative \\\n",
    "* User is angry or not happy when vaccines are not available which should be classified as positive \\\n",
    "* User is angry or not happy with a negative statement on vaccines or vaccinations which should be classified as positive \\\n",
    "* User is happy with a negative statement on vaccines or vaccinations which should be classified as negative \\\n",
    "* User is enquiring for availability or increased availability of a vaccine which should be classified as positive \\\n",
    "\\\n",
    "Classify as negative or very negative if:\\\n",
    "* The user expresses hope or anticipation towards a vaccine.\\\n",
    "* The user expresses desire for having more vaccine doses. \\\n",
    "* The user is ironic on people being negative towards vaccine (e.g., I am not getting a vaccine because they are microchipping you. Posted on social media , on a phone..that has all your info, your location...and the info is being shared and sold ...Ummmm ok) \\\n",
    "\\\n",
    "Examples of positive or very positive tweets: \\\n",
    "* Some news of hope. Hopefully this vaccine becomes success and India becomes leader again. \\\n",
    "* This has been a horrendous year for so many people who have lost loved ones. It would be wonderful if the #vaccine was effective and could be administered world-wide to prevent further loss. My fingers and toes are crossed. \\\n",
    "* A healthy recovery of the world from COVID-19 is only possible when no one is left behind making it necessary that the vaccine is accessible to all without any hurdle. #HealthForAll #Equality #Equity #publichealth #awarness. \\\n",
    "* IF I SEE ONE MORE FUCKING POLITICIAN GET THE VACCINE BEFORE FRONT LINE WORKERS I'M GONNA LOSE MY SHIT!! \\\n",
    "* When will we learn to respect our scientific community ? Pathetic that ppl want to play politics on the vaccine \\\n",
    "* @user @user @user etc if U have so much problem so plz don't get them vaccinated, we know, U have enough money for treatment. U guys fall mild sick, immediately rush to medanta hospital.\\\n",
    "* $MRNA recieved approval across the pond in the U.K. demand increasing globally for a vaccine as cases rise. #stocks #finance #markets #investing #money #wealth #economy #OptionsTrading \\\n",
    "* On the other hand, they're more likely to receive much more effective and safe vaccines, so it's not quite as bad as you might think \\\n",
    "\\\n",
    "Examples of neutral tweets: \\\n",
    "* AstraZeneca Pauses Vaccine Trial After Test Subject Gets Ill <url> \\\n",
    "* The federal government outlined a sweeping plan Wednesday to make vaccines for COVID-19 available for free to all Americans. <url> \\\n",
    "\\\n",
    "Examples of negative or very negative tweets: \\\n",
    "* There's a reason these vaccines can take up to 20 years to reach market. Say no to the vaccine. \\\n",
    "* Vaccines may not be good for kids like the Dengue Fever vaccine. You’re playing with fire. <url> \\\n",
    "\\\n",
    "```{TWEET_TEXT_HERE}```\""
   ]
  },
  {
   "cell_type": "code",
   "execution_count": 8,
   "id": "43425117",
   "metadata": {},
   "outputs": [],
   "source": [
    "prompt_raw_6 = \"Give me the sentiment regarding vaccination expressed by the user in the tweet text delimited by triple backticks. \\\n",
    "Use one of the following words: neutral, negative, positive. Include an explanation for the selection of the sentiment. \\\n",
    "\\\n",
    "News, factual or objective tweets as well as generally ambiguous examples should be classified as neutral except if:\\\n",
    "* User agrees with a positive statement on vaccines or vaccinations which should be classified as positive \\\n",
    "* User disagrees with a positive statement on vaccines or vaccinations which should be classified as negative \\\n",
    "* User is angry or not happy when vaccines are not available which should be classified as positive \\\n",
    "* User is angry or not happy with a negative statement on vaccines or vaccinations which should be classified as positive \\\n",
    "* User is happy with a negative statement on vaccines or vaccinations which should be classified as negative \\\n",
    "* User is enquiring for availability or increased availability of a vaccine which should be classified as positive \\\n",
    "\\\n",
    "Classify as positive if:\\\n",
    "* The user expresses hope or anticipation towards a vaccine.\\\n",
    "* The user expresses desire for having more vaccine doses. \\\n",
    "\\\n",
    "Examples of positive tweets: \\\n",
    "* Some news of hope. Hopefully this vaccine becomes success and India becomes leader again. \\\n",
    "* This has been a horrendous year for so many people who have lost loved ones. It would be wonderful if the #vaccine was effective and could be administered world-wide to prevent further loss. My fingers and toes are crossed. \\\n",
    "* A healthy recovery of the world from COVID-19 is only possible when no one is left behind making it necessary that the vaccine is accessible to all without any hurdle. #HealthForAll #Equality #Equity #publichealth #awarness. \\\n",
    "* IF I SEE ONE MORE FUCKING POLITICIAN GET THE VACCINE BEFORE FRONT LINE WORKERS I'M GONNA LOSE MY SHIT!! \\\n",
    "* When will we learn to respect our scientific community ? Pathetic that ppl want to play politics on the vaccine \\\n",
    "* @user @user @user etc if U have so much problem so plz don't get them vaccinated, we know, U have enough money for treatment. U guys fall mild sick, immediately rush to medanta hospital.\\\n",
    "* $MRNA recieved approval across the pond in the U.K. demand increasing globally for a vaccine as cases rise. #stocks #finance #markets #investing #money #wealth #economy #OptionsTrading \\\n",
    "* On the other hand, they're more likely to receive much more effective and safe vaccines, so it's not quite as bad as you might think \\\n",
    "\\\n",
    "Examples of neutral tweets: \\\n",
    "* AstraZeneca Pauses Vaccine Trial After Test Subject Gets Ill <url> \\\n",
    "* The federal government outlined a sweeping plan Wednesday to make vaccines for COVID-19 available for free to all Americans. <url> \\\n",
    "\\\n",
    "Examples of negative tweets: \\\n",
    "* There's a reason these vaccines can take up to 20 years to reach market. Say no to the vaccine. \\\n",
    "* Vaccines may not be good for kids like the Dengue Fever vaccine. You’re playing with fire. <url> \\\n",
    "\\\n",
    "```{TWEET_TEXT_HERE}```\""
   ]
  },
  {
   "cell_type": "code",
   "execution_count": 9,
   "id": "a6fb2649",
   "metadata": {},
   "outputs": [],
   "source": [
    "prompt_raw_7 = \"Give me the sentiment regarding vaccination expressed by the user in the tweet text delimited by triple backticks. \\\n",
    "Use one of the following words: neutral, negative, positive. Include an explanation for the selection of the sentiment. \\\n",
    "\\\n",
    "News, factual or objective tweets as well as generally ambiguous examples should be classified as neutral except if:\\\n",
    "* User agrees with a positive statement on vaccines or vaccinations which should be classified as positive \\\n",
    "* User disagrees with a positive statement on vaccines or vaccinations which should be classified as negative \\\n",
    "* User is angry or not happy when vaccines are not available which should be classified as positive \\\n",
    "* User is angry or not happy with a negative statement on vaccines or vaccinations which should be classified as positive \\\n",
    "* User is happy with a negative statement on vaccines or vaccinations which should be classified as negative \\\n",
    "* User is enquiring for availability or increased availability of a vaccine which should be classified as positive \\\n",
    "\\\n",
    "Classify as positive if:\\\n",
    "* The user expresses hope or anticipation towards a vaccine.\\\n",
    "* The user expresses desire for having more vaccine doses. \\\n",
    "\\\n",
    "Examples of positive tweets: \\\n",
    "* Some news of hope. Hopefully this vaccine becomes success and India becomes leader again. \\\n",
    "* This has been a horrendous year for so many people who have lost loved ones. It would be wonderful if the #vaccine was effective and could be administered world-wide to prevent further loss. My fingers and toes are crossed. \\\n",
    "* A healthy recovery of the world from COVID-19 is only possible when no one is left behind making it necessary that the vaccine is accessible to all without any hurdle. #HealthForAll #Equality #Equity #publichealth #awarness. \\\n",
    "* IF I SEE ONE MORE FUCKING POLITICIAN GET THE VACCINE BEFORE FRONT LINE WORKERS I'M GONNA LOSE MY SHIT!! \\\n",
    "* When will we learn to respect our scientific community ? Pathetic that ppl want to play politics on the vaccine \\\n",
    "* @user @user @user etc if U have so much problem so plz don't get them vaccinated, we know, U have enough money for treatment. U guys fall mild sick, immediately rush to medanta hospital.\\\n",
    "* $MRNA recieved approval across the pond in the U.K. demand increasing globally for a vaccine as cases rise. #stocks #finance #markets #investing #money #wealth #economy #OptionsTrading \\\n",
    "* On the other hand, they're more likely to receive much more effective and safe vaccines, so it's not quite as bad as you might think \\\n",
    "* Why are not more COVID-19 vaccine doses available immediately? <url> \\\n",
    "* America have fewer COVID-19 vaccines due to #MassMurderer #realDonaldTrumpâ€™s FAILED financial interests <url> \\\n",
    "\\\n",
    "Examples of neutral tweets: \\\n",
    "* AstraZeneca Pauses Vaccine Trial After Test Subject Gets Ill <url> \\\n",
    "* The federal government outlined a sweeping plan Wednesday to make vaccines for COVID-19 available for free to all Americans. <url> \\\n",
    "\\\n",
    "Examples of negative tweets: \\\n",
    "* There's a reason these vaccines can take up to 20 years to reach market. Say no to the vaccine. \\\n",
    "* Vaccines may not be good for kids like the Dengue Fever vaccine. You’re playing with fire. <url> \\\n",
    "* Dr: Are you experiencing any side effects from the vaccine? Me: * sleeps while standing there* huh? \\\n",
    "* There is a virus which has killed so many people for years. This virus is called hunger and the vaccine for hunger is food. However no one talks about it, why? Because this virus doesn't kill rich people.\\\n",
    "* @user : There are over 100 different coronavirus vaccine candidates in the works. These candidates take a variety of approaches to protecting the body against COVID-19: <url> #CoronaVirusUpdates #CoronavirusVaccine #StayHome <url> \\\n",
    "* <It would go away without the vaccine> #HerdMentality this man knows nothing about viruses. \\\n",
    "* Anti-vaxxer Novak Djokovic. #COVID19 #tennis The current world number one is the fourth player to test positive from the event that did not even pay lip service to social distancing. <url> via @user \\\n",
    "\\\n",
    "```{TWEET_TEXT_HERE}```\""
   ]
  },
  {
   "cell_type": "code",
   "execution_count": 10,
   "id": "ef5e7ea0",
   "metadata": {},
   "outputs": [],
   "source": [
    "prompt_raw_8 = \"Give me the stance of the user towards vaccination in the tweet text delimited by triple backticks, regardless of the general sentiment expressed in the tweet. A tweet with a negative general sentiment can express a positive stance of the user towards vaccination and viceversa. \\\n",
    "Use one of the following words: neutral, negative, positive. Include an explanation for the selection of the stance. \\\n",
    "The reply must contain the selected word for the stance followed by '.' and followed by the explanation for the selected stance. \\\n",
    "\\\n",
    "News, factual or objective tweets as well as generally ambiguous examples should be classified as neutral except if:\\\n",
    "* User agrees with a positive statement on vaccines or vaccinations which should be classified as positive \\\n",
    "* User disagrees with a positive statement on vaccines or vaccinations which should be classified as negative \\\n",
    "* User is angry or not happy when vaccines are not available which should be classified as positive \\\n",
    "* User is angry or not happy with a negative statement on vaccines or vaccinations which should be classified as positive \\\n",
    "* User is happy with a negative statement on vaccines or vaccinations which should be classified as negative \\\n",
    "* User is enquiring for availability or increased availability of a vaccine which should be classified as positive \\\n",
    "\\\n",
    "Classify as positive if:\\\n",
    "* The user expresses hope or anticipation towards a vaccine.\\\n",
    "* The user expresses desire for having more vaccine doses. \\\n",
    "* The user is ironic on people being negative towards vaccine (e.g., I am not getting a vaccine because they are microchipping you. Posted on social media , on a phone..that has all your info, your location...and the info is being shared and sold ...Ummmm ok) \\\n",
    "\\\n",
    "Examples of positive tweets: \\\n",
    "* Some news of hope. Hopefully this vaccine becomes success and India becomes leader again. \\\n",
    "* This has been a horrendous year for so many people who have lost loved ones. It would be wonderful if the #vaccine was effective and could be administered world-wide to prevent further loss. My fingers and toes are crossed. \\\n",
    "* A healthy recovery of the world from COVID-19 is only possible when no one is left behind making it necessary that the vaccine is accessible to all without any hurdle. #HealthForAll #Equality #Equity #publichealth #awarness. \\\n",
    "* IF I SEE ONE MORE FUCKING POLITICIAN GET THE VACCINE BEFORE FRONT LINE WORKERS I'M GONNA LOSE MY SHIT!! \\\n",
    "* When will we learn to respect our scientific community ? Pathetic that ppl want to play politics on the vaccine \\\n",
    "* @user @user @user etc if U have so much problem so plz don't get them vaccinated, we know, U have enough money for treatment. U guys fall mild sick, immediately rush to medanta hospital.\\\n",
    "* $MRNA recieved approval across the pond in the U.K. demand increasing globally for a vaccine as cases rise. #stocks #finance #markets #investing #money #wealth #economy #OptionsTrading \\\n",
    "* On the other hand, they're more likely to receive much more effective and safe vaccines, so it's not quite as bad as you might think \\\n",
    "\\\n",
    "Examples of neutral tweets: \\\n",
    "* AstraZeneca Pauses Vaccine Trial After Test Subject Gets Ill <url> \\\n",
    "* The federal government outlined a sweeping plan Wednesday to make vaccines for COVID-19 available for free to all Americans. <url> \\\n",
    "\\\n",
    "Examples of negative tweets: \\\n",
    "* There's a reason these vaccines can take up to 20 years to reach market. Say no to the vaccine. \\\n",
    "* Vaccines may not be good for kids like the Dengue Fever vaccine. You’re playing with fire. <url> \\\n",
    "\\\n",
    "```{TWEET_TEXT_HERE}```\""
   ]
  },
  {
   "cell_type": "code",
   "execution_count": 5,
   "id": "a4c64c70",
   "metadata": {},
   "outputs": [],
   "source": [
    "#prompt_i = prompt_raw.replace('TWEET_TEXT_HERE', tweets.iloc[0,1])"
   ]
  },
  {
   "cell_type": "code",
   "execution_count": 13,
   "id": "a315bbd9",
   "metadata": {},
   "outputs": [
    {
     "data": {
      "text/plain": [
       "999"
      ]
     },
     "execution_count": 13,
     "metadata": {},
     "output_type": "execute_result"
    }
   ],
   "source": [
    "len(epfl_df.index)"
   ]
  },
  {
   "cell_type": "code",
   "execution_count": 14,
   "id": "c15b8328",
   "metadata": {},
   "outputs": [
    {
     "data": {
      "text/plain": [
       "'Brexit Is Vaccine Against Anti-EU Propaganda: Donald Tusk <url>'"
      ]
     },
     "execution_count": 14,
     "metadata": {},
     "output_type": "execute_result"
    }
   ],
   "source": [
    "epfl_df.iloc[0,2]"
   ]
  },
  {
   "cell_type": "code",
   "execution_count": 87,
   "id": "fe47a29f",
   "metadata": {},
   "outputs": [],
   "source": [
    "id_gpt = []\n",
    "sent_gpt = []\n",
    "text = []"
   ]
  },
  {
   "cell_type": "code",
   "execution_count": 100,
   "id": "8f62bf0b",
   "metadata": {},
   "outputs": [],
   "source": [
    "for i in range(833, 999):\n",
    "    prompt_i = prompt_raw_7.replace('TWEET_TEXT_HERE', epfl_df.iloc[i,2])\n",
    "    response = openai.ChatCompletion.create(\n",
    "      #model=\"text-davinci-003\",\n",
    "      model = \"gpt-4\",\n",
    "      messages=[{\"role\": \"user\", \"content\": prompt_i}],\n",
    "      temperature=0.8,\n",
    "      #max_tokens=256,\n",
    "      top_p=1,\n",
    "      frequency_penalty=0,\n",
    "      presence_penalty=0\n",
    "    )\n",
    "    text.append(epfl_df.iloc[i,2])\n",
    "    sent_gpt.append(response.choices[0].message.content)"
   ]
  },
  {
   "cell_type": "code",
   "execution_count": 195,
   "id": "52c9278a",
   "metadata": {
    "scrolled": true
   },
   "outputs": [],
   "source": [
    "for i in range(0, 999):\n",
    "    prompt_i = prompt_raw_5.replace('TWEET_TEXT_HERE', epfl_df.iloc[i,2])\n",
    "    response = openai.Completion.create(\n",
    "      model=\"text-davinci-003\",\n",
    "      prompt=prompt_i,\n",
    "      temperature=0.8,\n",
    "      max_tokens=256,\n",
    "      top_p=1,\n",
    "      frequency_penalty=0,\n",
    "      presence_penalty=0\n",
    "    )\n",
    "    text.append(epfl_df.iloc[i,2])\n",
    "    sent_gpt.append(response.choices[0].text)"
   ]
  },
  {
   "cell_type": "code",
   "execution_count": 101,
   "id": "b80e1e4e",
   "metadata": {
    "tags": []
   },
   "outputs": [
    {
     "name": "stdout",
     "output_type": "stream",
     "text": [
      "<class 'pandas.core.frame.DataFrame'>\n",
      "RangeIndex: 999 entries, 0 to 998\n",
      "Data columns (total 2 columns):\n",
      " #   Column         Non-Null Count  Dtype \n",
      "---  ------         --------------  ----- \n",
      " 0   text           999 non-null    object\n",
      " 1   sentiment_gpt  999 non-null    object\n",
      "dtypes: object(2)\n",
      "memory usage: 15.7+ KB\n"
     ]
    }
   ],
   "source": [
    "df_gpt_total = pd.DataFrame(list(zip(text, sent_gpt)),\n",
    "                            columns = ['text', 'sentiment_gpt'])\n",
    "df_gpt_total.info()"
   ]
  },
  {
   "cell_type": "code",
   "execution_count": 102,
   "id": "8f5c1cea",
   "metadata": {},
   "outputs": [],
   "source": [
    "df_gpt_total['prompt'] = 47"
   ]
  },
  {
   "cell_type": "code",
   "execution_count": 103,
   "id": "de211f05",
   "metadata": {},
   "outputs": [
    {
     "data": {
      "text/html": [
       "<div>\n",
       "<style scoped>\n",
       "    .dataframe tbody tr th:only-of-type {\n",
       "        vertical-align: middle;\n",
       "    }\n",
       "\n",
       "    .dataframe tbody tr th {\n",
       "        vertical-align: top;\n",
       "    }\n",
       "\n",
       "    .dataframe thead th {\n",
       "        text-align: right;\n",
       "    }\n",
       "</style>\n",
       "<table border=\"1\" class=\"dataframe\">\n",
       "  <thead>\n",
       "    <tr style=\"text-align: right;\">\n",
       "      <th></th>\n",
       "      <th>text</th>\n",
       "      <th>sentiment_gpt</th>\n",
       "      <th>prompt</th>\n",
       "    </tr>\n",
       "  </thead>\n",
       "  <tbody>\n",
       "    <tr>\n",
       "      <th>994</th>\n",
       "      <td>@user , with these numbers, are you still goin...</td>\n",
       "      <td>Positive. The user is expressing a desire for ...</td>\n",
       "      <td>47</td>\n",
       "    </tr>\n",
       "    <tr>\n",
       "      <th>995</th>\n",
       "      <td>How the new Ebola vaccine was made in Canada &lt;...</td>\n",
       "      <td>Neutral. The tweet is simply sharing informati...</td>\n",
       "      <td>47</td>\n",
       "    </tr>\n",
       "    <tr>\n",
       "      <th>996</th>\n",
       "      <td>@user HOW TO END COVID-19 Give 3 free N95 mask...</td>\n",
       "      <td>Positive. The user is suggesting a comprehensi...</td>\n",
       "      <td>47</td>\n",
       "    </tr>\n",
       "    <tr>\n",
       "      <th>997</th>\n",
       "      <td>Are you a bad person for not getting the vacci...</td>\n",
       "      <td>The sentiment in this tweet is neutral. The us...</td>\n",
       "      <td>47</td>\n",
       "    </tr>\n",
       "    <tr>\n",
       "      <th>998</th>\n",
       "      <td>NICE TO KNOW: The JAPANESE ENCEPHALITIS VACCIN...</td>\n",
       "      <td>Neutral. The tweet is presenting a piece of fa...</td>\n",
       "      <td>47</td>\n",
       "    </tr>\n",
       "  </tbody>\n",
       "</table>\n",
       "</div>"
      ],
      "text/plain": [
       "                                                  text  \\\n",
       "994  @user , with these numbers, are you still goin...   \n",
       "995  How the new Ebola vaccine was made in Canada <...   \n",
       "996  @user HOW TO END COVID-19 Give 3 free N95 mask...   \n",
       "997  Are you a bad person for not getting the vacci...   \n",
       "998  NICE TO KNOW: The JAPANESE ENCEPHALITIS VACCIN...   \n",
       "\n",
       "                                         sentiment_gpt  prompt  \n",
       "994  Positive. The user is expressing a desire for ...      47  \n",
       "995  Neutral. The tweet is simply sharing informati...      47  \n",
       "996  Positive. The user is suggesting a comprehensi...      47  \n",
       "997  The sentiment in this tweet is neutral. The us...      47  \n",
       "998  Neutral. The tweet is presenting a piece of fa...      47  "
      ]
     },
     "execution_count": 103,
     "metadata": {},
     "output_type": "execute_result"
    }
   ],
   "source": [
    "df_gpt_total.tail()"
   ]
  },
  {
   "cell_type": "code",
   "execution_count": 104,
   "id": "9a901463",
   "metadata": {},
   "outputs": [
    {
     "data": {
      "text/plain": [
       "999"
      ]
     },
     "execution_count": 104,
     "metadata": {},
     "output_type": "execute_result"
    }
   ],
   "source": [
    "len(df_gpt_total)"
   ]
  },
  {
   "cell_type": "code",
   "execution_count": 105,
   "id": "3c7ce791",
   "metadata": {},
   "outputs": [],
   "source": [
    "df_gpt_total_all = df_gpt_total"
   ]
  },
  {
   "cell_type": "code",
   "execution_count": 23,
   "id": "f921c6f6",
   "metadata": {},
   "outputs": [
    {
     "name": "stderr",
     "output_type": "stream",
     "text": [
      "C:\\Users\\lespinosa\\AppData\\Local\\Temp\\ipykernel_26232\\964839105.py:1: FutureWarning: The frame.append method is deprecated and will be removed from pandas in a future version. Use pandas.concat instead.\n",
      "  df_gpt_total_all = df_gpt_total_all.append(df_gpt_total)\n"
     ]
    }
   ],
   "source": [
    "df_gpt_total_all = df_gpt_total_all.append(df_gpt_total)"
   ]
  },
  {
   "cell_type": "code",
   "execution_count": 106,
   "id": "5bd6677b",
   "metadata": {},
   "outputs": [
    {
     "data": {
      "text/plain": [
       "999"
      ]
     },
     "execution_count": 106,
     "metadata": {},
     "output_type": "execute_result"
    }
   ],
   "source": [
    "len(df_gpt_total_all)"
   ]
  },
  {
   "cell_type": "code",
   "execution_count": 107,
   "id": "1eb834c3",
   "metadata": {},
   "outputs": [
    {
     "data": {
      "text/html": [
       "<div>\n",
       "<style scoped>\n",
       "    .dataframe tbody tr th:only-of-type {\n",
       "        vertical-align: middle;\n",
       "    }\n",
       "\n",
       "    .dataframe tbody tr th {\n",
       "        vertical-align: top;\n",
       "    }\n",
       "\n",
       "    .dataframe thead th {\n",
       "        text-align: right;\n",
       "    }\n",
       "</style>\n",
       "<table border=\"1\" class=\"dataframe\">\n",
       "  <thead>\n",
       "    <tr style=\"text-align: right;\">\n",
       "      <th></th>\n",
       "      <th>text</th>\n",
       "      <th>sentiment_gpt</th>\n",
       "      <th>prompt</th>\n",
       "    </tr>\n",
       "  </thead>\n",
       "  <tbody>\n",
       "    <tr>\n",
       "      <th>0</th>\n",
       "      <td>Brexit Is Vaccine Against Anti-EU Propaganda: ...</td>\n",
       "      <td>Neutral. This tweet is merely sharing a news h...</td>\n",
       "      <td>47</td>\n",
       "    </tr>\n",
       "    <tr>\n",
       "      <th>1</th>\n",
       "      <td>Instead of a vaccine, consider naming all upco...</td>\n",
       "      <td>Neutral. The user is making a metaphorical com...</td>\n",
       "      <td>47</td>\n",
       "    </tr>\n",
       "    <tr>\n",
       "      <th>2</th>\n",
       "      <td>Wife of 'healthy' doc who died after Covid jab...</td>\n",
       "      <td>Neutral. The tweet is simply stating a fact ab...</td>\n",
       "      <td>47</td>\n",
       "    </tr>\n",
       "    <tr>\n",
       "      <th>3</th>\n",
       "      <td>This video of the New York anti-vaccine rally ...</td>\n",
       "      <td>Negative. The user is expressing a negative se...</td>\n",
       "      <td>47</td>\n",
       "    </tr>\n",
       "    <tr>\n",
       "      <th>4</th>\n",
       "      <td>Breakdown of who will get Pfizer Covid vaccine...</td>\n",
       "      <td>Neutral. The tweet is sharing factual news abo...</td>\n",
       "      <td>47</td>\n",
       "    </tr>\n",
       "  </tbody>\n",
       "</table>\n",
       "</div>"
      ],
      "text/plain": [
       "                                                text  \\\n",
       "0  Brexit Is Vaccine Against Anti-EU Propaganda: ...   \n",
       "1  Instead of a vaccine, consider naming all upco...   \n",
       "2  Wife of 'healthy' doc who died after Covid jab...   \n",
       "3  This video of the New York anti-vaccine rally ...   \n",
       "4  Breakdown of who will get Pfizer Covid vaccine...   \n",
       "\n",
       "                                       sentiment_gpt  prompt  \n",
       "0  Neutral. This tweet is merely sharing a news h...      47  \n",
       "1  Neutral. The user is making a metaphorical com...      47  \n",
       "2  Neutral. The tweet is simply stating a fact ab...      47  \n",
       "3  Negative. The user is expressing a negative se...      47  \n",
       "4  Neutral. The tweet is sharing factual news abo...      47  "
      ]
     },
     "execution_count": 107,
     "metadata": {},
     "output_type": "execute_result"
    }
   ],
   "source": [
    "df_gpt_total_all.head()"
   ]
  },
  {
   "cell_type": "code",
   "execution_count": 108,
   "id": "420096e4",
   "metadata": {},
   "outputs": [],
   "source": [
    "df_gpt_total_all.to_csv('../data/local/gpt_sentiment_mturk_prompt47_new.csv')"
   ]
  },
  {
   "cell_type": "markdown",
   "id": "91665254",
   "metadata": {},
   "source": [
    "# Using three categories for vaccine sentiment"
   ]
  },
  {
   "cell_type": "code",
   "execution_count": 10,
   "id": "d9865707-b6c8-4dcc-bf88-1736bb13310a",
   "metadata": {},
   "outputs": [],
   "source": [
    "# Prompt for GPT\n",
    "prompt_raw = \"Give me the sentiment regarding vaccination expressed by the user in the tweet text delimited by triple backticks. \\\n",
    "Use one of the following words: neutral, negative, positive. \\\n",
    "```{TWEET_TEXT_HERE}```\""
   ]
  },
  {
   "cell_type": "code",
   "execution_count": 5,
   "id": "8ce27066-8efb-4903-81ea-0d3d4b5c1e86",
   "metadata": {},
   "outputs": [],
   "source": [
    "#prompt_i = prompt_raw.replace('TWEET_TEXT_HERE', tweets.iloc[0,1])"
   ]
  },
  {
   "cell_type": "code",
   "execution_count": 11,
   "id": "c026094b-57da-48e7-a465-5810644f8fe7",
   "metadata": {},
   "outputs": [
    {
     "data": {
      "text/plain": [
       "4786"
      ]
     },
     "execution_count": 11,
     "metadata": {},
     "output_type": "execute_result"
    }
   ],
   "source": [
    "len(tweets.index)"
   ]
  },
  {
   "cell_type": "code",
   "execution_count": 12,
   "id": "c23b36d9-0f9a-42fe-a366-8df1434a585b",
   "metadata": {},
   "outputs": [
    {
     "data": {
      "text/plain": [
       "<bound method DataFrame.info of      index                                               text  neutral  \\\n",
       "0        0  \"#Shingrix Vaccine Against Shingles Remains In...        3   \n",
       "1        1  \"...French scientist Louis Pasteur coined the ...        3   \n",
       "2        2  \"...due to potentially unexplained illnesses.\"...        2   \n",
       "3        3  \"...on average, it takes 10.7 years to develop...        3   \n",
       "4        4  \"..only 29 percent of the teens its members in...        3   \n",
       "..     ...                                                ...      ...   \n",
       "96      96  #COVID19 vaccine could be delivered in mailabl...        4   \n",
       "97      97  #COVID19Vaccine in 1 month? CSIR pins hope on ...        4   \n",
       "98      98  #COVID19dz Ignorance at the utmost level as co...        1   \n",
       "99      99  #CRO Vaccine Market in Austria to 2021 Market ...        3   \n",
       "100    100  #California has just implemented one of the #s...        3   \n",
       "\n",
       "     negative  positive  total  \n",
       "0           0         0      3  \n",
       "1           0         0      3  \n",
       "2           1         7     10  \n",
       "3           0         0      3  \n",
       "4           0         0      3  \n",
       "..        ...       ...    ...  \n",
       "96          1         5     10  \n",
       "97          0         7     11  \n",
       "98          1         9     11  \n",
       "99          0         0      3  \n",
       "100         0         0      3  \n",
       "\n",
       "[101 rows x 6 columns]>"
      ]
     },
     "execution_count": 12,
     "metadata": {},
     "output_type": "execute_result"
    }
   ],
   "source": [
    "test = tweets.iloc[:101, :]\n",
    "test.info"
   ]
  },
  {
   "cell_type": "code",
   "execution_count": 7,
   "id": "986b9ea8-c64d-4e27-ba53-1f57c3b53d21",
   "metadata": {},
   "outputs": [],
   "source": [
    "tweets1 = tweets.iloc[0:306,:]\n",
    "tweets2 = tweets.iloc[306:601,:]\n",
    "tweets3 = tweets.iloc[601:901, :]\n",
    "tweets4 = tweets.iloc[901:1201, :]\n"
   ]
  },
  {
   "cell_type": "code",
   "execution_count": 14,
   "id": "c487242a-2b6e-4b45-90a4-150efed6e32f",
   "metadata": {},
   "outputs": [
    {
     "data": {
      "text/plain": [
       "'\"...French scientist Louis Pasteur coined the term “vaccination” in honour of Jenner’s work (vacca being the Latin for cow)\" - TIL! 🐮💉 <url>'"
      ]
     },
     "execution_count": 14,
     "metadata": {},
     "output_type": "execute_result"
    }
   ],
   "source": [
    "test.iloc[1,1]"
   ]
  },
  {
   "cell_type": "code",
   "execution_count": 68,
   "id": "ecfc3a3b-514a-43f9-9a1a-3506358cc2cc",
   "metadata": {},
   "outputs": [],
   "source": [
    "id_gpt = []\n",
    "sent_gpt = []"
   ]
  },
  {
   "cell_type": "code",
   "execution_count": 69,
   "id": "80ade1ff-1238-4ab3-a151-3a2df1163a1b",
   "metadata": {},
   "outputs": [],
   "source": [
    "for i in range(0,4785):\n",
    "    prompt_i = prompt_raw.replace('TWEET_TEXT_HERE', tweets.iloc[i,1])\n",
    "    response = openai.Completion.create(\n",
    "      model=\"text-davinci-003\",\n",
    "      prompt=prompt_i,\n",
    "      temperature=0.8,\n",
    "      max_tokens=256,\n",
    "      top_p=1,\n",
    "      frequency_penalty=0,\n",
    "      presence_penalty=0\n",
    "    )\n",
    "    id_gpt.append(tweets.iloc[i,0])\n",
    "    sent_gpt.append(response.choices[0].text)"
   ]
  },
  {
   "cell_type": "code",
   "execution_count": 38,
   "id": "2c9a278c",
   "metadata": {},
   "outputs": [],
   "source": [
    "run = np.array([1])"
   ]
  },
  {
   "cell_type": "code",
   "execution_count": 70,
   "id": "a251c314-a165-4a19-8bc0-06f04c2d7feb",
   "metadata": {
    "tags": []
   },
   "outputs": [
    {
     "name": "stdout",
     "output_type": "stream",
     "text": [
      "<class 'pandas.core.frame.DataFrame'>\n",
      "RangeIndex: 4785 entries, 0 to 4784\n",
      "Data columns (total 2 columns):\n",
      " #   Column         Non-Null Count  Dtype \n",
      "---  ------         --------------  ----- \n",
      " 0   id_gpt         4785 non-null   int64 \n",
      " 1   sentiment_gpt  4785 non-null   object\n",
      "dtypes: int64(1), object(1)\n",
      "memory usage: 74.9+ KB\n"
     ]
    }
   ],
   "source": [
    "df_gpt_total = pd.DataFrame(list(zip(id_gpt, sent_gpt)),\n",
    "                            columns = ['id_gpt', 'sentiment_gpt'])\n",
    "df_gpt_total.info()"
   ]
  },
  {
   "cell_type": "code",
   "execution_count": 71,
   "id": "ef24fe3d",
   "metadata": {},
   "outputs": [],
   "source": [
    "df_gpt_total['run'] = 3"
   ]
  },
  {
   "cell_type": "code",
   "execution_count": 72,
   "id": "9386b878-5de3-49d7-b055-a88cea4c6d4b",
   "metadata": {},
   "outputs": [
    {
     "data": {
      "text/html": [
       "<div>\n",
       "<style scoped>\n",
       "    .dataframe tbody tr th:only-of-type {\n",
       "        vertical-align: middle;\n",
       "    }\n",
       "\n",
       "    .dataframe tbody tr th {\n",
       "        vertical-align: top;\n",
       "    }\n",
       "\n",
       "    .dataframe thead th {\n",
       "        text-align: right;\n",
       "    }\n",
       "</style>\n",
       "<table border=\"1\" class=\"dataframe\">\n",
       "  <thead>\n",
       "    <tr style=\"text-align: right;\">\n",
       "      <th></th>\n",
       "      <th>id_gpt</th>\n",
       "      <th>sentiment_gpt</th>\n",
       "      <th>run</th>\n",
       "    </tr>\n",
       "  </thead>\n",
       "  <tbody>\n",
       "    <tr>\n",
       "      <th>4780</th>\n",
       "      <td>4780</td>\n",
       "      <td>\\n\\nNegative</td>\n",
       "      <td>3</td>\n",
       "    </tr>\n",
       "    <tr>\n",
       "      <th>4781</th>\n",
       "      <td>4781</td>\n",
       "      <td>\\n\\npositive</td>\n",
       "      <td>3</td>\n",
       "    </tr>\n",
       "    <tr>\n",
       "      <th>4782</th>\n",
       "      <td>4782</td>\n",
       "      <td>\\n\\nneutral</td>\n",
       "      <td>3</td>\n",
       "    </tr>\n",
       "    <tr>\n",
       "      <th>4783</th>\n",
       "      <td>4783</td>\n",
       "      <td>\\n\\npositive</td>\n",
       "      <td>3</td>\n",
       "    </tr>\n",
       "    <tr>\n",
       "      <th>4784</th>\n",
       "      <td>4784</td>\n",
       "      <td>\\n\\nNeutral</td>\n",
       "      <td>3</td>\n",
       "    </tr>\n",
       "  </tbody>\n",
       "</table>\n",
       "</div>"
      ],
      "text/plain": [
       "      id_gpt sentiment_gpt  run\n",
       "4780    4780  \\n\\nNegative    3\n",
       "4781    4781  \\n\\npositive    3\n",
       "4782    4782   \\n\\nneutral    3\n",
       "4783    4783  \\n\\npositive    3\n",
       "4784    4784   \\n\\nNeutral    3"
      ]
     },
     "execution_count": 72,
     "metadata": {},
     "output_type": "execute_result"
    }
   ],
   "source": [
    "df_gpt_total.tail()"
   ]
  },
  {
   "cell_type": "code",
   "execution_count": 59,
   "id": "d7b69a10",
   "metadata": {},
   "outputs": [
    {
     "name": "stderr",
     "output_type": "stream",
     "text": [
      "C:\\Users\\lespinosa\\AppData\\Local\\Temp\\ipykernel_23560\\3678373193.py:1: FutureWarning: The frame.append method is deprecated and will be removed from pandas in a future version. Use pandas.concat instead.\n",
      "  df_gpt_total_all = df_gpt_total.append(df_gpt_total2)\n"
     ]
    }
   ],
   "source": [
    "#df_gpt_total_all = df_gpt_total.append(df_gpt_total2)"
   ]
  },
  {
   "cell_type": "code",
   "execution_count": 73,
   "id": "ba4e26f3-b7f2-4813-b50a-cb7905e0abe5",
   "metadata": {},
   "outputs": [],
   "source": [
    "df_gpt_total.to_excel('../data/local/gpt_sentiment_mturk_v4.xlsx')\n"
   ]
  },
  {
   "cell_type": "markdown",
   "id": "f618d0e5",
   "metadata": {},
   "source": [
    "# Using two categories for vaccine sentiment"
   ]
  },
  {
   "cell_type": "code",
   "execution_count": 6,
   "id": "ae054d6a",
   "metadata": {},
   "outputs": [
    {
     "data": {
      "text/html": [
       "<div>\n",
       "<style scoped>\n",
       "    .dataframe tbody tr th:only-of-type {\n",
       "        vertical-align: middle;\n",
       "    }\n",
       "\n",
       "    .dataframe tbody tr th {\n",
       "        vertical-align: top;\n",
       "    }\n",
       "\n",
       "    .dataframe thead th {\n",
       "        text-align: right;\n",
       "    }\n",
       "</style>\n",
       "<table border=\"1\" class=\"dataframe\">\n",
       "  <thead>\n",
       "    <tr style=\"text-align: right;\">\n",
       "      <th></th>\n",
       "      <th>index</th>\n",
       "      <th>id</th>\n",
       "      <th>text</th>\n",
       "      <th>label_tag</th>\n",
       "    </tr>\n",
       "  </thead>\n",
       "  <tbody>\n",
       "    <tr>\n",
       "      <th>18</th>\n",
       "      <td>18</td>\n",
       "      <td>1235574994924490752</td>\n",
       "      <td>@user @user I saw #VaxxedII yesterday and I ha...</td>\n",
       "      <td>negative</td>\n",
       "    </tr>\n",
       "    <tr>\n",
       "      <th>22</th>\n",
       "      <td>22</td>\n",
       "      <td>1236451808412909568</td>\n",
       "      <td>Dear anti-vaxxers. If you are legitimately wor...</td>\n",
       "      <td>positive</td>\n",
       "    </tr>\n",
       "    <tr>\n",
       "      <th>26</th>\n",
       "      <td>26</td>\n",
       "      <td>1237492335430250496</td>\n",
       "      <td>@user @user thank you for the vaccine LOL #Wel...</td>\n",
       "      <td>positive</td>\n",
       "    </tr>\n",
       "    <tr>\n",
       "      <th>28</th>\n",
       "      <td>28</td>\n",
       "      <td>1237894709306986496</td>\n",
       "      <td>Remember polio? Killed a lot of people. Vaccin...</td>\n",
       "      <td>positive</td>\n",
       "    </tr>\n",
       "    <tr>\n",
       "      <th>38</th>\n",
       "      <td>38</td>\n",
       "      <td>1239077015250030592</td>\n",
       "      <td>You be ready to pay what this Coronavirus vacc...</td>\n",
       "      <td>negative</td>\n",
       "    </tr>\n",
       "  </tbody>\n",
       "</table>\n",
       "</div>"
      ],
      "text/plain": [
       "    index                   id  \\\n",
       "18     18  1235574994924490752   \n",
       "22     22  1236451808412909568   \n",
       "26     26  1237492335430250496   \n",
       "28     28  1237894709306986496   \n",
       "38     38  1239077015250030592   \n",
       "\n",
       "                                                 text label_tag  \n",
       "18  @user @user I saw #VaxxedII yesterday and I ha...  negative  \n",
       "22  Dear anti-vaxxers. If you are legitimately wor...  positive  \n",
       "26  @user @user thank you for the vaccine LOL #Wel...  positive  \n",
       "28  Remember polio? Killed a lot of people. Vaccin...  positive  \n",
       "38  You be ready to pay what this Coronavirus vacc...  negative  "
      ]
     },
     "execution_count": 6,
     "metadata": {},
     "output_type": "execute_result"
    }
   ],
   "source": [
    "tweets_pos_neg = tweets[tweets['label_tag'].isin(['positive', 'negative'])]\n",
    "tweets_pos_neg.head()"
   ]
  },
  {
   "cell_type": "code",
   "execution_count": 39,
   "id": "00b76182-73e4-45c0-aa71-efa35591b01c",
   "metadata": {},
   "outputs": [
    {
     "data": {
      "text/html": [
       "<div>\n",
       "<style scoped>\n",
       "    .dataframe tbody tr th:only-of-type {\n",
       "        vertical-align: middle;\n",
       "    }\n",
       "\n",
       "    .dataframe tbody tr th {\n",
       "        vertical-align: top;\n",
       "    }\n",
       "\n",
       "    .dataframe thead th {\n",
       "        text-align: right;\n",
       "    }\n",
       "</style>\n",
       "<table border=\"1\" class=\"dataframe\">\n",
       "  <thead>\n",
       "    <tr style=\"text-align: right;\">\n",
       "      <th></th>\n",
       "      <th>index</th>\n",
       "      <th>id</th>\n",
       "      <th>text</th>\n",
       "      <th>label_tag</th>\n",
       "    </tr>\n",
       "  </thead>\n",
       "  <tbody>\n",
       "    <tr>\n",
       "      <th>1</th>\n",
       "      <td>1</td>\n",
       "      <td>1008751928568840192</td>\n",
       "      <td>Great news to see. Hopefully, folks who disput...</td>\n",
       "      <td>positive</td>\n",
       "    </tr>\n",
       "    <tr>\n",
       "      <th>2</th>\n",
       "      <td>2</td>\n",
       "      <td>1008751948957351936</td>\n",
       "      <td>The global community must invest in further re...</td>\n",
       "      <td>positive</td>\n",
       "    </tr>\n",
       "    <tr>\n",
       "      <th>3</th>\n",
       "      <td>3</td>\n",
       "      <td>1008752099222523904</td>\n",
       "      <td>HPV vaccine has almost wiped out infections in...</td>\n",
       "      <td>positive</td>\n",
       "    </tr>\n",
       "    <tr>\n",
       "      <th>4</th>\n",
       "      <td>4</td>\n",
       "      <td>1010156916553736192</td>\n",
       "      <td>So I can catch this shit too and need treatmen...</td>\n",
       "      <td>negative</td>\n",
       "    </tr>\n",
       "    <tr>\n",
       "      <th>5</th>\n",
       "      <td>5</td>\n",
       "      <td>1010157450618601472</td>\n",
       "      <td>Could a #vaccine for #type-1 diabetes be on th...</td>\n",
       "      <td>positive</td>\n",
       "    </tr>\n",
       "  </tbody>\n",
       "</table>\n",
       "</div>"
      ],
      "text/plain": [
       "   index                   id  \\\n",
       "1      1  1008751928568840192   \n",
       "2      2  1008751948957351936   \n",
       "3      3  1008752099222523904   \n",
       "4      4  1010156916553736192   \n",
       "5      5  1010157450618601472   \n",
       "\n",
       "                                                text label_tag  \n",
       "1  Great news to see. Hopefully, folks who disput...  positive  \n",
       "2  The global community must invest in further re...  positive  \n",
       "3  HPV vaccine has almost wiped out infections in...  positive  \n",
       "4  So I can catch this shit too and need treatmen...  negative  \n",
       "5  Could a #vaccine for #type-1 diabetes be on th...  positive  "
      ]
     },
     "execution_count": 39,
     "metadata": {},
     "output_type": "execute_result"
    }
   ],
   "source": [
    "tweets_new_pos_neg = tweets_new[tweets_new['label_tag'].isin(['positive', 'negative'])]\n",
    "tweets_new_pos_neg.head()"
   ]
  },
  {
   "cell_type": "code",
   "execution_count": 42,
   "id": "14e6c624",
   "metadata": {},
   "outputs": [],
   "source": [
    "prompt_raw_pos_neg = \"Please give me the sentiment regarding vaccination in the following tweet: \\\n",
    "\"TWEET_TEXT_HERE\\\"\\nUse one of the following words: negative, positive\""
   ]
  },
  {
   "cell_type": "code",
   "execution_count": 40,
   "id": "b15c9420",
   "metadata": {},
   "outputs": [
    {
     "data": {
      "text/plain": [
       "128"
      ]
     },
     "execution_count": 40,
     "metadata": {},
     "output_type": "execute_result"
    }
   ],
   "source": [
    "len(tweets_new_pos_neg.index)"
   ]
  },
  {
   "cell_type": "code",
   "execution_count": 9,
   "id": "2f726abb",
   "metadata": {},
   "outputs": [
    {
     "data": {
      "text/html": [
       "<div>\n",
       "<style scoped>\n",
       "    .dataframe tbody tr th:only-of-type {\n",
       "        vertical-align: middle;\n",
       "    }\n",
       "\n",
       "    .dataframe tbody tr th {\n",
       "        vertical-align: top;\n",
       "    }\n",
       "\n",
       "    .dataframe thead th {\n",
       "        text-align: right;\n",
       "    }\n",
       "</style>\n",
       "<table border=\"1\" class=\"dataframe\">\n",
       "  <thead>\n",
       "    <tr style=\"text-align: right;\">\n",
       "      <th></th>\n",
       "      <th>index</th>\n",
       "      <th>id</th>\n",
       "      <th>text</th>\n",
       "      <th>label_tag</th>\n",
       "    </tr>\n",
       "  </thead>\n",
       "  <tbody>\n",
       "    <tr>\n",
       "      <th>18</th>\n",
       "      <td>18</td>\n",
       "      <td>1235574994924490752</td>\n",
       "      <td>@user @user I saw #VaxxedII yesterday and I ha...</td>\n",
       "      <td>negative</td>\n",
       "    </tr>\n",
       "    <tr>\n",
       "      <th>22</th>\n",
       "      <td>22</td>\n",
       "      <td>1236451808412909568</td>\n",
       "      <td>Dear anti-vaxxers. If you are legitimately wor...</td>\n",
       "      <td>positive</td>\n",
       "    </tr>\n",
       "  </tbody>\n",
       "</table>\n",
       "</div>"
      ],
      "text/plain": [
       "    index                   id  \\\n",
       "18     18  1235574994924490752   \n",
       "22     22  1236451808412909568   \n",
       "\n",
       "                                                 text label_tag  \n",
       "18  @user @user I saw #VaxxedII yesterday and I ha...  negative  \n",
       "22  Dear anti-vaxxers. If you are legitimately wor...  positive  "
      ]
     },
     "execution_count": 9,
     "metadata": {},
     "output_type": "execute_result"
    }
   ],
   "source": [
    "test = tweets_pos_neg.iloc[0:2, :]\n",
    "test"
   ]
  },
  {
   "cell_type": "code",
   "execution_count": 7,
   "id": "2bcdc70c",
   "metadata": {},
   "outputs": [],
   "source": [
    "tweets_pos_neg1 = tweets_pos_neg.iloc[0:306,:]\n",
    "tweets_pos_neg2 = tweets_pos_neg.iloc[306:601,:]\n",
    "tweets_pos_neg3 = tweets_pos_neg.iloc[601:901, :]\n",
    "tweets_pos_neg4 = tweets_pos_neg.iloc[901:1201, :]\n"
   ]
  },
  {
   "cell_type": "code",
   "execution_count": 103,
   "id": "cfa78bf9",
   "metadata": {},
   "outputs": [],
   "source": [
    "tweets_pos_neg4 = tweets_pos_neg.iloc[901:1201, :]"
   ]
  },
  {
   "cell_type": "code",
   "execution_count": 43,
   "id": "80b65b5e",
   "metadata": {},
   "outputs": [],
   "source": [
    "id_gpt_two = []\n",
    "sent_gpt_two = []"
   ]
  },
  {
   "cell_type": "code",
   "execution_count": 44,
   "id": "48395218",
   "metadata": {},
   "outputs": [],
   "source": [
    "for i in range(0,128):\n",
    "    prompt_two_i = prompt_raw_pos_neg.replace('TWEET_TEXT_HERE', tweets_new_pos_neg.iloc[i,2])\n",
    "    response_two = openai.Completion.create(\n",
    "      model=\"text-davinci-003\",\n",
    "      prompt=prompt_two_i,\n",
    "      temperature=0.7,\n",
    "      max_tokens=256,\n",
    "      top_p=1,\n",
    "      frequency_penalty=0,\n",
    "      presence_penalty=0\n",
    "    )\n",
    "    id_gpt_two.append(tweets_new_pos_neg.iloc[i,0])\n",
    "    sent_gpt_two.append(response_two.choices[0].text)"
   ]
  },
  {
   "cell_type": "code",
   "execution_count": 17,
   "id": "69cfbfaf",
   "metadata": {},
   "outputs": [],
   "source": [
    "prompt_two_1339 = prompt_raw_pos_neg.replace('TWEET_TEXT_HERE', tweets_pos_neg.iloc[1339,2])\n",
    "response_two = openai.Completion.create(\n",
    "      model=\"text-davinci-003\",\n",
    "      prompt=prompt_two_1339,\n",
    "      temperature=0.7,\n",
    "      max_tokens=256,\n",
    "      top_p=1,\n",
    "      frequency_penalty=0,\n",
    "      presence_penalty=0\n",
    "    )\n",
    "id_gpt_two.append(tweets_pos_neg.iloc[1339,0])\n",
    "sent_gpt_two.append(response_two.choices[0].text)"
   ]
  },
  {
   "cell_type": "code",
   "execution_count": 46,
   "id": "bcee3e9d",
   "metadata": {
    "tags": []
   },
   "outputs": [
    {
     "name": "stdout",
     "output_type": "stream",
     "text": [
      "<class 'pandas.core.frame.DataFrame'>\n",
      "RangeIndex: 128 entries, 0 to 127\n",
      "Data columns (total 2 columns):\n",
      " #   Column             Non-Null Count  Dtype \n",
      "---  ------             --------------  ----- \n",
      " 0   id_gpt_two         128 non-null    int64 \n",
      " 1   sentiment_gpt_two  128 non-null    object\n",
      "dtypes: int64(1), object(1)\n",
      "memory usage: 2.1+ KB\n"
     ]
    }
   ],
   "source": [
    "df_two_gpt_total = pd.DataFrame(list(zip(id_gpt_two, sent_gpt_two)),\n",
    "                            columns = ['id_gpt_two', 'sentiment_gpt_two'])\n",
    "df_two_gpt_total.info()"
   ]
  },
  {
   "cell_type": "code",
   "execution_count": 47,
   "id": "c0dd6a82",
   "metadata": {},
   "outputs": [
    {
     "data": {
      "text/html": [
       "<div>\n",
       "<style scoped>\n",
       "    .dataframe tbody tr th:only-of-type {\n",
       "        vertical-align: middle;\n",
       "    }\n",
       "\n",
       "    .dataframe tbody tr th {\n",
       "        vertical-align: top;\n",
       "    }\n",
       "\n",
       "    .dataframe thead th {\n",
       "        text-align: right;\n",
       "    }\n",
       "</style>\n",
       "<table border=\"1\" class=\"dataframe\">\n",
       "  <thead>\n",
       "    <tr style=\"text-align: right;\">\n",
       "      <th></th>\n",
       "      <th>id_gpt_two</th>\n",
       "      <th>sentiment_gpt_two</th>\n",
       "    </tr>\n",
       "  </thead>\n",
       "  <tbody>\n",
       "    <tr>\n",
       "      <th>123</th>\n",
       "      <td>179</td>\n",
       "      <td>, or neutral\\n\\nPositive</td>\n",
       "    </tr>\n",
       "    <tr>\n",
       "      <th>124</th>\n",
       "      <td>180</td>\n",
       "      <td>, or neutral\\n\\nPositive</td>\n",
       "    </tr>\n",
       "    <tr>\n",
       "      <th>125</th>\n",
       "      <td>181</td>\n",
       "      <td>, or neutral\\n\\nNegative</td>\n",
       "    </tr>\n",
       "    <tr>\n",
       "      <th>126</th>\n",
       "      <td>182</td>\n",
       "      <td>, or neutral\\n\\nPositive</td>\n",
       "    </tr>\n",
       "    <tr>\n",
       "      <th>127</th>\n",
       "      <td>184</td>\n",
       "      <td>\\n\\nNegative</td>\n",
       "    </tr>\n",
       "  </tbody>\n",
       "</table>\n",
       "</div>"
      ],
      "text/plain": [
       "     id_gpt_two         sentiment_gpt_two\n",
       "123         179  , or neutral\\n\\nPositive\n",
       "124         180  , or neutral\\n\\nPositive\n",
       "125         181  , or neutral\\n\\nNegative\n",
       "126         182  , or neutral\\n\\nPositive\n",
       "127         184              \\n\\nNegative"
      ]
     },
     "execution_count": 47,
     "metadata": {},
     "output_type": "execute_result"
    }
   ],
   "source": [
    "df_two_gpt_total.tail()"
   ]
  },
  {
   "cell_type": "code",
   "execution_count": 108,
   "id": "304fbd5d",
   "metadata": {},
   "outputs": [],
   "source": [
    "id_gpt13 = id_gpt\n",
    "sent_gpt13 = sent_gpt\n",
    "df_gpt_total13 = df_gpt_total"
   ]
  },
  {
   "cell_type": "code",
   "execution_count": 25,
   "id": "73353eb4",
   "metadata": {},
   "outputs": [
    {
     "name": "stdout",
     "output_type": "stream",
     "text": [
      "<class 'pandas.core.series.Series'>\n"
     ]
    }
   ],
   "source": [
    "#df_gpt_total1.to_csv('../data/local/gpt_sentiment1.csv')\n",
    "df_gpt_total1['sentiment_gpt2'] = df_gpt_total1['sentiment_gpt'].to_string()\n",
    "print(type(df_gpt_total1['sentiment_gpt2']))"
   ]
  },
  {
   "cell_type": "code",
   "execution_count": 30,
   "id": "9c8d28fe",
   "metadata": {},
   "outputs": [],
   "source": [
    "#sent_gpt1.to_csv('../data/local/gpt_sentiment1_only.csv')"
   ]
  },
  {
   "cell_type": "code",
   "execution_count": 48,
   "id": "d3eda4c7",
   "metadata": {},
   "outputs": [],
   "source": [
    "df_two_gpt_total.to_excel('../data/local/gpt_sentiment_new_pos_neg.xlsx')\n"
   ]
  }
 ],
 "metadata": {
  "kernelspec": {
   "display_name": "Python 3 (ipykernel)",
   "language": "python",
   "name": "python3"
  },
  "language_info": {
   "codemirror_mode": {
    "name": "ipython",
    "version": 3
   },
   "file_extension": ".py",
   "mimetype": "text/x-python",
   "name": "python",
   "nbconvert_exporter": "python",
   "pygments_lexer": "ipython3",
   "version": "3.9.12"
  }
 },
 "nbformat": 4,
 "nbformat_minor": 5
}
